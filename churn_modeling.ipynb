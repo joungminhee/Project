{
  "nbformat": 4,
  "nbformat_minor": 0,
  "metadata": {
    "colab": {
      "name": "churn_modeling.ipynb",
      "provenance": [],
      "collapsed_sections": [],
      "mount_file_id": "18xxLJS6TXSdzsiWcoYQN0ozL3h1mAvsh",
      "authorship_tag": "ABX9TyMDXcptQGxxxs3fOjAwEqw8",
      "include_colab_link": true
    },
    "kernelspec": {
      "name": "python3",
      "display_name": "Python 3"
    },
    "language_info": {
      "name": "python"
    }
  },
  "cells": [
    {
      "cell_type": "markdown",
      "metadata": {
        "id": "view-in-github",
        "colab_type": "text"
      },
      "source": [
        "<a href=\"https://colab.research.google.com/github/joungminhee/project/blob/master/churn_modeling.ipynb\" target=\"_parent\"><img src=\"https://colab.research.google.com/assets/colab-badge.svg\" alt=\"Open In Colab\"/></a>"
      ]
    },
    {
      "cell_type": "markdown",
      "source": [
        "# Imports"
      ],
      "metadata": {
        "id": "vIek1cevZiSk"
      }
    },
    {
      "cell_type": "code",
      "source": [
        "import numpy as np\n",
        "import pandas as pd\n",
        "import matplotlib.pyplot as plt\n",
        "import seaborn as sns"
      ],
      "metadata": {
        "id": "mfrsYo_vZg88"
      },
      "execution_count": 855,
      "outputs": []
    },
    {
      "cell_type": "code",
      "execution_count": 856,
      "metadata": {
        "id": "Jiy4v6t6ZGvB"
      },
      "outputs": [],
      "source": [
        "data = '/content/drive/MyDrive/Data/Churn_Modelling.csv'\n",
        "df = pd.read_csv(data)"
      ]
    },
    {
      "cell_type": "code",
      "source": [
        "df.head()"
      ],
      "metadata": {
        "colab": {
          "base_uri": "https://localhost:8080/",
          "height": 270
        },
        "id": "NNZpL7B4Zres",
        "outputId": "1059a09e-50e9-475a-a8c5-9574be3e421f"
      },
      "execution_count": 857,
      "outputs": [
        {
          "output_type": "execute_result",
          "data": {
            "text/plain": [
              "   RowNumber  CustomerId   Surname  CreditScore Geography  Gender  Age  \\\n",
              "0          1    15634602  Hargrave          619    France  Female   42   \n",
              "1          2    15647311      Hill          608     Spain  Female   41   \n",
              "2          3    15619304      Onio          502    France  Female   42   \n",
              "3          4    15701354      Boni          699    France  Female   39   \n",
              "4          5    15737888  Mitchell          850     Spain  Female   43   \n",
              "\n",
              "   Tenure    Balance  NumOfProducts  HasCrCard  IsActiveMember  \\\n",
              "0       2       0.00              1          1               1   \n",
              "1       1   83807.86              1          0               1   \n",
              "2       8  159660.80              3          1               0   \n",
              "3       1       0.00              2          0               0   \n",
              "4       2  125510.82              1          1               1   \n",
              "\n",
              "   EstimatedSalary  Exited  \n",
              "0        101348.88       1  \n",
              "1        112542.58       0  \n",
              "2        113931.57       1  \n",
              "3         93826.63       0  \n",
              "4         79084.10       0  "
            ],
            "text/html": [
              "\n",
              "  <div id=\"df-cc759bc5-e47d-49cb-ac52-a59cae03b96d\">\n",
              "    <div class=\"colab-df-container\">\n",
              "      <div>\n",
              "<style scoped>\n",
              "    .dataframe tbody tr th:only-of-type {\n",
              "        vertical-align: middle;\n",
              "    }\n",
              "\n",
              "    .dataframe tbody tr th {\n",
              "        vertical-align: top;\n",
              "    }\n",
              "\n",
              "    .dataframe thead th {\n",
              "        text-align: right;\n",
              "    }\n",
              "</style>\n",
              "<table border=\"1\" class=\"dataframe\">\n",
              "  <thead>\n",
              "    <tr style=\"text-align: right;\">\n",
              "      <th></th>\n",
              "      <th>RowNumber</th>\n",
              "      <th>CustomerId</th>\n",
              "      <th>Surname</th>\n",
              "      <th>CreditScore</th>\n",
              "      <th>Geography</th>\n",
              "      <th>Gender</th>\n",
              "      <th>Age</th>\n",
              "      <th>Tenure</th>\n",
              "      <th>Balance</th>\n",
              "      <th>NumOfProducts</th>\n",
              "      <th>HasCrCard</th>\n",
              "      <th>IsActiveMember</th>\n",
              "      <th>EstimatedSalary</th>\n",
              "      <th>Exited</th>\n",
              "    </tr>\n",
              "  </thead>\n",
              "  <tbody>\n",
              "    <tr>\n",
              "      <th>0</th>\n",
              "      <td>1</td>\n",
              "      <td>15634602</td>\n",
              "      <td>Hargrave</td>\n",
              "      <td>619</td>\n",
              "      <td>France</td>\n",
              "      <td>Female</td>\n",
              "      <td>42</td>\n",
              "      <td>2</td>\n",
              "      <td>0.00</td>\n",
              "      <td>1</td>\n",
              "      <td>1</td>\n",
              "      <td>1</td>\n",
              "      <td>101348.88</td>\n",
              "      <td>1</td>\n",
              "    </tr>\n",
              "    <tr>\n",
              "      <th>1</th>\n",
              "      <td>2</td>\n",
              "      <td>15647311</td>\n",
              "      <td>Hill</td>\n",
              "      <td>608</td>\n",
              "      <td>Spain</td>\n",
              "      <td>Female</td>\n",
              "      <td>41</td>\n",
              "      <td>1</td>\n",
              "      <td>83807.86</td>\n",
              "      <td>1</td>\n",
              "      <td>0</td>\n",
              "      <td>1</td>\n",
              "      <td>112542.58</td>\n",
              "      <td>0</td>\n",
              "    </tr>\n",
              "    <tr>\n",
              "      <th>2</th>\n",
              "      <td>3</td>\n",
              "      <td>15619304</td>\n",
              "      <td>Onio</td>\n",
              "      <td>502</td>\n",
              "      <td>France</td>\n",
              "      <td>Female</td>\n",
              "      <td>42</td>\n",
              "      <td>8</td>\n",
              "      <td>159660.80</td>\n",
              "      <td>3</td>\n",
              "      <td>1</td>\n",
              "      <td>0</td>\n",
              "      <td>113931.57</td>\n",
              "      <td>1</td>\n",
              "    </tr>\n",
              "    <tr>\n",
              "      <th>3</th>\n",
              "      <td>4</td>\n",
              "      <td>15701354</td>\n",
              "      <td>Boni</td>\n",
              "      <td>699</td>\n",
              "      <td>France</td>\n",
              "      <td>Female</td>\n",
              "      <td>39</td>\n",
              "      <td>1</td>\n",
              "      <td>0.00</td>\n",
              "      <td>2</td>\n",
              "      <td>0</td>\n",
              "      <td>0</td>\n",
              "      <td>93826.63</td>\n",
              "      <td>0</td>\n",
              "    </tr>\n",
              "    <tr>\n",
              "      <th>4</th>\n",
              "      <td>5</td>\n",
              "      <td>15737888</td>\n",
              "      <td>Mitchell</td>\n",
              "      <td>850</td>\n",
              "      <td>Spain</td>\n",
              "      <td>Female</td>\n",
              "      <td>43</td>\n",
              "      <td>2</td>\n",
              "      <td>125510.82</td>\n",
              "      <td>1</td>\n",
              "      <td>1</td>\n",
              "      <td>1</td>\n",
              "      <td>79084.10</td>\n",
              "      <td>0</td>\n",
              "    </tr>\n",
              "  </tbody>\n",
              "</table>\n",
              "</div>\n",
              "      <button class=\"colab-df-convert\" onclick=\"convertToInteractive('df-cc759bc5-e47d-49cb-ac52-a59cae03b96d')\"\n",
              "              title=\"Convert this dataframe to an interactive table.\"\n",
              "              style=\"display:none;\">\n",
              "        \n",
              "  <svg xmlns=\"http://www.w3.org/2000/svg\" height=\"24px\"viewBox=\"0 0 24 24\"\n",
              "       width=\"24px\">\n",
              "    <path d=\"M0 0h24v24H0V0z\" fill=\"none\"/>\n",
              "    <path d=\"M18.56 5.44l.94 2.06.94-2.06 2.06-.94-2.06-.94-.94-2.06-.94 2.06-2.06.94zm-11 1L8.5 8.5l.94-2.06 2.06-.94-2.06-.94L8.5 2.5l-.94 2.06-2.06.94zm10 10l.94 2.06.94-2.06 2.06-.94-2.06-.94-.94-2.06-.94 2.06-2.06.94z\"/><path d=\"M17.41 7.96l-1.37-1.37c-.4-.4-.92-.59-1.43-.59-.52 0-1.04.2-1.43.59L10.3 9.45l-7.72 7.72c-.78.78-.78 2.05 0 2.83L4 21.41c.39.39.9.59 1.41.59.51 0 1.02-.2 1.41-.59l7.78-7.78 2.81-2.81c.8-.78.8-2.07 0-2.86zM5.41 20L4 18.59l7.72-7.72 1.47 1.35L5.41 20z\"/>\n",
              "  </svg>\n",
              "      </button>\n",
              "      \n",
              "  <style>\n",
              "    .colab-df-container {\n",
              "      display:flex;\n",
              "      flex-wrap:wrap;\n",
              "      gap: 12px;\n",
              "    }\n",
              "\n",
              "    .colab-df-convert {\n",
              "      background-color: #E8F0FE;\n",
              "      border: none;\n",
              "      border-radius: 50%;\n",
              "      cursor: pointer;\n",
              "      display: none;\n",
              "      fill: #1967D2;\n",
              "      height: 32px;\n",
              "      padding: 0 0 0 0;\n",
              "      width: 32px;\n",
              "    }\n",
              "\n",
              "    .colab-df-convert:hover {\n",
              "      background-color: #E2EBFA;\n",
              "      box-shadow: 0px 1px 2px rgba(60, 64, 67, 0.3), 0px 1px 3px 1px rgba(60, 64, 67, 0.15);\n",
              "      fill: #174EA6;\n",
              "    }\n",
              "\n",
              "    [theme=dark] .colab-df-convert {\n",
              "      background-color: #3B4455;\n",
              "      fill: #D2E3FC;\n",
              "    }\n",
              "\n",
              "    [theme=dark] .colab-df-convert:hover {\n",
              "      background-color: #434B5C;\n",
              "      box-shadow: 0px 1px 3px 1px rgba(0, 0, 0, 0.15);\n",
              "      filter: drop-shadow(0px 1px 2px rgba(0, 0, 0, 0.3));\n",
              "      fill: #FFFFFF;\n",
              "    }\n",
              "  </style>\n",
              "\n",
              "      <script>\n",
              "        const buttonEl =\n",
              "          document.querySelector('#df-cc759bc5-e47d-49cb-ac52-a59cae03b96d button.colab-df-convert');\n",
              "        buttonEl.style.display =\n",
              "          google.colab.kernel.accessAllowed ? 'block' : 'none';\n",
              "\n",
              "        async function convertToInteractive(key) {\n",
              "          const element = document.querySelector('#df-cc759bc5-e47d-49cb-ac52-a59cae03b96d');\n",
              "          const dataTable =\n",
              "            await google.colab.kernel.invokeFunction('convertToInteractive',\n",
              "                                                     [key], {});\n",
              "          if (!dataTable) return;\n",
              "\n",
              "          const docLinkHtml = 'Like what you see? Visit the ' +\n",
              "            '<a target=\"_blank\" href=https://colab.research.google.com/notebooks/data_table.ipynb>data table notebook</a>'\n",
              "            + ' to learn more about interactive tables.';\n",
              "          element.innerHTML = '';\n",
              "          dataTable['output_type'] = 'display_data';\n",
              "          await google.colab.output.renderOutput(dataTable, element);\n",
              "          const docLink = document.createElement('div');\n",
              "          docLink.innerHTML = docLinkHtml;\n",
              "          element.appendChild(docLink);\n",
              "        }\n",
              "      </script>\n",
              "    </div>\n",
              "  </div>\n",
              "  "
            ]
          },
          "metadata": {},
          "execution_count": 857
        }
      ]
    },
    {
      "cell_type": "code",
      "source": [
        "df.info()"
      ],
      "metadata": {
        "colab": {
          "base_uri": "https://localhost:8080/"
        },
        "id": "x0PcWYRgZtco",
        "outputId": "a9dc5eae-183c-4e8a-b2c6-61e879e6c820"
      },
      "execution_count": 858,
      "outputs": [
        {
          "output_type": "stream",
          "name": "stdout",
          "text": [
            "<class 'pandas.core.frame.DataFrame'>\n",
            "RangeIndex: 10000 entries, 0 to 9999\n",
            "Data columns (total 14 columns):\n",
            " #   Column           Non-Null Count  Dtype  \n",
            "---  ------           --------------  -----  \n",
            " 0   RowNumber        10000 non-null  int64  \n",
            " 1   CustomerId       10000 non-null  int64  \n",
            " 2   Surname          10000 non-null  object \n",
            " 3   CreditScore      10000 non-null  int64  \n",
            " 4   Geography        10000 non-null  object \n",
            " 5   Gender           10000 non-null  object \n",
            " 6   Age              10000 non-null  int64  \n",
            " 7   Tenure           10000 non-null  int64  \n",
            " 8   Balance          10000 non-null  float64\n",
            " 9   NumOfProducts    10000 non-null  int64  \n",
            " 10  HasCrCard        10000 non-null  int64  \n",
            " 11  IsActiveMember   10000 non-null  int64  \n",
            " 12  EstimatedSalary  10000 non-null  float64\n",
            " 13  Exited           10000 non-null  int64  \n",
            "dtypes: float64(2), int64(9), object(3)\n",
            "memory usage: 1.1+ MB\n"
          ]
        }
      ]
    },
    {
      "cell_type": "code",
      "source": [
        "df.isnull().sum()"
      ],
      "metadata": {
        "colab": {
          "base_uri": "https://localhost:8080/"
        },
        "id": "tR6UW_FfatmA",
        "outputId": "5b29e1dd-a74f-4271-b6e1-ebda2236fc84"
      },
      "execution_count": 859,
      "outputs": [
        {
          "output_type": "execute_result",
          "data": {
            "text/plain": [
              "RowNumber          0\n",
              "CustomerId         0\n",
              "Surname            0\n",
              "CreditScore        0\n",
              "Geography          0\n",
              "Gender             0\n",
              "Age                0\n",
              "Tenure             0\n",
              "Balance            0\n",
              "NumOfProducts      0\n",
              "HasCrCard          0\n",
              "IsActiveMember     0\n",
              "EstimatedSalary    0\n",
              "Exited             0\n",
              "dtype: int64"
            ]
          },
          "metadata": {},
          "execution_count": 859
        }
      ]
    },
    {
      "cell_type": "code",
      "source": [
        "df.CreditScore.unique() # 앞번호대로 구간화 / age도 구간화해야징~!"
      ],
      "metadata": {
        "colab": {
          "base_uri": "https://localhost:8080/"
        },
        "id": "ZWClkm_Natjg",
        "outputId": "b3c5155a-41a1-4e98-8161-b81b118f8d9f"
      },
      "execution_count": 860,
      "outputs": [
        {
          "output_type": "execute_result",
          "data": {
            "text/plain": [
              "array([619, 608, 502, 699, 850, 645, 822, 376, 501, 684, 528, 497, 476,\n",
              "       549, 635, 616, 653, 587, 726, 732, 636, 510, 669, 846, 577, 756,\n",
              "       571, 574, 411, 591, 533, 553, 520, 722, 475, 490, 804, 582, 472,\n",
              "       465, 556, 834, 660, 776, 829, 637, 550, 698, 585, 788, 655, 601,\n",
              "       656, 725, 511, 614, 742, 687, 555, 603, 751, 581, 735, 661, 675,\n",
              "       738, 813, 657, 604, 519, 664, 678, 757, 416, 665, 777, 543, 506,\n",
              "       493, 652, 750, 729, 646, 647, 808, 524, 769, 730, 515, 773, 814,\n",
              "       710, 413, 623, 670, 622, 785, 605, 479, 685, 538, 562, 721, 628,\n",
              "       668, 828, 674, 625, 432, 770, 758, 795, 686, 789, 589, 461, 584,\n",
              "       579, 663, 682, 793, 691, 485, 650, 754, 535, 716, 539, 706, 586,\n",
              "       631, 717, 800, 683, 704, 615, 667, 484, 480, 578, 512, 606, 597,\n",
              "       778, 514, 525, 715, 580, 807, 521, 759, 516, 711, 618, 643, 671,\n",
              "       689, 620, 676, 572, 695, 592, 567, 694, 547, 594, 673, 610, 767,\n",
              "       763, 712, 703, 662, 659, 523, 772, 545, 634, 739, 771, 681, 544,\n",
              "       696, 766, 727, 693, 557, 531, 498, 651, 791, 733, 811, 707, 714,\n",
              "       782, 775, 799, 602, 744, 588, 747, 583, 627, 731, 629, 438, 642,\n",
              "       806, 474, 559, 429, 680, 749, 734, 644, 626, 649, 805, 718, 840,\n",
              "       630, 654, 762, 568, 613, 522, 737, 648, 443, 640, 540, 460, 593,\n",
              "       801, 611, 802, 745, 483, 690, 492, 709, 705, 560, 752, 701, 537,\n",
              "       487, 596, 702, 486, 724, 548, 464, 790, 534, 748, 494, 590, 468,\n",
              "       509, 818, 816, 536, 753, 774, 621, 569, 658, 798, 641, 542, 692,\n",
              "       639, 765, 570, 638, 599, 632, 779, 527, 564, 833, 504, 842, 508,\n",
              "       417, 598, 741, 607, 761, 848, 546, 439, 755, 760, 526, 713, 700,\n",
              "       666, 566, 495, 688, 612, 477, 427, 839, 819, 720, 459, 503, 624,\n",
              "       529, 563, 482, 796, 445, 746, 786, 554, 672, 787, 499, 844, 450,\n",
              "       815, 838, 803, 736, 633, 600, 679, 517, 792, 743, 488, 421, 841,\n",
              "       708, 507, 505, 456, 435, 561, 518, 565, 728, 784, 552, 609, 764,\n",
              "       697, 723, 551, 444, 719, 496, 541, 830, 812, 677, 420, 595, 617,\n",
              "       809, 500, 826, 434, 513, 478, 797, 363, 399, 463, 780, 452, 575,\n",
              "       837, 794, 824, 428, 823, 781, 849, 489, 431, 457, 768, 831, 359,\n",
              "       820, 573, 576, 558, 817, 449, 440, 415, 821, 530, 350, 446, 425,\n",
              "       740, 481, 783, 358, 845, 451, 458, 469, 423, 404, 836, 473, 835,\n",
              "       466, 491, 351, 827, 843, 365, 532, 414, 453, 471, 401, 810, 832,\n",
              "       470, 447, 422, 825, 430, 436, 426, 408, 847, 418, 437, 410, 454,\n",
              "       407, 455, 462, 386, 405, 383, 395, 467, 433, 442, 424, 448, 441,\n",
              "       367, 412, 382, 373, 419])"
            ]
          },
          "metadata": {},
          "execution_count": 860
        }
      ]
    },
    {
      "cell_type": "code",
      "source": [
        "df.Geography.unique()"
      ],
      "metadata": {
        "colab": {
          "base_uri": "https://localhost:8080/"
        },
        "id": "yBvUYn8matXz",
        "outputId": "9eb7218b-31b1-4070-a070-0f722b2429e6"
      },
      "execution_count": 861,
      "outputs": [
        {
          "output_type": "execute_result",
          "data": {
            "text/plain": [
              "array(['France', 'Spain', 'Germany'], dtype=object)"
            ]
          },
          "metadata": {},
          "execution_count": 861
        }
      ]
    },
    {
      "cell_type": "code",
      "source": [
        "df.describe(include='object')\n",
        "# 스미스 이름 빈도수가 32개나 됨"
      ],
      "metadata": {
        "colab": {
          "base_uri": "https://localhost:8080/",
          "height": 175
        },
        "id": "dJXAU-TEbe1i",
        "outputId": "0fcd6f1c-4efc-482f-9104-a3bba983f277"
      },
      "execution_count": 862,
      "outputs": [
        {
          "output_type": "execute_result",
          "data": {
            "text/plain": [
              "       Surname Geography Gender\n",
              "count    10000     10000  10000\n",
              "unique    2932         3      2\n",
              "top      Smith    France   Male\n",
              "freq        32      5014   5457"
            ],
            "text/html": [
              "\n",
              "  <div id=\"df-3a39ea6e-2ca8-418b-aacf-2c27d019c45e\">\n",
              "    <div class=\"colab-df-container\">\n",
              "      <div>\n",
              "<style scoped>\n",
              "    .dataframe tbody tr th:only-of-type {\n",
              "        vertical-align: middle;\n",
              "    }\n",
              "\n",
              "    .dataframe tbody tr th {\n",
              "        vertical-align: top;\n",
              "    }\n",
              "\n",
              "    .dataframe thead th {\n",
              "        text-align: right;\n",
              "    }\n",
              "</style>\n",
              "<table border=\"1\" class=\"dataframe\">\n",
              "  <thead>\n",
              "    <tr style=\"text-align: right;\">\n",
              "      <th></th>\n",
              "      <th>Surname</th>\n",
              "      <th>Geography</th>\n",
              "      <th>Gender</th>\n",
              "    </tr>\n",
              "  </thead>\n",
              "  <tbody>\n",
              "    <tr>\n",
              "      <th>count</th>\n",
              "      <td>10000</td>\n",
              "      <td>10000</td>\n",
              "      <td>10000</td>\n",
              "    </tr>\n",
              "    <tr>\n",
              "      <th>unique</th>\n",
              "      <td>2932</td>\n",
              "      <td>3</td>\n",
              "      <td>2</td>\n",
              "    </tr>\n",
              "    <tr>\n",
              "      <th>top</th>\n",
              "      <td>Smith</td>\n",
              "      <td>France</td>\n",
              "      <td>Male</td>\n",
              "    </tr>\n",
              "    <tr>\n",
              "      <th>freq</th>\n",
              "      <td>32</td>\n",
              "      <td>5014</td>\n",
              "      <td>5457</td>\n",
              "    </tr>\n",
              "  </tbody>\n",
              "</table>\n",
              "</div>\n",
              "      <button class=\"colab-df-convert\" onclick=\"convertToInteractive('df-3a39ea6e-2ca8-418b-aacf-2c27d019c45e')\"\n",
              "              title=\"Convert this dataframe to an interactive table.\"\n",
              "              style=\"display:none;\">\n",
              "        \n",
              "  <svg xmlns=\"http://www.w3.org/2000/svg\" height=\"24px\"viewBox=\"0 0 24 24\"\n",
              "       width=\"24px\">\n",
              "    <path d=\"M0 0h24v24H0V0z\" fill=\"none\"/>\n",
              "    <path d=\"M18.56 5.44l.94 2.06.94-2.06 2.06-.94-2.06-.94-.94-2.06-.94 2.06-2.06.94zm-11 1L8.5 8.5l.94-2.06 2.06-.94-2.06-.94L8.5 2.5l-.94 2.06-2.06.94zm10 10l.94 2.06.94-2.06 2.06-.94-2.06-.94-.94-2.06-.94 2.06-2.06.94z\"/><path d=\"M17.41 7.96l-1.37-1.37c-.4-.4-.92-.59-1.43-.59-.52 0-1.04.2-1.43.59L10.3 9.45l-7.72 7.72c-.78.78-.78 2.05 0 2.83L4 21.41c.39.39.9.59 1.41.59.51 0 1.02-.2 1.41-.59l7.78-7.78 2.81-2.81c.8-.78.8-2.07 0-2.86zM5.41 20L4 18.59l7.72-7.72 1.47 1.35L5.41 20z\"/>\n",
              "  </svg>\n",
              "      </button>\n",
              "      \n",
              "  <style>\n",
              "    .colab-df-container {\n",
              "      display:flex;\n",
              "      flex-wrap:wrap;\n",
              "      gap: 12px;\n",
              "    }\n",
              "\n",
              "    .colab-df-convert {\n",
              "      background-color: #E8F0FE;\n",
              "      border: none;\n",
              "      border-radius: 50%;\n",
              "      cursor: pointer;\n",
              "      display: none;\n",
              "      fill: #1967D2;\n",
              "      height: 32px;\n",
              "      padding: 0 0 0 0;\n",
              "      width: 32px;\n",
              "    }\n",
              "\n",
              "    .colab-df-convert:hover {\n",
              "      background-color: #E2EBFA;\n",
              "      box-shadow: 0px 1px 2px rgba(60, 64, 67, 0.3), 0px 1px 3px 1px rgba(60, 64, 67, 0.15);\n",
              "      fill: #174EA6;\n",
              "    }\n",
              "\n",
              "    [theme=dark] .colab-df-convert {\n",
              "      background-color: #3B4455;\n",
              "      fill: #D2E3FC;\n",
              "    }\n",
              "\n",
              "    [theme=dark] .colab-df-convert:hover {\n",
              "      background-color: #434B5C;\n",
              "      box-shadow: 0px 1px 3px 1px rgba(0, 0, 0, 0.15);\n",
              "      filter: drop-shadow(0px 1px 2px rgba(0, 0, 0, 0.3));\n",
              "      fill: #FFFFFF;\n",
              "    }\n",
              "  </style>\n",
              "\n",
              "      <script>\n",
              "        const buttonEl =\n",
              "          document.querySelector('#df-3a39ea6e-2ca8-418b-aacf-2c27d019c45e button.colab-df-convert');\n",
              "        buttonEl.style.display =\n",
              "          google.colab.kernel.accessAllowed ? 'block' : 'none';\n",
              "\n",
              "        async function convertToInteractive(key) {\n",
              "          const element = document.querySelector('#df-3a39ea6e-2ca8-418b-aacf-2c27d019c45e');\n",
              "          const dataTable =\n",
              "            await google.colab.kernel.invokeFunction('convertToInteractive',\n",
              "                                                     [key], {});\n",
              "          if (!dataTable) return;\n",
              "\n",
              "          const docLinkHtml = 'Like what you see? Visit the ' +\n",
              "            '<a target=\"_blank\" href=https://colab.research.google.com/notebooks/data_table.ipynb>data table notebook</a>'\n",
              "            + ' to learn more about interactive tables.';\n",
              "          element.innerHTML = '';\n",
              "          dataTable['output_type'] = 'display_data';\n",
              "          await google.colab.output.renderOutput(dataTable, element);\n",
              "          const docLink = document.createElement('div');\n",
              "          docLink.innerHTML = docLinkHtml;\n",
              "          element.appendChild(docLink);\n",
              "        }\n",
              "      </script>\n",
              "    </div>\n",
              "  </div>\n",
              "  "
            ]
          },
          "metadata": {},
          "execution_count": 862
        }
      ]
    },
    {
      "cell_type": "markdown",
      "source": [
        "# 데이터 탐색"
      ],
      "metadata": {
        "id": "sBjJvdfbcbhD"
      }
    },
    {
      "cell_type": "code",
      "source": [
        "# 이탈율 확인\n",
        "exited_plt = sns.countplot(x=df.Exited)\n",
        "exited_plt.set_title('count of exited')\n",
        "exited_plt.set_xticklabels(['No','Yes'])\n",
        "# 눈금 이름 설정하기 : set_xticklabels(), set_yticklabels()\n",
        "plt.show()"
      ],
      "metadata": {
        "colab": {
          "base_uri": "https://localhost:8080/",
          "height": 295
        },
        "id": "Su9p6nrVlNbz",
        "outputId": "e99af751-a91e-4deb-8b04-0b3031edc4b7"
      },
      "execution_count": 863,
      "outputs": [
        {
          "output_type": "display_data",
          "data": {
            "text/plain": [
              "<Figure size 432x288 with 1 Axes>"
            ],
            "image/png": "[encoded data removed]"
          },
          "metadata": {
            "needs_background": "light"
          }
        }
      ]
    },
    {
      "cell_type": "code",
      "source": [
        "sns.boxplot(data=df['Balance'])\n",
        "plt.show() \n",
        "# 이상치 없음 확인"
      ],
      "metadata": {
        "colab": {
          "base_uri": "https://localhost:8080/",
          "height": 265
        },
        "id": "eTJcK8irbkAL",
        "outputId": "34fcc672-6efa-414e-e9ff-165db62aef42"
      },
      "execution_count": 864,
      "outputs": [
        {
          "output_type": "display_data",
          "data": {
            "text/plain": [
              "<Figure size 432x288 with 1 Axes>"
            ],
            "image/png": "[encoded data removed]"
          },
          "metadata": {
            "needs_background": "light"
          }
        }
      ]
    },
    {
      "cell_type": "code",
      "source": [
        "sns.boxplot(data=df['EstimatedSalary'])\n",
        "plt.show() \n",
        "# 이상치 없음 확인"
      ],
      "metadata": {
        "colab": {
          "base_uri": "https://localhost:8080/",
          "height": 265
        },
        "id": "yN-24KTGcPU7",
        "outputId": "53b41582-d23e-4054-a32d-f4f5a062fb89"
      },
      "execution_count": 865,
      "outputs": [
        {
          "output_type": "display_data",
          "data": {
            "text/plain": [
              "<Figure size 432x288 with 1 Axes>"
            ],
            "image/png": "[encoded data removed]"
          },
          "metadata": {
            "needs_background": "light"
          }
        }
      ]
    },
    {
      "cell_type": "code",
      "source": [
        "# 성별 이탈율 확인\n",
        "df.groupby('Exited')['Gender'].value_counts()"
      ],
      "metadata": {
        "colab": {
          "base_uri": "https://localhost:8080/"
        },
        "id": "snGy4d6jeqoP",
        "outputId": "c2f3aaa9-08f5-4aee-9c59-c77615fb5d5e"
      },
      "execution_count": 866,
      "outputs": [
        {
          "output_type": "execute_result",
          "data": {
            "text/plain": [
              "Exited  Gender\n",
              "0       Male      4559\n",
              "        Female    3404\n",
              "1       Female    1139\n",
              "        Male       898\n",
              "Name: Gender, dtype: int64"
            ]
          },
          "metadata": {},
          "execution_count": 866
        }
      ]
    },
    {
      "cell_type": "code",
      "source": [
        "sns.barplot(x=df['Gender'], y=df['Exited'], data=df,ci=None)\n",
        "plt.title('Gender of Exited')\n",
        "plt.show()\n",
        "# 여자가 남자보다 이탈율이 높음"
      ],
      "metadata": {
        "colab": {
          "base_uri": "https://localhost:8080/",
          "height": 295
        },
        "id": "QfNmEVmvcPNz",
        "outputId": "f6a8523d-5b4d-416d-d724-07e60a5e6a14"
      },
      "execution_count": 867,
      "outputs": [
        {
          "output_type": "display_data",
          "data": {
            "text/plain": [
              "<Figure size 432x288 with 1 Axes>"
            ],
            "image/png": "[encoded data removed]"
          },
          "metadata": {
            "needs_background": "light"
          }
        }
      ]
    },
    {
      "cell_type": "code",
      "source": [
        "sns.barplot(x= 'Geography', y=\"Exited\", data=df, ci=None)\n",
        "plt.show()\n",
        "# 독일 이탈율이 프랑스와 스페인보다 높음 확인"
      ],
      "metadata": {
        "colab": {
          "base_uri": "https://localhost:8080/",
          "height": 279
        },
        "id": "Ib3d_5YLczXm",
        "outputId": "d47d1316-a25b-4248-cfc4-d7b3e2da36b6"
      },
      "execution_count": 868,
      "outputs": [
        {
          "output_type": "display_data",
          "data": {
            "text/plain": [
              "<Figure size 432x288 with 1 Axes>"
            ],
            "image/png": "[encoded data removed]"
          },
          "metadata": {
            "needs_background": "light"
          }
        }
      ]
    },
    {
      "cell_type": "code",
      "source": [
        "plt.figure(figsize=(12,8))\n",
        "cor = df.corr()\n",
        "sns.heatmap(cor, annot=True, cmap='viridis')\n",
        "plt.show()\n",
        "# 이탈율 상관관계 그래프"
      ],
      "metadata": {
        "colab": {
          "base_uri": "https://localhost:8080/",
          "height": 559
        },
        "id": "SuU8vL7BhhO5",
        "outputId": "3bd4bfcb-566c-46e1-fad1-ccd57ab5fdad"
      },
      "execution_count": 869,
      "outputs": [
        {
          "output_type": "display_data",
          "data": {
            "text/plain": [
              "<Figure size 864x576 with 2 Axes>"
            ],
            "image/png": "[encoded data removed]"
          },
          "metadata": {
            "needs_background": "light"
          }
        }
      ]
    },
    {
      "cell_type": "code",
      "source": [
        "# 회사와 오래 있었던 사람들의 이탈율 확인\n",
        "df.groupby('Exited')['Tenure'].value_counts()"
      ],
      "metadata": {
        "colab": {
          "base_uri": "https://localhost:8080/"
        },
        "id": "lA9i_QYunDP0",
        "outputId": "b725fa5b-7ada-4e19-b687-c44124cf13aa"
      },
      "execution_count": 870,
      "outputs": [
        {
          "output_type": "execute_result",
          "data": {
            "text/plain": [
              "Exited  Tenure\n",
              "0       7         851\n",
              "        2         847\n",
              "        8         828\n",
              "        1         803\n",
              "        5         803\n",
              "        3         796\n",
              "        4         786\n",
              "        6         771\n",
              "        9         771\n",
              "        10        389\n",
              "        0         318\n",
              "1       1         232\n",
              "        3         213\n",
              "        9         213\n",
              "        5         209\n",
              "        4         203\n",
              "        2         201\n",
              "        8         197\n",
              "        6         196\n",
              "        7         177\n",
              "        10        101\n",
              "        0          95\n",
              "Name: Tenure, dtype: int64"
            ]
          },
          "metadata": {},
          "execution_count": 870
        }
      ]
    },
    {
      "cell_type": "code",
      "source": [
        "plt.figure(figsize=(12,8))\n",
        "sns.catplot(x='Tenure', y='Exited',\n",
        "            data=df,kind='bar', ci=None)\n",
        "plt.title('Exited of Tenure')\n",
        "plt.subplots_adjust(top=1.2)\n",
        "plt.grid()\n",
        "plt.show()"
      ],
      "metadata": {
        "colab": {
          "base_uri": "https://localhost:8080/",
          "height": 486
        },
        "id": "baDN67qarLvX",
        "outputId": "06bf3b2c-5c97-4c24-9214-c331f96471eb"
      },
      "execution_count": 871,
      "outputs": [
        {
          "output_type": "display_data",
          "data": {
            "text/plain": [
              "<Figure size 864x576 with 0 Axes>"
            ]
          },
          "metadata": {}
        },
        {
          "output_type": "display_data",
          "data": {
            "text/plain": [
              "<Figure size 360x360 with 1 Axes>"
            ],
            "image/png": "[encoded data removed]"
          },
          "metadata": {
            "needs_background": "light"
          }
        }
      ]
    },
    {
      "cell_type": "code",
      "source": [
        "from matplotlib.gridspec import GridSpec\n",
        "# 히스토그램과 박스플랏 합쳐서 시각화하기\n",
        "colors = ['lightcoral','deepskyblue',\n",
        "          'orchid',    'tomato',\n",
        "          'teal',      'darkcyan',\n",
        "          'limegreen', 'darkorange']\n",
        "\n",
        "def distribution_plt(column, title):\n",
        "    fig = plt.figure(figsize=(12,8))\n",
        "    grid = GridSpec(2,1, figure=fig)\n",
        "    # 여러 그래프 한번에 그리기\n",
        "    color = np.random.choice(colors,1)[0]\n",
        "\n",
        "    ax0 = fig.add_subplot(grid[0,:])\n",
        "    ax0.set_title(f'Histogram and boxplot of {title}')\n",
        "    sns.histplot(column, ax=ax0, color=color)\n",
        "\n",
        "    ax1 = fig.add_subplot(grid[1,:])\n",
        "    plt.axis('off')\n",
        "    sns.boxplot(x=column, ax=ax1, color=color)"
      ],
      "metadata": {
        "id": "iS5Q9k2lw5xU"
      },
      "execution_count": 872,
      "outputs": []
    },
    {
      "cell_type": "code",
      "source": [
        "distribution_plt(df.CreditScore, 'CreditScore')"
      ],
      "metadata": {
        "colab": {
          "base_uri": "https://localhost:8080/",
          "height": 482
        },
        "id": "ORDs2hhYnhU1",
        "outputId": "2b2226a0-d7f0-4bc6-ad81-3363989054a9"
      },
      "execution_count": 873,
      "outputs": [
        {
          "output_type": "display_data",
          "data": {
            "text/plain": [
              "<Figure size 864x576 with 2 Axes>"
            ],
            "image/png": "[encoded data removed]"
          },
          "metadata": {
            "needs_background": "light"
          }
        }
      ]
    },
    {
      "cell_type": "code",
      "source": [
        "credit = df[['CreditScore','Exited']]\n",
        "credit"
      ],
      "metadata": {
        "colab": {
          "base_uri": "https://localhost:8080/",
          "height": 424
        },
        "id": "b7hV_35kYNeC",
        "outputId": "79930ecf-e85e-4230-83ad-0f7ecaaa2bab"
      },
      "execution_count": 874,
      "outputs": [
        {
          "output_type": "execute_result",
          "data": {
            "text/plain": [
              "      CreditScore  Exited\n",
              "0             619       1\n",
              "1             608       0\n",
              "2             502       1\n",
              "3             699       0\n",
              "4             850       0\n",
              "...           ...     ...\n",
              "9995          771       0\n",
              "9996          516       0\n",
              "9997          709       1\n",
              "9998          772       1\n",
              "9999          792       0\n",
              "\n",
              "[10000 rows x 2 columns]"
            ],
            "text/html": [
              "\n",
              "  <div id=\"df-1edd9461-4ea3-48f5-a2b3-9445e1d3f9b4\">\n",
              "    <div class=\"colab-df-container\">\n",
              "      <div>\n",
              "<style scoped>\n",
              "    .dataframe tbody tr th:only-of-type {\n",
              "        vertical-align: middle;\n",
              "    }\n",
              "\n",
              "    .dataframe tbody tr th {\n",
              "        vertical-align: top;\n",
              "    }\n",
              "\n",
              "    .dataframe thead th {\n",
              "        text-align: right;\n",
              "    }\n",
              "</style>\n",
              "<table border=\"1\" class=\"dataframe\">\n",
              "  <thead>\n",
              "    <tr style=\"text-align: right;\">\n",
              "      <th></th>\n",
              "      <th>CreditScore</th>\n",
              "      <th>Exited</th>\n",
              "    </tr>\n",
              "  </thead>\n",
              "  <tbody>\n",
              "    <tr>\n",
              "      <th>0</th>\n",
              "      <td>619</td>\n",
              "      <td>1</td>\n",
              "    </tr>\n",
              "    <tr>\n",
              "      <th>1</th>\n",
              "      <td>608</td>\n",
              "      <td>0</td>\n",
              "    </tr>\n",
              "    <tr>\n",
              "      <th>2</th>\n",
              "      <td>502</td>\n",
              "      <td>1</td>\n",
              "    </tr>\n",
              "    <tr>\n",
              "      <th>3</th>\n",
              "      <td>699</td>\n",
              "      <td>0</td>\n",
              "    </tr>\n",
              "    <tr>\n",
              "      <th>4</th>\n",
              "      <td>850</td>\n",
              "      <td>0</td>\n",
              "    </tr>\n",
              "    <tr>\n",
              "      <th>...</th>\n",
              "      <td>...</td>\n",
              "      <td>...</td>\n",
              "    </tr>\n",
              "    <tr>\n",
              "      <th>9995</th>\n",
              "      <td>771</td>\n",
              "      <td>0</td>\n",
              "    </tr>\n",
              "    <tr>\n",
              "      <th>9996</th>\n",
              "      <td>516</td>\n",
              "      <td>0</td>\n",
              "    </tr>\n",
              "    <tr>\n",
              "      <th>9997</th>\n",
              "      <td>709</td>\n",
              "      <td>1</td>\n",
              "    </tr>\n",
              "    <tr>\n",
              "      <th>9998</th>\n",
              "      <td>772</td>\n",
              "      <td>1</td>\n",
              "    </tr>\n",
              "    <tr>\n",
              "      <th>9999</th>\n",
              "      <td>792</td>\n",
              "      <td>0</td>\n",
              "    </tr>\n",
              "  </tbody>\n",
              "</table>\n",
              "<p>10000 rows × 2 columns</p>\n",
              "</div>\n",
              "      <button class=\"colab-df-convert\" onclick=\"convertToInteractive('df-1edd9461-4ea3-48f5-a2b3-9445e1d3f9b4')\"\n",
              "              title=\"Convert this dataframe to an interactive table.\"\n",
              "              style=\"display:none;\">\n",
              "        \n",
              "  <svg xmlns=\"http://www.w3.org/2000/svg\" height=\"24px\"viewBox=\"0 0 24 24\"\n",
              "       width=\"24px\">\n",
              "    <path d=\"M0 0h24v24H0V0z\" fill=\"none\"/>\n",
              "    <path d=\"M18.56 5.44l.94 2.06.94-2.06 2.06-.94-2.06-.94-.94-2.06-.94 2.06-2.06.94zm-11 1L8.5 8.5l.94-2.06 2.06-.94-2.06-.94L8.5 2.5l-.94 2.06-2.06.94zm10 10l.94 2.06.94-2.06 2.06-.94-2.06-.94-.94-2.06-.94 2.06-2.06.94z\"/><path d=\"M17.41 7.96l-1.37-1.37c-.4-.4-.92-.59-1.43-.59-.52 0-1.04.2-1.43.59L10.3 9.45l-7.72 7.72c-.78.78-.78 2.05 0 2.83L4 21.41c.39.39.9.59 1.41.59.51 0 1.02-.2 1.41-.59l7.78-7.78 2.81-2.81c.8-.78.8-2.07 0-2.86zM5.41 20L4 18.59l7.72-7.72 1.47 1.35L5.41 20z\"/>\n",
              "  </svg>\n",
              "      </button>\n",
              "      \n",
              "  <style>\n",
              "    .colab-df-container {\n",
              "      display:flex;\n",
              "      flex-wrap:wrap;\n",
              "      gap: 12px;\n",
              "    }\n",
              "\n",
              "    .colab-df-convert {\n",
              "      background-color: #E8F0FE;\n",
              "      border: none;\n",
              "      border-radius: 50%;\n",
              "      cursor: pointer;\n",
              "      display: none;\n",
              "      fill: #1967D2;\n",
              "      height: 32px;\n",
              "      padding: 0 0 0 0;\n",
              "      width: 32px;\n",
              "    }\n",
              "\n",
              "    .colab-df-convert:hover {\n",
              "      background-color: #E2EBFA;\n",
              "      box-shadow: 0px 1px 2px rgba(60, 64, 67, 0.3), 0px 1px 3px 1px rgba(60, 64, 67, 0.15);\n",
              "      fill: #174EA6;\n",
              "    }\n",
              "\n",
              "    [theme=dark] .colab-df-convert {\n",
              "      background-color: #3B4455;\n",
              "      fill: #D2E3FC;\n",
              "    }\n",
              "\n",
              "    [theme=dark] .colab-df-convert:hover {\n",
              "      background-color: #434B5C;\n",
              "      box-shadow: 0px 1px 3px 1px rgba(0, 0, 0, 0.15);\n",
              "      filter: drop-shadow(0px 1px 2px rgba(0, 0, 0, 0.3));\n",
              "      fill: #FFFFFF;\n",
              "    }\n",
              "  </style>\n",
              "\n",
              "      <script>\n",
              "        const buttonEl =\n",
              "          document.querySelector('#df-1edd9461-4ea3-48f5-a2b3-9445e1d3f9b4 button.colab-df-convert');\n",
              "        buttonEl.style.display =\n",
              "          google.colab.kernel.accessAllowed ? 'block' : 'none';\n",
              "\n",
              "        async function convertToInteractive(key) {\n",
              "          const element = document.querySelector('#df-1edd9461-4ea3-48f5-a2b3-9445e1d3f9b4');\n",
              "          const dataTable =\n",
              "            await google.colab.kernel.invokeFunction('convertToInteractive',\n",
              "                                                     [key], {});\n",
              "          if (!dataTable) return;\n",
              "\n",
              "          const docLinkHtml = 'Like what you see? Visit the ' +\n",
              "            '<a target=\"_blank\" href=https://colab.research.google.com/notebooks/data_table.ipynb>data table notebook</a>'\n",
              "            + ' to learn more about interactive tables.';\n",
              "          element.innerHTML = '';\n",
              "          dataTable['output_type'] = 'display_data';\n",
              "          await google.colab.output.renderOutput(dataTable, element);\n",
              "          const docLink = document.createElement('div');\n",
              "          docLink.innerHTML = docLinkHtml;\n",
              "          element.appendChild(docLink);\n",
              "        }\n",
              "      </script>\n",
              "    </div>\n",
              "  </div>\n",
              "  "
            ]
          },
          "metadata": {},
          "execution_count": 874
        }
      ]
    },
    {
      "cell_type": "code",
      "source": [
        "# 경고 무시\n",
        "import warnings\n",
        "warnings.filterwarnings(action = 'ignore')"
      ],
      "metadata": {
        "id": "njvF2BSzDUdT"
      },
      "execution_count": 875,
      "outputs": []
    },
    {
      "cell_type": "code",
      "source": [
        "credit['CreditScore'] = pd.cut(credit['CreditScore'], bins=[0,400,500,600,700,800,900], \n",
        "                               labels=[400,500,600,700,800,900])\n",
        "sns.pointplot(x='CreditScore', y='Exited', data=credit, color=colors[3])\n",
        "plt.grid()\n",
        "plt.show()"
      ],
      "metadata": {
        "colab": {
          "base_uri": "https://localhost:8080/",
          "height": 279
        },
        "id": "1cqQa-ADKsGp",
        "outputId": "76d7057d-f85f-41b5-f5c9-37c9ac4f5954"
      },
      "execution_count": 876,
      "outputs": [
        {
          "output_type": "display_data",
          "data": {
            "text/plain": [
              "<Figure size 432x288 with 1 Axes>"
            ],
            "image/png": "[encoded data removed]"
          },
          "metadata": {
            "needs_background": "light"
          }
        }
      ]
    },
    {
      "cell_type": "code",
      "source": [
        "# 신용카드 유무의 이탈율 확인\n",
        "sns.pointplot(x='HasCrCard', y='Exited', data=df)\n",
        "plt.grid()\n",
        "plt.show()"
      ],
      "metadata": {
        "colab": {
          "base_uri": "https://localhost:8080/",
          "height": 279
        },
        "id": "CcmaRSVRnhFe",
        "outputId": "d2d67a2c-9709-4ecf-b047-997be3720353"
      },
      "execution_count": 877,
      "outputs": [
        {
          "output_type": "display_data",
          "data": {
            "text/plain": [
              "<Figure size 432x288 with 1 Axes>"
            ],
            "image/png": "[encoded data removed]"
          },
          "metadata": {
            "needs_background": "light"
          }
        }
      ]
    },
    {
      "cell_type": "markdown",
      "source": [
        "## 데이터 전처리"
      ],
      "metadata": {
        "id": "NY8RZx8XmhWT"
      }
    },
    {
      "cell_type": "markdown",
      "source": [
        "### 라벨인코더"
      ],
      "metadata": {
        "id": "9YtGBURVGh5b"
      }
    },
    {
      "cell_type": "code",
      "source": [
        "from sklearn.preprocessing import LabelEncoder\n",
        "cols = ['Gender','Geography']\n",
        "for col in cols:\n",
        "    le = LabelEncoder()\n",
        "    df[col] = le.fit_transform(df[col])"
      ],
      "metadata": {
        "id": "4cxfkMxJGj3J"
      },
      "execution_count": 878,
      "outputs": []
    },
    {
      "cell_type": "code",
      "source": [
        "df.head()"
      ],
      "metadata": {
        "colab": {
          "base_uri": "https://localhost:8080/",
          "height": 270
        },
        "id": "smqmP7t9JJNS",
        "outputId": "c64d320a-e9c6-4f26-feff-f58bcb54c6ec"
      },
      "execution_count": 879,
      "outputs": [
        {
          "output_type": "execute_result",
          "data": {
            "text/plain": [
              "   RowNumber  CustomerId   Surname  CreditScore  Geography  Gender  Age  \\\n",
              "0          1    15634602  Hargrave          619          0       0   42   \n",
              "1          2    15647311      Hill          608          2       0   41   \n",
              "2          3    15619304      Onio          502          0       0   42   \n",
              "3          4    15701354      Boni          699          0       0   39   \n",
              "4          5    15737888  Mitchell          850          2       0   43   \n",
              "\n",
              "   Tenure    Balance  NumOfProducts  HasCrCard  IsActiveMember  \\\n",
              "0       2       0.00              1          1               1   \n",
              "1       1   83807.86              1          0               1   \n",
              "2       8  159660.80              3          1               0   \n",
              "3       1       0.00              2          0               0   \n",
              "4       2  125510.82              1          1               1   \n",
              "\n",
              "   EstimatedSalary  Exited  \n",
              "0        101348.88       1  \n",
              "1        112542.58       0  \n",
              "2        113931.57       1  \n",
              "3         93826.63       0  \n",
              "4         79084.10       0  "
            ],
            "text/html": [
              "\n",
              "  <div id=\"df-6f492adb-800d-4abb-9582-e48d9afc0c44\">\n",
              "    <div class=\"colab-df-container\">\n",
              "      <div>\n",
              "<style scoped>\n",
              "    .dataframe tbody tr th:only-of-type {\n",
              "        vertical-align: middle;\n",
              "    }\n",
              "\n",
              "    .dataframe tbody tr th {\n",
              "        vertical-align: top;\n",
              "    }\n",
              "\n",
              "    .dataframe thead th {\n",
              "        text-align: right;\n",
              "    }\n",
              "</style>\n",
              "<table border=\"1\" class=\"dataframe\">\n",
              "  <thead>\n",
              "    <tr style=\"text-align: right;\">\n",
              "      <th></th>\n",
              "      <th>RowNumber</th>\n",
              "      <th>CustomerId</th>\n",
              "      <th>Surname</th>\n",
              "      <th>CreditScore</th>\n",
              "      <th>Geography</th>\n",
              "      <th>Gender</th>\n",
              "      <th>Age</th>\n",
              "      <th>Tenure</th>\n",
              "      <th>Balance</th>\n",
              "      <th>NumOfProducts</th>\n",
              "      <th>HasCrCard</th>\n",
              "      <th>IsActiveMember</th>\n",
              "      <th>EstimatedSalary</th>\n",
              "      <th>Exited</th>\n",
              "    </tr>\n",
              "  </thead>\n",
              "  <tbody>\n",
              "    <tr>\n",
              "      <th>0</th>\n",
              "      <td>1</td>\n",
              "      <td>15634602</td>\n",
              "      <td>Hargrave</td>\n",
              "      <td>619</td>\n",
              "      <td>0</td>\n",
              "      <td>0</td>\n",
              "      <td>42</td>\n",
              "      <td>2</td>\n",
              "      <td>0.00</td>\n",
              "      <td>1</td>\n",
              "      <td>1</td>\n",
              "      <td>1</td>\n",
              "      <td>101348.88</td>\n",
              "      <td>1</td>\n",
              "    </tr>\n",
              "    <tr>\n",
              "      <th>1</th>\n",
              "      <td>2</td>\n",
              "      <td>15647311</td>\n",
              "      <td>Hill</td>\n",
              "      <td>608</td>\n",
              "      <td>2</td>\n",
              "      <td>0</td>\n",
              "      <td>41</td>\n",
              "      <td>1</td>\n",
              "      <td>83807.86</td>\n",
              "      <td>1</td>\n",
              "      <td>0</td>\n",
              "      <td>1</td>\n",
              "      <td>112542.58</td>\n",
              "      <td>0</td>\n",
              "    </tr>\n",
              "    <tr>\n",
              "      <th>2</th>\n",
              "      <td>3</td>\n",
              "      <td>15619304</td>\n",
              "      <td>Onio</td>\n",
              "      <td>502</td>\n",
              "      <td>0</td>\n",
              "      <td>0</td>\n",
              "      <td>42</td>\n",
              "      <td>8</td>\n",
              "      <td>159660.80</td>\n",
              "      <td>3</td>\n",
              "      <td>1</td>\n",
              "      <td>0</td>\n",
              "      <td>113931.57</td>\n",
              "      <td>1</td>\n",
              "    </tr>\n",
              "    <tr>\n",
              "      <th>3</th>\n",
              "      <td>4</td>\n",
              "      <td>15701354</td>\n",
              "      <td>Boni</td>\n",
              "      <td>699</td>\n",
              "      <td>0</td>\n",
              "      <td>0</td>\n",
              "      <td>39</td>\n",
              "      <td>1</td>\n",
              "      <td>0.00</td>\n",
              "      <td>2</td>\n",
              "      <td>0</td>\n",
              "      <td>0</td>\n",
              "      <td>93826.63</td>\n",
              "      <td>0</td>\n",
              "    </tr>\n",
              "    <tr>\n",
              "      <th>4</th>\n",
              "      <td>5</td>\n",
              "      <td>15737888</td>\n",
              "      <td>Mitchell</td>\n",
              "      <td>850</td>\n",
              "      <td>2</td>\n",
              "      <td>0</td>\n",
              "      <td>43</td>\n",
              "      <td>2</td>\n",
              "      <td>125510.82</td>\n",
              "      <td>1</td>\n",
              "      <td>1</td>\n",
              "      <td>1</td>\n",
              "      <td>79084.10</td>\n",
              "      <td>0</td>\n",
              "    </tr>\n",
              "  </tbody>\n",
              "</table>\n",
              "</div>\n",
              "      <button class=\"colab-df-convert\" onclick=\"convertToInteractive('df-6f492adb-800d-4abb-9582-e48d9afc0c44')\"\n",
              "              title=\"Convert this dataframe to an interactive table.\"\n",
              "              style=\"display:none;\">\n",
              "        \n",
              "  <svg xmlns=\"http://www.w3.org/2000/svg\" height=\"24px\"viewBox=\"0 0 24 24\"\n",
              "       width=\"24px\">\n",
              "    <path d=\"M0 0h24v24H0V0z\" fill=\"none\"/>\n",
              "    <path d=\"M18.56 5.44l.94 2.06.94-2.06 2.06-.94-2.06-.94-.94-2.06-.94 2.06-2.06.94zm-11 1L8.5 8.5l.94-2.06 2.06-.94-2.06-.94L8.5 2.5l-.94 2.06-2.06.94zm10 10l.94 2.06.94-2.06 2.06-.94-2.06-.94-.94-2.06-.94 2.06-2.06.94z\"/><path d=\"M17.41 7.96l-1.37-1.37c-.4-.4-.92-.59-1.43-.59-.52 0-1.04.2-1.43.59L10.3 9.45l-7.72 7.72c-.78.78-.78 2.05 0 2.83L4 21.41c.39.39.9.59 1.41.59.51 0 1.02-.2 1.41-.59l7.78-7.78 2.81-2.81c.8-.78.8-2.07 0-2.86zM5.41 20L4 18.59l7.72-7.72 1.47 1.35L5.41 20z\"/>\n",
              "  </svg>\n",
              "      </button>\n",
              "      \n",
              "  <style>\n",
              "    .colab-df-container {\n",
              "      display:flex;\n",
              "      flex-wrap:wrap;\n",
              "      gap: 12px;\n",
              "    }\n",
              "\n",
              "    .colab-df-convert {\n",
              "      background-color: #E8F0FE;\n",
              "      border: none;\n",
              "      border-radius: 50%;\n",
              "      cursor: pointer;\n",
              "      display: none;\n",
              "      fill: #1967D2;\n",
              "      height: 32px;\n",
              "      padding: 0 0 0 0;\n",
              "      width: 32px;\n",
              "    }\n",
              "\n",
              "    .colab-df-convert:hover {\n",
              "      background-color: #E2EBFA;\n",
              "      box-shadow: 0px 1px 2px rgba(60, 64, 67, 0.3), 0px 1px 3px 1px rgba(60, 64, 67, 0.15);\n",
              "      fill: #174EA6;\n",
              "    }\n",
              "\n",
              "    [theme=dark] .colab-df-convert {\n",
              "      background-color: #3B4455;\n",
              "      fill: #D2E3FC;\n",
              "    }\n",
              "\n",
              "    [theme=dark] .colab-df-convert:hover {\n",
              "      background-color: #434B5C;\n",
              "      box-shadow: 0px 1px 3px 1px rgba(0, 0, 0, 0.15);\n",
              "      filter: drop-shadow(0px 1px 2px rgba(0, 0, 0, 0.3));\n",
              "      fill: #FFFFFF;\n",
              "    }\n",
              "  </style>\n",
              "\n",
              "      <script>\n",
              "        const buttonEl =\n",
              "          document.querySelector('#df-6f492adb-800d-4abb-9582-e48d9afc0c44 button.colab-df-convert');\n",
              "        buttonEl.style.display =\n",
              "          google.colab.kernel.accessAllowed ? 'block' : 'none';\n",
              "\n",
              "        async function convertToInteractive(key) {\n",
              "          const element = document.querySelector('#df-6f492adb-800d-4abb-9582-e48d9afc0c44');\n",
              "          const dataTable =\n",
              "            await google.colab.kernel.invokeFunction('convertToInteractive',\n",
              "                                                     [key], {});\n",
              "          if (!dataTable) return;\n",
              "\n",
              "          const docLinkHtml = 'Like what you see? Visit the ' +\n",
              "            '<a target=\"_blank\" href=https://colab.research.google.com/notebooks/data_table.ipynb>data table notebook</a>'\n",
              "            + ' to learn more about interactive tables.';\n",
              "          element.innerHTML = '';\n",
              "          dataTable['output_type'] = 'display_data';\n",
              "          await google.colab.output.renderOutput(dataTable, element);\n",
              "          const docLink = document.createElement('div');\n",
              "          docLink.innerHTML = docLinkHtml;\n",
              "          element.appendChild(docLink);\n",
              "        }\n",
              "      </script>\n",
              "    </div>\n",
              "  </div>\n",
              "  "
            ]
          },
          "metadata": {},
          "execution_count": 879
        }
      ]
    },
    {
      "cell_type": "markdown",
      "source": [
        "### 구간화하기(나이)"
      ],
      "metadata": {
        "id": "584UFKg42mdT"
      }
    },
    {
      "cell_type": "code",
      "source": [
        "def age_category(age):\n",
        "    age = int(np.floor(age // 10))\n",
        "    return age\n",
        "# 나이 몫만 구해서 카테고리화 시키기"
      ],
      "metadata": {
        "id": "qehe444NlcyT"
      },
      "execution_count": 880,
      "outputs": []
    },
    {
      "cell_type": "code",
      "source": [
        "df['Age_category'] = df.Age.apply(age_category)"
      ],
      "metadata": {
        "id": "KGhGHwiV1pBX"
      },
      "execution_count": 881,
      "outputs": []
    },
    {
      "cell_type": "code",
      "source": [
        "df.info()"
      ],
      "metadata": {
        "colab": {
          "base_uri": "https://localhost:8080/"
        },
        "id": "xsaSGuWm2WMR",
        "outputId": "ec4e33a0-9b5b-4104-f7b5-87734d890a05"
      },
      "execution_count": 882,
      "outputs": [
        {
          "output_type": "stream",
          "name": "stdout",
          "text": [
            "<class 'pandas.core.frame.DataFrame'>\n",
            "RangeIndex: 10000 entries, 0 to 9999\n",
            "Data columns (total 15 columns):\n",
            " #   Column           Non-Null Count  Dtype  \n",
            "---  ------           --------------  -----  \n",
            " 0   RowNumber        10000 non-null  int64  \n",
            " 1   CustomerId       10000 non-null  int64  \n",
            " 2   Surname          10000 non-null  object \n",
            " 3   CreditScore      10000 non-null  int64  \n",
            " 4   Geography        10000 non-null  int64  \n",
            " 5   Gender           10000 non-null  int64  \n",
            " 6   Age              10000 non-null  int64  \n",
            " 7   Tenure           10000 non-null  int64  \n",
            " 8   Balance          10000 non-null  float64\n",
            " 9   NumOfProducts    10000 non-null  int64  \n",
            " 10  HasCrCard        10000 non-null  int64  \n",
            " 11  IsActiveMember   10000 non-null  int64  \n",
            " 12  EstimatedSalary  10000 non-null  float64\n",
            " 13  Exited           10000 non-null  int64  \n",
            " 14  Age_category     10000 non-null  int64  \n",
            "dtypes: float64(2), int64(12), object(1)\n",
            "memory usage: 1.1+ MB\n"
          ]
        }
      ]
    },
    {
      "cell_type": "markdown",
      "source": [
        "### 필요없는 컬럼 제거"
      ],
      "metadata": {
        "id": "tsSvI2MAhfox"
      }
    },
    {
      "cell_type": "code",
      "source": [
        "df['Age'].unique()"
      ],
      "metadata": {
        "colab": {
          "base_uri": "https://localhost:8080/"
        },
        "id": "JncjklIchhKR",
        "outputId": "db5a8297-1afc-4a48-f3b8-c5ab083f7976"
      },
      "execution_count": 883,
      "outputs": [
        {
          "output_type": "execute_result",
          "data": {
            "text/plain": [
              "array([42, 41, 39, 43, 44, 50, 29, 27, 31, 24, 34, 25, 35, 45, 58, 32, 38,\n",
              "       46, 36, 33, 40, 51, 61, 49, 37, 19, 66, 56, 26, 21, 55, 75, 22, 30,\n",
              "       28, 65, 48, 52, 57, 73, 47, 54, 72, 20, 67, 79, 62, 53, 80, 59, 68,\n",
              "       23, 60, 70, 63, 64, 18, 82, 69, 74, 71, 76, 77, 88, 85, 84, 78, 81,\n",
              "       92, 83])"
            ]
          },
          "metadata": {},
          "execution_count": 883
        }
      ]
    },
    {
      "cell_type": "code",
      "source": [
        "df = df.drop(columns=['RowNumber','Age','Surname','CustomerId'])"
      ],
      "metadata": {
        "id": "DBpKZSGpczVT"
      },
      "execution_count": 884,
      "outputs": []
    },
    {
      "cell_type": "code",
      "source": [
        "df.head()"
      ],
      "metadata": {
        "colab": {
          "base_uri": "https://localhost:8080/",
          "height": 206
        },
        "id": "1Ne0B5rSczTE",
        "outputId": "7ffdb9f6-917d-45d5-fb48-5b0743c73bb6"
      },
      "execution_count": 885,
      "outputs": [
        {
          "output_type": "execute_result",
          "data": {
            "text/plain": [
              "   CreditScore  Geography  Gender  Tenure    Balance  NumOfProducts  \\\n",
              "0          619          0       0       2       0.00              1   \n",
              "1          608          2       0       1   83807.86              1   \n",
              "2          502          0       0       8  159660.80              3   \n",
              "3          699          0       0       1       0.00              2   \n",
              "4          850          2       0       2  125510.82              1   \n",
              "\n",
              "   HasCrCard  IsActiveMember  EstimatedSalary  Exited  Age_category  \n",
              "0          1               1        101348.88       1             4  \n",
              "1          0               1        112542.58       0             4  \n",
              "2          1               0        113931.57       1             4  \n",
              "3          0               0         93826.63       0             3  \n",
              "4          1               1         79084.10       0             4  "
            ],
            "text/html": [
              "\n",
              "  <div id=\"df-59478e25-ab0a-44fc-a315-9ab275b324c7\">\n",
              "    <div class=\"colab-df-container\">\n",
              "      <div>\n",
              "<style scoped>\n",
              "    .dataframe tbody tr th:only-of-type {\n",
              "        vertical-align: middle;\n",
              "    }\n",
              "\n",
              "    .dataframe tbody tr th {\n",
              "        vertical-align: top;\n",
              "    }\n",
              "\n",
              "    .dataframe thead th {\n",
              "        text-align: right;\n",
              "    }\n",
              "</style>\n",
              "<table border=\"1\" class=\"dataframe\">\n",
              "  <thead>\n",
              "    <tr style=\"text-align: right;\">\n",
              "      <th></th>\n",
              "      <th>CreditScore</th>\n",
              "      <th>Geography</th>\n",
              "      <th>Gender</th>\n",
              "      <th>Tenure</th>\n",
              "      <th>Balance</th>\n",
              "      <th>NumOfProducts</th>\n",
              "      <th>HasCrCard</th>\n",
              "      <th>IsActiveMember</th>\n",
              "      <th>EstimatedSalary</th>\n",
              "      <th>Exited</th>\n",
              "      <th>Age_category</th>\n",
              "    </tr>\n",
              "  </thead>\n",
              "  <tbody>\n",
              "    <tr>\n",
              "      <th>0</th>\n",
              "      <td>619</td>\n",
              "      <td>0</td>\n",
              "      <td>0</td>\n",
              "      <td>2</td>\n",
              "      <td>0.00</td>\n",
              "      <td>1</td>\n",
              "      <td>1</td>\n",
              "      <td>1</td>\n",
              "      <td>101348.88</td>\n",
              "      <td>1</td>\n",
              "      <td>4</td>\n",
              "    </tr>\n",
              "    <tr>\n",
              "      <th>1</th>\n",
              "      <td>608</td>\n",
              "      <td>2</td>\n",
              "      <td>0</td>\n",
              "      <td>1</td>\n",
              "      <td>83807.86</td>\n",
              "      <td>1</td>\n",
              "      <td>0</td>\n",
              "      <td>1</td>\n",
              "      <td>112542.58</td>\n",
              "      <td>0</td>\n",
              "      <td>4</td>\n",
              "    </tr>\n",
              "    <tr>\n",
              "      <th>2</th>\n",
              "      <td>502</td>\n",
              "      <td>0</td>\n",
              "      <td>0</td>\n",
              "      <td>8</td>\n",
              "      <td>159660.80</td>\n",
              "      <td>3</td>\n",
              "      <td>1</td>\n",
              "      <td>0</td>\n",
              "      <td>113931.57</td>\n",
              "      <td>1</td>\n",
              "      <td>4</td>\n",
              "    </tr>\n",
              "    <tr>\n",
              "      <th>3</th>\n",
              "      <td>699</td>\n",
              "      <td>0</td>\n",
              "      <td>0</td>\n",
              "      <td>1</td>\n",
              "      <td>0.00</td>\n",
              "      <td>2</td>\n",
              "      <td>0</td>\n",
              "      <td>0</td>\n",
              "      <td>93826.63</td>\n",
              "      <td>0</td>\n",
              "      <td>3</td>\n",
              "    </tr>\n",
              "    <tr>\n",
              "      <th>4</th>\n",
              "      <td>850</td>\n",
              "      <td>2</td>\n",
              "      <td>0</td>\n",
              "      <td>2</td>\n",
              "      <td>125510.82</td>\n",
              "      <td>1</td>\n",
              "      <td>1</td>\n",
              "      <td>1</td>\n",
              "      <td>79084.10</td>\n",
              "      <td>0</td>\n",
              "      <td>4</td>\n",
              "    </tr>\n",
              "  </tbody>\n",
              "</table>\n",
              "</div>\n",
              "      <button class=\"colab-df-convert\" onclick=\"convertToInteractive('df-59478e25-ab0a-44fc-a315-9ab275b324c7')\"\n",
              "              title=\"Convert this dataframe to an interactive table.\"\n",
              "              style=\"display:none;\">\n",
              "        \n",
              "  <svg xmlns=\"http://www.w3.org/2000/svg\" height=\"24px\"viewBox=\"0 0 24 24\"\n",
              "       width=\"24px\">\n",
              "    <path d=\"M0 0h24v24H0V0z\" fill=\"none\"/>\n",
              "    <path d=\"M18.56 5.44l.94 2.06.94-2.06 2.06-.94-2.06-.94-.94-2.06-.94 2.06-2.06.94zm-11 1L8.5 8.5l.94-2.06 2.06-.94-2.06-.94L8.5 2.5l-.94 2.06-2.06.94zm10 10l.94 2.06.94-2.06 2.06-.94-2.06-.94-.94-2.06-.94 2.06-2.06.94z\"/><path d=\"M17.41 7.96l-1.37-1.37c-.4-.4-.92-.59-1.43-.59-.52 0-1.04.2-1.43.59L10.3 9.45l-7.72 7.72c-.78.78-.78 2.05 0 2.83L4 21.41c.39.39.9.59 1.41.59.51 0 1.02-.2 1.41-.59l7.78-7.78 2.81-2.81c.8-.78.8-2.07 0-2.86zM5.41 20L4 18.59l7.72-7.72 1.47 1.35L5.41 20z\"/>\n",
              "  </svg>\n",
              "      </button>\n",
              "      \n",
              "  <style>\n",
              "    .colab-df-container {\n",
              "      display:flex;\n",
              "      flex-wrap:wrap;\n",
              "      gap: 12px;\n",
              "    }\n",
              "\n",
              "    .colab-df-convert {\n",
              "      background-color: #E8F0FE;\n",
              "      border: none;\n",
              "      border-radius: 50%;\n",
              "      cursor: pointer;\n",
              "      display: none;\n",
              "      fill: #1967D2;\n",
              "      height: 32px;\n",
              "      padding: 0 0 0 0;\n",
              "      width: 32px;\n",
              "    }\n",
              "\n",
              "    .colab-df-convert:hover {\n",
              "      background-color: #E2EBFA;\n",
              "      box-shadow: 0px 1px 2px rgba(60, 64, 67, 0.3), 0px 1px 3px 1px rgba(60, 64, 67, 0.15);\n",
              "      fill: #174EA6;\n",
              "    }\n",
              "\n",
              "    [theme=dark] .colab-df-convert {\n",
              "      background-color: #3B4455;\n",
              "      fill: #D2E3FC;\n",
              "    }\n",
              "\n",
              "    [theme=dark] .colab-df-convert:hover {\n",
              "      background-color: #434B5C;\n",
              "      box-shadow: 0px 1px 3px 1px rgba(0, 0, 0, 0.15);\n",
              "      filter: drop-shadow(0px 1px 2px rgba(0, 0, 0, 0.3));\n",
              "      fill: #FFFFFF;\n",
              "    }\n",
              "  </style>\n",
              "\n",
              "      <script>\n",
              "        const buttonEl =\n",
              "          document.querySelector('#df-59478e25-ab0a-44fc-a315-9ab275b324c7 button.colab-df-convert');\n",
              "        buttonEl.style.display =\n",
              "          google.colab.kernel.accessAllowed ? 'block' : 'none';\n",
              "\n",
              "        async function convertToInteractive(key) {\n",
              "          const element = document.querySelector('#df-59478e25-ab0a-44fc-a315-9ab275b324c7');\n",
              "          const dataTable =\n",
              "            await google.colab.kernel.invokeFunction('convertToInteractive',\n",
              "                                                     [key], {});\n",
              "          if (!dataTable) return;\n",
              "\n",
              "          const docLinkHtml = 'Like what you see? Visit the ' +\n",
              "            '<a target=\"_blank\" href=https://colab.research.google.com/notebooks/data_table.ipynb>data table notebook</a>'\n",
              "            + ' to learn more about interactive tables.';\n",
              "          element.innerHTML = '';\n",
              "          dataTable['output_type'] = 'display_data';\n",
              "          await google.colab.output.renderOutput(dataTable, element);\n",
              "          const docLink = document.createElement('div');\n",
              "          docLink.innerHTML = docLinkHtml;\n",
              "          element.appendChild(docLink);\n",
              "        }\n",
              "      </script>\n",
              "    </div>\n",
              "  </div>\n",
              "  "
            ]
          },
          "metadata": {},
          "execution_count": 885
        }
      ]
    },
    {
      "cell_type": "markdown",
      "source": [
        "### 구간화2(신용점수)"
      ],
      "metadata": {
        "id": "8NX4jdiS20ZP"
      }
    },
    {
      "cell_type": "code",
      "source": [
        "df['CreditScore'].unique()\n",
        "# 신용점수도 9등급처럼 존재하듯이 이것도 9등급으로 비닝시켜 구간화 진행"
      ],
      "metadata": {
        "colab": {
          "base_uri": "https://localhost:8080/"
        },
        "id": "iCrCMuG723hx",
        "outputId": "3b93750a-eb86-4a38-b642-c39b70901c11"
      },
      "execution_count": 886,
      "outputs": [
        {
          "output_type": "execute_result",
          "data": {
            "text/plain": [
              "array([619, 608, 502, 699, 850, 645, 822, 376, 501, 684, 528, 497, 476,\n",
              "       549, 635, 616, 653, 587, 726, 732, 636, 510, 669, 846, 577, 756,\n",
              "       571, 574, 411, 591, 533, 553, 520, 722, 475, 490, 804, 582, 472,\n",
              "       465, 556, 834, 660, 776, 829, 637, 550, 698, 585, 788, 655, 601,\n",
              "       656, 725, 511, 614, 742, 687, 555, 603, 751, 581, 735, 661, 675,\n",
              "       738, 813, 657, 604, 519, 664, 678, 757, 416, 665, 777, 543, 506,\n",
              "       493, 652, 750, 729, 646, 647, 808, 524, 769, 730, 515, 773, 814,\n",
              "       710, 413, 623, 670, 622, 785, 605, 479, 685, 538, 562, 721, 628,\n",
              "       668, 828, 674, 625, 432, 770, 758, 795, 686, 789, 589, 461, 584,\n",
              "       579, 663, 682, 793, 691, 485, 650, 754, 535, 716, 539, 706, 586,\n",
              "       631, 717, 800, 683, 704, 615, 667, 484, 480, 578, 512, 606, 597,\n",
              "       778, 514, 525, 715, 580, 807, 521, 759, 516, 711, 618, 643, 671,\n",
              "       689, 620, 676, 572, 695, 592, 567, 694, 547, 594, 673, 610, 767,\n",
              "       763, 712, 703, 662, 659, 523, 772, 545, 634, 739, 771, 681, 544,\n",
              "       696, 766, 727, 693, 557, 531, 498, 651, 791, 733, 811, 707, 714,\n",
              "       782, 775, 799, 602, 744, 588, 747, 583, 627, 731, 629, 438, 642,\n",
              "       806, 474, 559, 429, 680, 749, 734, 644, 626, 649, 805, 718, 840,\n",
              "       630, 654, 762, 568, 613, 522, 737, 648, 443, 640, 540, 460, 593,\n",
              "       801, 611, 802, 745, 483, 690, 492, 709, 705, 560, 752, 701, 537,\n",
              "       487, 596, 702, 486, 724, 548, 464, 790, 534, 748, 494, 590, 468,\n",
              "       509, 818, 816, 536, 753, 774, 621, 569, 658, 798, 641, 542, 692,\n",
              "       639, 765, 570, 638, 599, 632, 779, 527, 564, 833, 504, 842, 508,\n",
              "       417, 598, 741, 607, 761, 848, 546, 439, 755, 760, 526, 713, 700,\n",
              "       666, 566, 495, 688, 612, 477, 427, 839, 819, 720, 459, 503, 624,\n",
              "       529, 563, 482, 796, 445, 746, 786, 554, 672, 787, 499, 844, 450,\n",
              "       815, 838, 803, 736, 633, 600, 679, 517, 792, 743, 488, 421, 841,\n",
              "       708, 507, 505, 456, 435, 561, 518, 565, 728, 784, 552, 609, 764,\n",
              "       697, 723, 551, 444, 719, 496, 541, 830, 812, 677, 420, 595, 617,\n",
              "       809, 500, 826, 434, 513, 478, 797, 363, 399, 463, 780, 452, 575,\n",
              "       837, 794, 824, 428, 823, 781, 849, 489, 431, 457, 768, 831, 359,\n",
              "       820, 573, 576, 558, 817, 449, 440, 415, 821, 530, 350, 446, 425,\n",
              "       740, 481, 783, 358, 845, 451, 458, 469, 423, 404, 836, 473, 835,\n",
              "       466, 491, 351, 827, 843, 365, 532, 414, 453, 471, 401, 810, 832,\n",
              "       470, 447, 422, 825, 430, 436, 426, 408, 847, 418, 437, 410, 454,\n",
              "       407, 455, 462, 386, 405, 383, 395, 467, 433, 442, 424, 448, 441,\n",
              "       367, 412, 382, 373, 419])"
            ]
          },
          "metadata": {},
          "execution_count": 886
        }
      ]
    },
    {
      "cell_type": "code",
      "source": [
        "score = list(df['CreditScore'])\n",
        "bins = [100,200,300,400,500,600,700,800,900,1000]\n",
        "labels = ['9등급','8등급','7등급','6등급','5등급','4등급','3등급','2등급','1등급']\n",
        "df['CreditScore'] = pd.cut(df['CreditScore'],bins=bins,labels=labels)\n",
        "# 신용점수가 높은것이 높은 등급을 받아야 하므로 라벨링을 바꿔서 해줌"
      ],
      "metadata": {
        "id": "jblxK_41FdBm"
      },
      "execution_count": 887,
      "outputs": []
    },
    {
      "cell_type": "code",
      "source": [
        "df.head()"
      ],
      "metadata": {
        "colab": {
          "base_uri": "https://localhost:8080/",
          "height": 206
        },
        "id": "1sx7nQzMFk9m",
        "outputId": "4db213cc-fbf8-43d7-a93b-101ce371cc62"
      },
      "execution_count": 888,
      "outputs": [
        {
          "output_type": "execute_result",
          "data": {
            "text/plain": [
              "  CreditScore  Geography  Gender  Tenure    Balance  NumOfProducts  HasCrCard  \\\n",
              "0         4등급          0       0       2       0.00              1          1   \n",
              "1         4등급          2       0       1   83807.86              1          0   \n",
              "2         5등급          0       0       8  159660.80              3          1   \n",
              "3         4등급          0       0       1       0.00              2          0   \n",
              "4         2등급          2       0       2  125510.82              1          1   \n",
              "\n",
              "   IsActiveMember  EstimatedSalary  Exited  Age_category  \n",
              "0               1        101348.88       1             4  \n",
              "1               1        112542.58       0             4  \n",
              "2               0        113931.57       1             4  \n",
              "3               0         93826.63       0             3  \n",
              "4               1         79084.10       0             4  "
            ],
            "text/html": [
              "\n",
              "  <div id=\"df-b92c6c85-5625-4afd-abe8-1b6391bde158\">\n",
              "    <div class=\"colab-df-container\">\n",
              "      <div>\n",
              "<style scoped>\n",
              "    .dataframe tbody tr th:only-of-type {\n",
              "        vertical-align: middle;\n",
              "    }\n",
              "\n",
              "    .dataframe tbody tr th {\n",
              "        vertical-align: top;\n",
              "    }\n",
              "\n",
              "    .dataframe thead th {\n",
              "        text-align: right;\n",
              "    }\n",
              "</style>\n",
              "<table border=\"1\" class=\"dataframe\">\n",
              "  <thead>\n",
              "    <tr style=\"text-align: right;\">\n",
              "      <th></th>\n",
              "      <th>CreditScore</th>\n",
              "      <th>Geography</th>\n",
              "      <th>Gender</th>\n",
              "      <th>Tenure</th>\n",
              "      <th>Balance</th>\n",
              "      <th>NumOfProducts</th>\n",
              "      <th>HasCrCard</th>\n",
              "      <th>IsActiveMember</th>\n",
              "      <th>EstimatedSalary</th>\n",
              "      <th>Exited</th>\n",
              "      <th>Age_category</th>\n",
              "    </tr>\n",
              "  </thead>\n",
              "  <tbody>\n",
              "    <tr>\n",
              "      <th>0</th>\n",
              "      <td>4등급</td>\n",
              "      <td>0</td>\n",
              "      <td>0</td>\n",
              "      <td>2</td>\n",
              "      <td>0.00</td>\n",
              "      <td>1</td>\n",
              "      <td>1</td>\n",
              "      <td>1</td>\n",
              "      <td>101348.88</td>\n",
              "      <td>1</td>\n",
              "      <td>4</td>\n",
              "    </tr>\n",
              "    <tr>\n",
              "      <th>1</th>\n",
              "      <td>4등급</td>\n",
              "      <td>2</td>\n",
              "      <td>0</td>\n",
              "      <td>1</td>\n",
              "      <td>83807.86</td>\n",
              "      <td>1</td>\n",
              "      <td>0</td>\n",
              "      <td>1</td>\n",
              "      <td>112542.58</td>\n",
              "      <td>0</td>\n",
              "      <td>4</td>\n",
              "    </tr>\n",
              "    <tr>\n",
              "      <th>2</th>\n",
              "      <td>5등급</td>\n",
              "      <td>0</td>\n",
              "      <td>0</td>\n",
              "      <td>8</td>\n",
              "      <td>159660.80</td>\n",
              "      <td>3</td>\n",
              "      <td>1</td>\n",
              "      <td>0</td>\n",
              "      <td>113931.57</td>\n",
              "      <td>1</td>\n",
              "      <td>4</td>\n",
              "    </tr>\n",
              "    <tr>\n",
              "      <th>3</th>\n",
              "      <td>4등급</td>\n",
              "      <td>0</td>\n",
              "      <td>0</td>\n",
              "      <td>1</td>\n",
              "      <td>0.00</td>\n",
              "      <td>2</td>\n",
              "      <td>0</td>\n",
              "      <td>0</td>\n",
              "      <td>93826.63</td>\n",
              "      <td>0</td>\n",
              "      <td>3</td>\n",
              "    </tr>\n",
              "    <tr>\n",
              "      <th>4</th>\n",
              "      <td>2등급</td>\n",
              "      <td>2</td>\n",
              "      <td>0</td>\n",
              "      <td>2</td>\n",
              "      <td>125510.82</td>\n",
              "      <td>1</td>\n",
              "      <td>1</td>\n",
              "      <td>1</td>\n",
              "      <td>79084.10</td>\n",
              "      <td>0</td>\n",
              "      <td>4</td>\n",
              "    </tr>\n",
              "  </tbody>\n",
              "</table>\n",
              "</div>\n",
              "      <button class=\"colab-df-convert\" onclick=\"convertToInteractive('df-b92c6c85-5625-4afd-abe8-1b6391bde158')\"\n",
              "              title=\"Convert this dataframe to an interactive table.\"\n",
              "              style=\"display:none;\">\n",
              "        \n",
              "  <svg xmlns=\"http://www.w3.org/2000/svg\" height=\"24px\"viewBox=\"0 0 24 24\"\n",
              "       width=\"24px\">\n",
              "    <path d=\"M0 0h24v24H0V0z\" fill=\"none\"/>\n",
              "    <path d=\"M18.56 5.44l.94 2.06.94-2.06 2.06-.94-2.06-.94-.94-2.06-.94 2.06-2.06.94zm-11 1L8.5 8.5l.94-2.06 2.06-.94-2.06-.94L8.5 2.5l-.94 2.06-2.06.94zm10 10l.94 2.06.94-2.06 2.06-.94-2.06-.94-.94-2.06-.94 2.06-2.06.94z\"/><path d=\"M17.41 7.96l-1.37-1.37c-.4-.4-.92-.59-1.43-.59-.52 0-1.04.2-1.43.59L10.3 9.45l-7.72 7.72c-.78.78-.78 2.05 0 2.83L4 21.41c.39.39.9.59 1.41.59.51 0 1.02-.2 1.41-.59l7.78-7.78 2.81-2.81c.8-.78.8-2.07 0-2.86zM5.41 20L4 18.59l7.72-7.72 1.47 1.35L5.41 20z\"/>\n",
              "  </svg>\n",
              "      </button>\n",
              "      \n",
              "  <style>\n",
              "    .colab-df-container {\n",
              "      display:flex;\n",
              "      flex-wrap:wrap;\n",
              "      gap: 12px;\n",
              "    }\n",
              "\n",
              "    .colab-df-convert {\n",
              "      background-color: #E8F0FE;\n",
              "      border: none;\n",
              "      border-radius: 50%;\n",
              "      cursor: pointer;\n",
              "      display: none;\n",
              "      fill: #1967D2;\n",
              "      height: 32px;\n",
              "      padding: 0 0 0 0;\n",
              "      width: 32px;\n",
              "    }\n",
              "\n",
              "    .colab-df-convert:hover {\n",
              "      background-color: #E2EBFA;\n",
              "      box-shadow: 0px 1px 2px rgba(60, 64, 67, 0.3), 0px 1px 3px 1px rgba(60, 64, 67, 0.15);\n",
              "      fill: #174EA6;\n",
              "    }\n",
              "\n",
              "    [theme=dark] .colab-df-convert {\n",
              "      background-color: #3B4455;\n",
              "      fill: #D2E3FC;\n",
              "    }\n",
              "\n",
              "    [theme=dark] .colab-df-convert:hover {\n",
              "      background-color: #434B5C;\n",
              "      box-shadow: 0px 1px 3px 1px rgba(0, 0, 0, 0.15);\n",
              "      filter: drop-shadow(0px 1px 2px rgba(0, 0, 0, 0.3));\n",
              "      fill: #FFFFFF;\n",
              "    }\n",
              "  </style>\n",
              "\n",
              "      <script>\n",
              "        const buttonEl =\n",
              "          document.querySelector('#df-b92c6c85-5625-4afd-abe8-1b6391bde158 button.colab-df-convert');\n",
              "        buttonEl.style.display =\n",
              "          google.colab.kernel.accessAllowed ? 'block' : 'none';\n",
              "\n",
              "        async function convertToInteractive(key) {\n",
              "          const element = document.querySelector('#df-b92c6c85-5625-4afd-abe8-1b6391bde158');\n",
              "          const dataTable =\n",
              "            await google.colab.kernel.invokeFunction('convertToInteractive',\n",
              "                                                     [key], {});\n",
              "          if (!dataTable) return;\n",
              "\n",
              "          const docLinkHtml = 'Like what you see? Visit the ' +\n",
              "            '<a target=\"_blank\" href=https://colab.research.google.com/notebooks/data_table.ipynb>data table notebook</a>'\n",
              "            + ' to learn more about interactive tables.';\n",
              "          element.innerHTML = '';\n",
              "          dataTable['output_type'] = 'display_data';\n",
              "          await google.colab.output.renderOutput(dataTable, element);\n",
              "          const docLink = document.createElement('div');\n",
              "          docLink.innerHTML = docLinkHtml;\n",
              "          element.appendChild(docLink);\n",
              "        }\n",
              "      </script>\n",
              "    </div>\n",
              "  </div>\n",
              "  "
            ]
          },
          "metadata": {},
          "execution_count": 888
        }
      ]
    },
    {
      "cell_type": "code",
      "source": [
        "df.CreditScore.value_counts()"
      ],
      "metadata": {
        "colab": {
          "base_uri": "https://localhost:8080/"
        },
        "id": "VIeH8bK9Clmr",
        "outputId": "fb7e3200-f5ee-4f5c-fb69-51dfd668fd82"
      },
      "execution_count": 889,
      "outputs": [
        {
          "output_type": "execute_result",
          "data": {
            "text/plain": [
              "4등급    3818\n",
              "3등급    2471\n",
              "5등급    2423\n",
              "2등급     645\n",
              "6등급     624\n",
              "7등급      19\n",
              "9등급       0\n",
              "8등급       0\n",
              "1등급       0\n",
              "Name: CreditScore, dtype: int64"
            ]
          },
          "metadata": {},
          "execution_count": 889
        }
      ]
    },
    {
      "cell_type": "code",
      "source": [
        "df.info()\n",
        "# 카테고리화 확인 -> 더미변수 바꾸기 위하여"
      ],
      "metadata": {
        "colab": {
          "base_uri": "https://localhost:8080/"
        },
        "id": "Mi-NEnHHGgv3",
        "outputId": "8a705c5c-28c7-4e42-c525-e7ede2f7f7fe"
      },
      "execution_count": 890,
      "outputs": [
        {
          "output_type": "stream",
          "name": "stdout",
          "text": [
            "<class 'pandas.core.frame.DataFrame'>\n",
            "RangeIndex: 10000 entries, 0 to 9999\n",
            "Data columns (total 11 columns):\n",
            " #   Column           Non-Null Count  Dtype   \n",
            "---  ------           --------------  -----   \n",
            " 0   CreditScore      10000 non-null  category\n",
            " 1   Geography        10000 non-null  int64   \n",
            " 2   Gender           10000 non-null  int64   \n",
            " 3   Tenure           10000 non-null  int64   \n",
            " 4   Balance          10000 non-null  float64 \n",
            " 5   NumOfProducts    10000 non-null  int64   \n",
            " 6   HasCrCard        10000 non-null  int64   \n",
            " 7   IsActiveMember   10000 non-null  int64   \n",
            " 8   EstimatedSalary  10000 non-null  float64 \n",
            " 9   Exited           10000 non-null  int64   \n",
            " 10  Age_category     10000 non-null  int64   \n",
            "dtypes: category(1), float64(2), int64(8)\n",
            "memory usage: 791.5 KB\n"
          ]
        }
      ]
    },
    {
      "cell_type": "markdown",
      "source": [
        "### 원핫인코딩"
      ],
      "metadata": {
        "id": "APstPSz1mut1"
      }
    },
    {
      "cell_type": "code",
      "source": [
        "df = pd.get_dummies(df)"
      ],
      "metadata": {
        "id": "h6gHBt_vhhHl"
      },
      "execution_count": 891,
      "outputs": []
    },
    {
      "cell_type": "code",
      "source": [
        "df.shape"
      ],
      "metadata": {
        "id": "0cXKOEKThhE7",
        "colab": {
          "base_uri": "https://localhost:8080/"
        },
        "outputId": "0b2db880-8cce-4dec-b038-daf8312a8002"
      },
      "execution_count": 892,
      "outputs": [
        {
          "output_type": "execute_result",
          "data": {
            "text/plain": [
              "(10000, 19)"
            ]
          },
          "metadata": {},
          "execution_count": 892
        }
      ]
    },
    {
      "cell_type": "code",
      "source": [
        "df.head()"
      ],
      "metadata": {
        "colab": {
          "base_uri": "https://localhost:8080/",
          "height": 288
        },
        "id": "-fbprwggKc4O",
        "outputId": "c9389914-bc5d-4748-d09b-30ede76140ea"
      },
      "execution_count": 893,
      "outputs": [
        {
          "output_type": "execute_result",
          "data": {
            "text/plain": [
              "   Geography  Gender  Tenure    Balance  NumOfProducts  HasCrCard  \\\n",
              "0          0       0       2       0.00              1          1   \n",
              "1          2       0       1   83807.86              1          0   \n",
              "2          0       0       8  159660.80              3          1   \n",
              "3          0       0       1       0.00              2          0   \n",
              "4          2       0       2  125510.82              1          1   \n",
              "\n",
              "   IsActiveMember  EstimatedSalary  Exited  Age_category  CreditScore_9등급  \\\n",
              "0               1        101348.88       1             4                0   \n",
              "1               1        112542.58       0             4                0   \n",
              "2               0        113931.57       1             4                0   \n",
              "3               0         93826.63       0             3                0   \n",
              "4               1         79084.10       0             4                0   \n",
              "\n",
              "   CreditScore_8등급  CreditScore_7등급  CreditScore_6등급  CreditScore_5등급  \\\n",
              "0                0                0                0                0   \n",
              "1                0                0                0                0   \n",
              "2                0                0                0                1   \n",
              "3                0                0                0                0   \n",
              "4                0                0                0                0   \n",
              "\n",
              "   CreditScore_4등급  CreditScore_3등급  CreditScore_2등급  CreditScore_1등급  \n",
              "0                1                0                0                0  \n",
              "1                1                0                0                0  \n",
              "2                0                0                0                0  \n",
              "3                1                0                0                0  \n",
              "4                0                0                1                0  "
            ],
            "text/html": [
              "\n",
              "  <div id=\"df-2a6c1b67-637e-46d3-bfeb-27a26a90d1dc\">\n",
              "    <div class=\"colab-df-container\">\n",
              "      <div>\n",
              "<style scoped>\n",
              "    .dataframe tbody tr th:only-of-type {\n",
              "        vertical-align: middle;\n",
              "    }\n",
              "\n",
              "    .dataframe tbody tr th {\n",
              "        vertical-align: top;\n",
              "    }\n",
              "\n",
              "    .dataframe thead th {\n",
              "        text-align: right;\n",
              "    }\n",
              "</style>\n",
              "<table border=\"1\" class=\"dataframe\">\n",
              "  <thead>\n",
              "    <tr style=\"text-align: right;\">\n",
              "      <th></th>\n",
              "      <th>Geography</th>\n",
              "      <th>Gender</th>\n",
              "      <th>Tenure</th>\n",
              "      <th>Balance</th>\n",
              "      <th>NumOfProducts</th>\n",
              "      <th>HasCrCard</th>\n",
              "      <th>IsActiveMember</th>\n",
              "      <th>EstimatedSalary</th>\n",
              "      <th>Exited</th>\n",
              "      <th>Age_category</th>\n",
              "      <th>CreditScore_9등급</th>\n",
              "      <th>CreditScore_8등급</th>\n",
              "      <th>CreditScore_7등급</th>\n",
              "      <th>CreditScore_6등급</th>\n",
              "      <th>CreditScore_5등급</th>\n",
              "      <th>CreditScore_4등급</th>\n",
              "      <th>CreditScore_3등급</th>\n",
              "      <th>CreditScore_2등급</th>\n",
              "      <th>CreditScore_1등급</th>\n",
              "    </tr>\n",
              "  </thead>\n",
              "  <tbody>\n",
              "    <tr>\n",
              "      <th>0</th>\n",
              "      <td>0</td>\n",
              "      <td>0</td>\n",
              "      <td>2</td>\n",
              "      <td>0.00</td>\n",
              "      <td>1</td>\n",
              "      <td>1</td>\n",
              "      <td>1</td>\n",
              "      <td>101348.88</td>\n",
              "      <td>1</td>\n",
              "      <td>4</td>\n",
              "      <td>0</td>\n",
              "      <td>0</td>\n",
              "      <td>0</td>\n",
              "      <td>0</td>\n",
              "      <td>0</td>\n",
              "      <td>1</td>\n",
              "      <td>0</td>\n",
              "      <td>0</td>\n",
              "      <td>0</td>\n",
              "    </tr>\n",
              "    <tr>\n",
              "      <th>1</th>\n",
              "      <td>2</td>\n",
              "      <td>0</td>\n",
              "      <td>1</td>\n",
              "      <td>83807.86</td>\n",
              "      <td>1</td>\n",
              "      <td>0</td>\n",
              "      <td>1</td>\n",
              "      <td>112542.58</td>\n",
              "      <td>0</td>\n",
              "      <td>4</td>\n",
              "      <td>0</td>\n",
              "      <td>0</td>\n",
              "      <td>0</td>\n",
              "      <td>0</td>\n",
              "      <td>0</td>\n",
              "      <td>1</td>\n",
              "      <td>0</td>\n",
              "      <td>0</td>\n",
              "      <td>0</td>\n",
              "    </tr>\n",
              "    <tr>\n",
              "      <th>2</th>\n",
              "      <td>0</td>\n",
              "      <td>0</td>\n",
              "      <td>8</td>\n",
              "      <td>159660.80</td>\n",
              "      <td>3</td>\n",
              "      <td>1</td>\n",
              "      <td>0</td>\n",
              "      <td>113931.57</td>\n",
              "      <td>1</td>\n",
              "      <td>4</td>\n",
              "      <td>0</td>\n",
              "      <td>0</td>\n",
              "      <td>0</td>\n",
              "      <td>0</td>\n",
              "      <td>1</td>\n",
              "      <td>0</td>\n",
              "      <td>0</td>\n",
              "      <td>0</td>\n",
              "      <td>0</td>\n",
              "    </tr>\n",
              "    <tr>\n",
              "      <th>3</th>\n",
              "      <td>0</td>\n",
              "      <td>0</td>\n",
              "      <td>1</td>\n",
              "      <td>0.00</td>\n",
              "      <td>2</td>\n",
              "      <td>0</td>\n",
              "      <td>0</td>\n",
              "      <td>93826.63</td>\n",
              "      <td>0</td>\n",
              "      <td>3</td>\n",
              "      <td>0</td>\n",
              "      <td>0</td>\n",
              "      <td>0</td>\n",
              "      <td>0</td>\n",
              "      <td>0</td>\n",
              "      <td>1</td>\n",
              "      <td>0</td>\n",
              "      <td>0</td>\n",
              "      <td>0</td>\n",
              "    </tr>\n",
              "    <tr>\n",
              "      <th>4</th>\n",
              "      <td>2</td>\n",
              "      <td>0</td>\n",
              "      <td>2</td>\n",
              "      <td>125510.82</td>\n",
              "      <td>1</td>\n",
              "      <td>1</td>\n",
              "      <td>1</td>\n",
              "      <td>79084.10</td>\n",
              "      <td>0</td>\n",
              "      <td>4</td>\n",
              "      <td>0</td>\n",
              "      <td>0</td>\n",
              "      <td>0</td>\n",
              "      <td>0</td>\n",
              "      <td>0</td>\n",
              "      <td>0</td>\n",
              "      <td>0</td>\n",
              "      <td>1</td>\n",
              "      <td>0</td>\n",
              "    </tr>\n",
              "  </tbody>\n",
              "</table>\n",
              "</div>\n",
              "      <button class=\"colab-df-convert\" onclick=\"convertToInteractive('df-2a6c1b67-637e-46d3-bfeb-27a26a90d1dc')\"\n",
              "              title=\"Convert this dataframe to an interactive table.\"\n",
              "              style=\"display:none;\">\n",
              "        \n",
              "  <svg xmlns=\"http://www.w3.org/2000/svg\" height=\"24px\"viewBox=\"0 0 24 24\"\n",
              "       width=\"24px\">\n",
              "    <path d=\"M0 0h24v24H0V0z\" fill=\"none\"/>\n",
              "    <path d=\"M18.56 5.44l.94 2.06.94-2.06 2.06-.94-2.06-.94-.94-2.06-.94 2.06-2.06.94zm-11 1L8.5 8.5l.94-2.06 2.06-.94-2.06-.94L8.5 2.5l-.94 2.06-2.06.94zm10 10l.94 2.06.94-2.06 2.06-.94-2.06-.94-.94-2.06-.94 2.06-2.06.94z\"/><path d=\"M17.41 7.96l-1.37-1.37c-.4-.4-.92-.59-1.43-.59-.52 0-1.04.2-1.43.59L10.3 9.45l-7.72 7.72c-.78.78-.78 2.05 0 2.83L4 21.41c.39.39.9.59 1.41.59.51 0 1.02-.2 1.41-.59l7.78-7.78 2.81-2.81c.8-.78.8-2.07 0-2.86zM5.41 20L4 18.59l7.72-7.72 1.47 1.35L5.41 20z\"/>\n",
              "  </svg>\n",
              "      </button>\n",
              "      \n",
              "  <style>\n",
              "    .colab-df-container {\n",
              "      display:flex;\n",
              "      flex-wrap:wrap;\n",
              "      gap: 12px;\n",
              "    }\n",
              "\n",
              "    .colab-df-convert {\n",
              "      background-color: #E8F0FE;\n",
              "      border: none;\n",
              "      border-radius: 50%;\n",
              "      cursor: pointer;\n",
              "      display: none;\n",
              "      fill: #1967D2;\n",
              "      height: 32px;\n",
              "      padding: 0 0 0 0;\n",
              "      width: 32px;\n",
              "    }\n",
              "\n",
              "    .colab-df-convert:hover {\n",
              "      background-color: #E2EBFA;\n",
              "      box-shadow: 0px 1px 2px rgba(60, 64, 67, 0.3), 0px 1px 3px 1px rgba(60, 64, 67, 0.15);\n",
              "      fill: #174EA6;\n",
              "    }\n",
              "\n",
              "    [theme=dark] .colab-df-convert {\n",
              "      background-color: #3B4455;\n",
              "      fill: #D2E3FC;\n",
              "    }\n",
              "\n",
              "    [theme=dark] .colab-df-convert:hover {\n",
              "      background-color: #434B5C;\n",
              "      box-shadow: 0px 1px 3px 1px rgba(0, 0, 0, 0.15);\n",
              "      filter: drop-shadow(0px 1px 2px rgba(0, 0, 0, 0.3));\n",
              "      fill: #FFFFFF;\n",
              "    }\n",
              "  </style>\n",
              "\n",
              "      <script>\n",
              "        const buttonEl =\n",
              "          document.querySelector('#df-2a6c1b67-637e-46d3-bfeb-27a26a90d1dc button.colab-df-convert');\n",
              "        buttonEl.style.display =\n",
              "          google.colab.kernel.accessAllowed ? 'block' : 'none';\n",
              "\n",
              "        async function convertToInteractive(key) {\n",
              "          const element = document.querySelector('#df-2a6c1b67-637e-46d3-bfeb-27a26a90d1dc');\n",
              "          const dataTable =\n",
              "            await google.colab.kernel.invokeFunction('convertToInteractive',\n",
              "                                                     [key], {});\n",
              "          if (!dataTable) return;\n",
              "\n",
              "          const docLinkHtml = 'Like what you see? Visit the ' +\n",
              "            '<a target=\"_blank\" href=https://colab.research.google.com/notebooks/data_table.ipynb>data table notebook</a>'\n",
              "            + ' to learn more about interactive tables.';\n",
              "          element.innerHTML = '';\n",
              "          dataTable['output_type'] = 'display_data';\n",
              "          await google.colab.output.renderOutput(dataTable, element);\n",
              "          const docLink = document.createElement('div');\n",
              "          docLink.innerHTML = docLinkHtml;\n",
              "          element.appendChild(docLink);\n",
              "        }\n",
              "      </script>\n",
              "    </div>\n",
              "  </div>\n",
              "  "
            ]
          },
          "metadata": {},
          "execution_count": 893
        }
      ]
    },
    {
      "cell_type": "markdown",
      "source": [
        "## 종속변수 생성"
      ],
      "metadata": {
        "id": "TYnsqKRBhdp-"
      }
    },
    {
      "cell_type": "code",
      "source": [
        "X = df.values.copy()\n",
        "y = df.pop('Exited').values.copy()\n",
        "print(X)\n",
        "print(y)"
      ],
      "metadata": {
        "id": "psN0GgMRhhMn",
        "colab": {
          "base_uri": "https://localhost:8080/"
        },
        "outputId": "138ea6c5-1261-423e-cf8c-7a66d3a96c09"
      },
      "execution_count": 894,
      "outputs": [
        {
          "output_type": "stream",
          "name": "stdout",
          "text": [
            "[[0. 0. 2. ... 0. 0. 0.]\n",
            " [2. 0. 1. ... 0. 0. 0.]\n",
            " [0. 0. 8. ... 0. 0. 0.]\n",
            " ...\n",
            " [0. 0. 7. ... 1. 0. 0.]\n",
            " [1. 1. 3. ... 1. 0. 0.]\n",
            " [0. 0. 4. ... 1. 0. 0.]]\n",
            "[1 0 1 ... 1 1 0]\n"
          ]
        }
      ]
    },
    {
      "cell_type": "markdown",
      "source": [
        "### \b데이터 셋 분리"
      ],
      "metadata": {
        "id": "MGtUw5hVK85a"
      }
    },
    {
      "cell_type": "code",
      "source": [
        "from sklearn.model_selection import train_test_split\n",
        "X_tr,X_te,y_tr,y_te=train_test_split(X,y,\n",
        "                                     test_size=0.2)"
      ],
      "metadata": {
        "id": "tD7rrz8QczQu"
      },
      "execution_count": 895,
      "outputs": []
    },
    {
      "cell_type": "code",
      "source": [
        "print(X_tr.shape, X_te.shape)"
      ],
      "metadata": {
        "colab": {
          "base_uri": "https://localhost:8080/"
        },
        "id": "6kvbjDxkkSTn",
        "outputId": "2814e801-0ce5-400c-caa2-a495af48de6a"
      },
      "execution_count": 896,
      "outputs": [
        {
          "output_type": "stream",
          "name": "stdout",
          "text": [
            "(8000, 19) (2000, 19)\n"
          ]
        }
      ]
    },
    {
      "cell_type": "markdown",
      "source": [
        "### 데이터 표준화"
      ],
      "metadata": {
        "id": "NOwtmaWXYHM-"
      }
    },
    {
      "cell_type": "code",
      "source": [
        "from sklearn.preprocessing import StandardScaler\n",
        "scaler = StandardScaler()\n",
        "X_tr = scaler.fit_transform(X_tr)\n",
        "X_te = scaler.transform(X_te)"
      ],
      "metadata": {
        "id": "c7l8m_AzYILi"
      },
      "execution_count": 897,
      "outputs": []
    },
    {
      "cell_type": "code",
      "source": [
        "X_tr"
      ],
      "metadata": {
        "colab": {
          "base_uri": "https://localhost:8080/"
        },
        "id": "Qs4FyiSFe-G6",
        "outputId": "80b0337f-b42b-4987-8eda-c124b6e12aa6"
      },
      "execution_count": 898,
      "outputs": [
        {
          "output_type": "execute_result",
          "data": {
            "text/plain": [
              "array([[ 1.50416548,  0.91670588, -0.00783352, ..., -0.57003687,\n",
              "        -0.26312131,  0.        ],\n",
              "       [-0.90442616, -1.09086243, -0.35406653, ..., -0.57003687,\n",
              "        -0.26312131,  0.        ],\n",
              "       [-0.90442616, -1.09086243, -1.39276556, ...,  1.75427249,\n",
              "        -0.26312131,  0.        ],\n",
              "       ...,\n",
              "       [ 1.50416548, -1.09086243, -1.39276556, ..., -0.57003687,\n",
              "        -0.26312131,  0.        ],\n",
              "       [-0.90442616, -1.09086243,  1.37709852, ..., -0.57003687,\n",
              "         3.80052831,  0.        ],\n",
              "       [ 1.50416548,  0.91670588, -0.00783352, ..., -0.57003687,\n",
              "        -0.26312131,  0.        ]])"
            ]
          },
          "metadata": {},
          "execution_count": 898
        }
      ]
    },
    {
      "cell_type": "markdown",
      "source": [
        "### ANN"
      ],
      "metadata": {
        "id": "ZxOwn-TwdecP"
      }
    },
    {
      "cell_type": "code",
      "source": [
        "# tensorflow, keras\n",
        "import tensorflow as tf\n",
        "from tensorflow import keras\n",
        "ann = tf.keras.models.Sequential()\n",
        "ann.add(tf.keras.layers.Dense(units=5,\n",
        "                              activation='relu',\n",
        "                              input_shape=(19,)))\n",
        "ann.add(tf.keras.layers.Dense(units=5, activation='relu'))\n",
        "ann.add(tf.keras.layers.Dense(units=1, activation='sigmoid'))\n",
        "ann.compile(optimizer='adam', loss='binary_crossentropy', metrics=['accuracy'])\n",
        "history = ann.fit(X_tr, y_tr, batch_size=32, epochs=50, validation_split=0.4)\n",
        "ann.summary()"
      ],
      "metadata": {
        "colab": {
          "base_uri": "https://localhost:8080/"
        },
        "id": "k70re-mmnbVk",
        "outputId": "8993396f-deef-4a8f-acec-87aace860763"
      },
      "execution_count": 908,
      "outputs": [
        {
          "output_type": "stream",
          "name": "stdout",
          "text": [
            "Epoch 1/50\n",
            "150/150 [==============================] - 1s 3ms/step - loss: 0.5814 - accuracy: 0.7521 - val_loss: 0.4798 - val_accuracy: 0.8244\n",
            "Epoch 2/50\n",
            "150/150 [==============================] - 0s 2ms/step - loss: 0.3887 - accuracy: 0.8465 - val_loss: 0.2887 - val_accuracy: 0.8925\n",
            "Epoch 3/50\n",
            "150/150 [==============================] - 0s 3ms/step - loss: 0.2045 - accuracy: 0.9371 - val_loss: 0.1324 - val_accuracy: 0.9634\n",
            "Epoch 4/50\n",
            "150/150 [==============================] - 0s 2ms/step - loss: 0.0863 - accuracy: 0.9831 - val_loss: 0.0555 - val_accuracy: 0.9916\n",
            "Epoch 5/50\n",
            "150/150 [==============================] - 0s 2ms/step - loss: 0.0365 - accuracy: 0.9975 - val_loss: 0.0250 - val_accuracy: 0.9984\n",
            "Epoch 6/50\n",
            "150/150 [==============================] - 0s 3ms/step - loss: 0.0176 - accuracy: 0.9987 - val_loss: 0.0128 - val_accuracy: 0.9994\n",
            "Epoch 7/50\n",
            "150/150 [==============================] - 0s 2ms/step - loss: 0.0097 - accuracy: 0.9996 - val_loss: 0.0075 - val_accuracy: 1.0000\n",
            "Epoch 8/50\n",
            "150/150 [==============================] - 0s 3ms/step - loss: 0.0060 - accuracy: 0.9998 - val_loss: 0.0048 - val_accuracy: 1.0000\n",
            "Epoch 9/50\n",
            "150/150 [==============================] - 0s 2ms/step - loss: 0.0040 - accuracy: 1.0000 - val_loss: 0.0033 - val_accuracy: 1.0000\n",
            "Epoch 10/50\n",
            "150/150 [==============================] - 0s 2ms/step - loss: 0.0028 - accuracy: 1.0000 - val_loss: 0.0024 - val_accuracy: 1.0000\n",
            "Epoch 11/50\n",
            "150/150 [==============================] - 0s 3ms/step - loss: 0.0021 - accuracy: 1.0000 - val_loss: 0.0018 - val_accuracy: 1.0000\n",
            "Epoch 12/50\n",
            "150/150 [==============================] - 0s 2ms/step - loss: 0.0016 - accuracy: 1.0000 - val_loss: 0.0014 - val_accuracy: 1.0000\n",
            "Epoch 13/50\n",
            "150/150 [==============================] - 0s 3ms/step - loss: 0.0012 - accuracy: 1.0000 - val_loss: 0.0011 - val_accuracy: 1.0000\n",
            "Epoch 14/50\n",
            "150/150 [==============================] - 0s 3ms/step - loss: 9.8551e-04 - accuracy: 1.0000 - val_loss: 9.0313e-04 - val_accuracy: 1.0000\n",
            "Epoch 15/50\n",
            "150/150 [==============================] - 0s 3ms/step - loss: 7.9816e-04 - accuracy: 1.0000 - val_loss: 7.3983e-04 - val_accuracy: 1.0000\n",
            "Epoch 16/50\n",
            "150/150 [==============================] - 0s 3ms/step - loss: 6.5537e-04 - accuracy: 1.0000 - val_loss: 6.1403e-04 - val_accuracy: 1.0000\n",
            "Epoch 17/50\n",
            "150/150 [==============================] - 0s 2ms/step - loss: 5.4458e-04 - accuracy: 1.0000 - val_loss: 5.1542e-04 - val_accuracy: 1.0000\n",
            "Epoch 18/50\n",
            "150/150 [==============================] - 0s 2ms/step - loss: 4.5680e-04 - accuracy: 1.0000 - val_loss: 4.3527e-04 - val_accuracy: 1.0000\n",
            "Epoch 19/50\n",
            "150/150 [==============================] - 0s 2ms/step - loss: 3.8660e-04 - accuracy: 1.0000 - val_loss: 3.7053e-04 - val_accuracy: 1.0000\n",
            "Epoch 20/50\n",
            "150/150 [==============================] - 0s 2ms/step - loss: 3.2959e-04 - accuracy: 1.0000 - val_loss: 3.1759e-04 - val_accuracy: 1.0000\n",
            "Epoch 21/50\n",
            "150/150 [==============================] - 0s 2ms/step - loss: 2.8298e-04 - accuracy: 1.0000 - val_loss: 2.7421e-04 - val_accuracy: 1.0000\n",
            "Epoch 22/50\n",
            "150/150 [==============================] - 0s 2ms/step - loss: 2.4420e-04 - accuracy: 1.0000 - val_loss: 2.3699e-04 - val_accuracy: 1.0000\n",
            "Epoch 23/50\n",
            "150/150 [==============================] - 0s 3ms/step - loss: 2.1189e-04 - accuracy: 1.0000 - val_loss: 2.0649e-04 - val_accuracy: 1.0000\n",
            "Epoch 24/50\n",
            "150/150 [==============================] - 0s 2ms/step - loss: 1.8469e-04 - accuracy: 1.0000 - val_loss: 1.8079e-04 - val_accuracy: 1.0000\n",
            "Epoch 25/50\n",
            "150/150 [==============================] - 0s 2ms/step - loss: 1.6157e-04 - accuracy: 1.0000 - val_loss: 1.5843e-04 - val_accuracy: 1.0000\n",
            "Epoch 26/50\n",
            "150/150 [==============================] - 0s 3ms/step - loss: 1.4200e-04 - accuracy: 1.0000 - val_loss: 1.3970e-04 - val_accuracy: 1.0000\n",
            "Epoch 27/50\n",
            "150/150 [==============================] - 0s 2ms/step - loss: 1.2518e-04 - accuracy: 1.0000 - val_loss: 1.2343e-04 - val_accuracy: 1.0000\n",
            "Epoch 28/50\n",
            "150/150 [==============================] - 0s 2ms/step - loss: 1.1065e-04 - accuracy: 1.0000 - val_loss: 1.0940e-04 - val_accuracy: 1.0000\n",
            "Epoch 29/50\n",
            "150/150 [==============================] - 0s 3ms/step - loss: 9.8187e-05 - accuracy: 1.0000 - val_loss: 9.7218e-05 - val_accuracy: 1.0000\n",
            "Epoch 30/50\n",
            "150/150 [==============================] - 0s 2ms/step - loss: 8.7237e-05 - accuracy: 1.0000 - val_loss: 8.6542e-05 - val_accuracy: 1.0000\n",
            "Epoch 31/50\n",
            "150/150 [==============================] - 0s 2ms/step - loss: 7.7725e-05 - accuracy: 1.0000 - val_loss: 7.7303e-05 - val_accuracy: 1.0000\n",
            "Epoch 32/50\n",
            "150/150 [==============================] - 0s 2ms/step - loss: 6.9399e-05 - accuracy: 1.0000 - val_loss: 6.9125e-05 - val_accuracy: 1.0000\n",
            "Epoch 33/50\n",
            "150/150 [==============================] - 0s 2ms/step - loss: 6.2065e-05 - accuracy: 1.0000 - val_loss: 6.2078e-05 - val_accuracy: 1.0000\n",
            "Epoch 34/50\n",
            "150/150 [==============================] - 0s 3ms/step - loss: 5.5633e-05 - accuracy: 1.0000 - val_loss: 5.5743e-05 - val_accuracy: 1.0000\n",
            "Epoch 35/50\n",
            "150/150 [==============================] - 0s 3ms/step - loss: 4.9942e-05 - accuracy: 1.0000 - val_loss: 5.0098e-05 - val_accuracy: 1.0000\n",
            "Epoch 36/50\n",
            "150/150 [==============================] - 0s 2ms/step - loss: 4.4902e-05 - accuracy: 1.0000 - val_loss: 4.5114e-05 - val_accuracy: 1.0000\n",
            "Epoch 37/50\n",
            "150/150 [==============================] - 0s 3ms/step - loss: 4.0430e-05 - accuracy: 1.0000 - val_loss: 4.0733e-05 - val_accuracy: 1.0000\n",
            "Epoch 38/50\n",
            "150/150 [==============================] - 0s 2ms/step - loss: 3.6461e-05 - accuracy: 1.0000 - val_loss: 3.6780e-05 - val_accuracy: 1.0000\n",
            "Epoch 39/50\n",
            "150/150 [==============================] - 0s 2ms/step - loss: 3.2930e-05 - accuracy: 1.0000 - val_loss: 3.3231e-05 - val_accuracy: 1.0000\n",
            "Epoch 40/50\n",
            "150/150 [==============================] - 0s 3ms/step - loss: 2.9752e-05 - accuracy: 1.0000 - val_loss: 3.0106e-05 - val_accuracy: 1.0000\n",
            "Epoch 41/50\n",
            "150/150 [==============================] - 0s 3ms/step - loss: 2.6921e-05 - accuracy: 1.0000 - val_loss: 2.7280e-05 - val_accuracy: 1.0000\n",
            "Epoch 42/50\n",
            "150/150 [==============================] - 0s 3ms/step - loss: 2.4384e-05 - accuracy: 1.0000 - val_loss: 2.4749e-05 - val_accuracy: 1.0000\n",
            "Epoch 43/50\n",
            "150/150 [==============================] - 0s 3ms/step - loss: 2.2108e-05 - accuracy: 1.0000 - val_loss: 2.2418e-05 - val_accuracy: 1.0000\n",
            "Epoch 44/50\n",
            "150/150 [==============================] - 0s 2ms/step - loss: 2.0057e-05 - accuracy: 1.0000 - val_loss: 2.0356e-05 - val_accuracy: 1.0000\n",
            "Epoch 45/50\n",
            "150/150 [==============================] - 0s 2ms/step - loss: 1.8212e-05 - accuracy: 1.0000 - val_loss: 1.8503e-05 - val_accuracy: 1.0000\n",
            "Epoch 46/50\n",
            "150/150 [==============================] - 0s 3ms/step - loss: 1.6549e-05 - accuracy: 1.0000 - val_loss: 1.6856e-05 - val_accuracy: 1.0000\n",
            "Epoch 47/50\n",
            "150/150 [==============================] - 0s 3ms/step - loss: 1.5052e-05 - accuracy: 1.0000 - val_loss: 1.5314e-05 - val_accuracy: 1.0000\n",
            "Epoch 48/50\n",
            "150/150 [==============================] - 0s 3ms/step - loss: 1.3705e-05 - accuracy: 1.0000 - val_loss: 1.3968e-05 - val_accuracy: 1.0000\n",
            "Epoch 49/50\n",
            "150/150 [==============================] - 0s 3ms/step - loss: 1.2470e-05 - accuracy: 1.0000 - val_loss: 1.2722e-05 - val_accuracy: 1.0000\n",
            "Epoch 50/50\n",
            "150/150 [==============================] - 0s 3ms/step - loss: 1.1360e-05 - accuracy: 1.0000 - val_loss: 1.1592e-05 - val_accuracy: 1.0000\n",
            "Model: \"sequential_39\"\n",
            "_________________________________________________________________\n",
            " Layer (type)                Output Shape              Param #   \n",
            "=================================================================\n",
            " dense_95 (Dense)            (None, 5)                 100       \n",
            "                                                                 \n",
            " dense_96 (Dense)            (None, 5)                 30        \n",
            "                                                                 \n",
            " dense_97 (Dense)            (None, 1)                 6         \n",
            "                                                                 \n",
            "=================================================================\n",
            "Total params: 136\n",
            "Trainable params: 136\n",
            "Non-trainable params: 0\n",
            "_________________________________________________________________\n"
          ]
        }
      ]
    },
    {
      "cell_type": "code",
      "source": [
        "ann.evaluate(X_te,y_te)"
      ],
      "metadata": {
        "colab": {
          "base_uri": "https://localhost:8080/"
        },
        "id": "I6j20m3EtnWc",
        "outputId": "5fc2ef58-62e2-499d-c822-2e57dd285f7d"
      },
      "execution_count": 909,
      "outputs": [
        {
          "output_type": "stream",
          "name": "stdout",
          "text": [
            "63/63 [==============================] - 0s 3ms/step - loss: 1.0884e-05 - accuracy: 1.0000\n"
          ]
        },
        {
          "output_type": "execute_result",
          "data": {
            "text/plain": [
              "[1.0883770301006734e-05, 1.0]"
            ]
          },
          "metadata": {},
          "execution_count": 909
        }
      ]
    },
    {
      "cell_type": "code",
      "source": [
        "history.history.keys()"
      ],
      "metadata": {
        "colab": {
          "base_uri": "https://localhost:8080/"
        },
        "id": "hGPQwWQ3iMpO",
        "outputId": "78d5c6b2-3079-40c7-b133-8e15f5d6a083"
      },
      "execution_count": 840,
      "outputs": [
        {
          "output_type": "execute_result",
          "data": {
            "text/plain": [
              "dict_keys(['loss', 'accuracy', 'val_loss', 'val_accuracy'])"
            ]
          },
          "metadata": {},
          "execution_count": 840
        }
      ]
    },
    {
      "cell_type": "code",
      "source": [
        "# 신경망 모델이 epoch 마다 계산한 훈련 셋에서의 크로스 엔트로피\n",
        "train_loss = history.history['loss']\n",
        "# 신경망 모델이 epoch 마다 계산한 훈련 셋에서의 정확도\n",
        "train_acc = history.history['accuracy']\n",
        "\n",
        "epochs = np.arange(1,51)\n",
        "plt.plot(epochs, train_loss, 'ro-', label='train loss')\n",
        "plt.plot(epochs, train_acc, 'bo-', label='train acc')\n",
        "plt.grid()\n",
        "plt.legend()\n",
        "plt.show()"
      ],
      "metadata": {
        "colab": {
          "base_uri": "https://localhost:8080/",
          "height": 265
        },
        "id": "ExRP4Pxch4BS",
        "outputId": "7e6f9f57-2d67-41e3-a048-1e91b8fb2f3a"
      },
      "execution_count": 910,
      "outputs": [
        {
          "output_type": "display_data",
          "data": {
            "text/plain": [
              "<Figure size 432x288 with 1 Axes>"
            ],
            "image/png": "[encoded data removed]"
          },
          "metadata": {
            "needs_background": "light"
          }
        }
      ]
    },
    {
      "cell_type": "code",
      "source": [
        "# 신경망 모델이 epoch 마다 계산한 검증 셋에서의 크로스 엔트로피(손실)\n",
        "val_loss = history.history['val_loss']\n",
        "# 신경망 모델이 epoch 마다 계산한 훈련 셋에서의 정확도\n",
        "val_acc = history.history['val_accuracy']\n",
        "\n",
        "epochs = np.arange(1,51)\n",
        "plt.plot(epochs, val_loss, 'ro-', label='validation loss')\n",
        "plt.plot(epochs, val_acc, 'bo-', label='validation acc')\n",
        "plt.grid()\n",
        "plt.legend()\n",
        "plt.show()\n",
        "# 정확도가 떨어지면 손실은 올라가고, 정확도가 올라가면 손실은 내려가는 모습을 보임. 검증셋의 학습 곡선"
      ],
      "metadata": {
        "colab": {
          "base_uri": "https://localhost:8080/",
          "height": 265
        },
        "id": "EPPnC4hAjpCy",
        "outputId": "5c133df1-5f1b-45f9-b5f5-f2ffd5085b54"
      },
      "execution_count": 911,
      "outputs": [
        {
          "output_type": "display_data",
          "data": {
            "text/plain": [
              "<Figure size 432x288 with 1 Axes>"
            ],
            "image/png": "[encoded data removed]"
          },
          "metadata": {
            "needs_background": "light"
          }
        }
      ]
    },
    {
      "cell_type": "code",
      "source": [
        "plt.figure(figsize=(12,8))\n",
        "ephochs= np.arange(1,51)\n",
        "plt.plot(epochs, train_loss, 'ro-', label='train loss')\n",
        "plt.plot(epochs, train_acc, 'bo-', label='train acc')\n",
        "\n",
        "plt.plot(epochs, val_loss, 'yo:', label='validation loss')\n",
        "plt.plot(epochs, val_acc, 'go:', label='validation acc')\n",
        "\n",
        "plt.grid()\n",
        "plt.legend()\n",
        "plt.show()"
      ],
      "metadata": {
        "colab": {
          "base_uri": "https://localhost:8080/",
          "height": 483
        },
        "id": "hP6naB5mi_t-",
        "outputId": "ca51ac7c-14e0-4e5c-d9fc-5181f474ce95"
      },
      "execution_count": 912,
      "outputs": [
        {
          "output_type": "display_data",
          "data": {
            "text/plain": [
              "<Figure size 864x576 with 1 Axes>"
            ],
            "image/png": "[encoded data removed]"
          },
          "metadata": {
            "needs_background": "light"
          }
        }
      ]
    },
    {
      "cell_type": "code",
      "source": [
        "y_pred=ann.predict(X_te)\n",
        "y_pred=(y_pred>0.5)"
      ],
      "metadata": {
        "id": "JlKx0i9_qbDC"
      },
      "execution_count": 913,
      "outputs": []
    },
    {
      "cell_type": "code",
      "source": [
        "from sklearn.metrics import accuracy_score\n",
        "print(accuracy_score(y_te, y_pred))"
      ],
      "metadata": {
        "colab": {
          "base_uri": "https://localhost:8080/"
        },
        "id": "-jvDKCZgqgTs",
        "outputId": "f1d10ac4-4a8e-45b8-d247-1025feab5c0e"
      },
      "execution_count": 914,
      "outputs": [
        {
          "output_type": "stream",
          "name": "stdout",
          "text": [
            "1.0\n"
          ]
        }
      ]
    },
    {
      "cell_type": "code",
      "source": [
        "from sklearn.metrics import confusion_matrix\n",
        "print(confusion_matrix(y_te, y_pred))"
      ],
      "metadata": {
        "colab": {
          "base_uri": "https://localhost:8080/"
        },
        "id": "aHioKrzkqkMV",
        "outputId": "b3dfff10-d17c-4e6e-b8b4-8bbfe5ab988a"
      },
      "execution_count": 915,
      "outputs": [
        {
          "output_type": "stream",
          "name": "stdout",
          "text": [
            "[[1616    0]\n",
            " [   0  384]]\n"
          ]
        }
      ]
    }
  ]
}