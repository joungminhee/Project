{
  "nbformat": 4,
  "nbformat_minor": 0,
  "metadata": {
    "colab": {
      "name": "churn_modeling.ipynb",
      "provenance": [],
      "collapsed_sections": [],
      "mount_file_id": "18xxLJS6TXSdzsiWcoYQN0ozL3h1mAvsh",
      "authorship_tag": "ABX9TyN48KUl4uyreXxiH0ELFH0I",
      "include_colab_link": true
    },
    "kernelspec": {
      "name": "python3",
      "display_name": "Python 3"
    },
    "language_info": {
      "name": "python"
    }
  },
  "cells": [
    {
      "cell_type": "markdown",
      "metadata": {
        "id": "view-in-github",
        "colab_type": "text"
      },
      "source": [
        "<a href=\"https://colab.research.google.com/github/joungminhee/project/blob/master/churn_modeling.ipynb\" target=\"_parent\"><img src=\"https://colab.research.google.com/assets/colab-badge.svg\" alt=\"Open In Colab\"/></a>"
      ]
    },
    {
      "cell_type": "markdown",
      "source": [
        "# Imports"
      ],
      "metadata": {
        "id": "vIek1cevZiSk"
      }
    },
    {
      "cell_type": "code",
      "source": [
        "import numpy as np\n",
        "import pandas as pd\n",
        "import matplotlib.pyplot as plt\n",
        "import seaborn as sns"
      ],
      "metadata": {
        "id": "mfrsYo_vZg88"
      },
      "execution_count": 194,
      "outputs": []
    },
    {
      "cell_type": "code",
      "execution_count": 195,
      "metadata": {
        "id": "Jiy4v6t6ZGvB"
      },
      "outputs": [],
      "source": [
        "data = '/content/drive/MyDrive/Data/Churn_Modelling.csv'\n",
        "df = pd.read_csv(data)"
      ]
    },
    {
      "cell_type": "markdown",
      "source": [
        "* RowNumber : 행번호\n",
        "* CustomerID : 고객의 아이디\n",
        "* Surname : 성\n",
        "* CreditScore : 신용평점\n",
        "* Geography : 고객이 속한 국가\n",
        "* Gender : 성별\n",
        "* Age : 나이\n",
        "* Tenure : 고객이 은행을 이용한 기간\n",
        "* Balance : 고객의 은행 잔고\n",
        "* NumOfProducts : 고객이 사용 중인 은행 상품 수\n",
        "* HasCrCard : 고객이 은행의 신용 카드를 소유하고 있는지 여부\n",
        "* IsActiveMember : 고객이 은행의 활성 멤버인가 여부\n",
        "* EstimatedSalary : 고객의 예상 급여(달러)\n",
        "* Exited : 고객이 은행 계좌를 폐쇄한 경우 이진 플래그 1, 고객이 유지된 경우 0"
      ],
      "metadata": {
        "id": "x6_64PxyZ5G7"
      }
    },
    {
      "cell_type": "code",
      "source": [
        "df.head()"
      ],
      "metadata": {
        "colab": {
          "base_uri": "https://localhost:8080/",
          "height": 270
        },
        "id": "NNZpL7B4Zres",
        "outputId": "c9f775ab-46d8-4b6b-dccc-abc4d3b56480"
      },
      "execution_count": 196,
      "outputs": [
        {
          "output_type": "execute_result",
          "data": {
            "text/plain": [
              "   RowNumber  CustomerId   Surname  CreditScore Geography  Gender  Age  \\\n",
              "0          1    15634602  Hargrave          619    France  Female   42   \n",
              "1          2    15647311      Hill          608     Spain  Female   41   \n",
              "2          3    15619304      Onio          502    France  Female   42   \n",
              "3          4    15701354      Boni          699    France  Female   39   \n",
              "4          5    15737888  Mitchell          850     Spain  Female   43   \n",
              "\n",
              "   Tenure    Balance  NumOfProducts  HasCrCard  IsActiveMember  \\\n",
              "0       2       0.00              1          1               1   \n",
              "1       1   83807.86              1          0               1   \n",
              "2       8  159660.80              3          1               0   \n",
              "3       1       0.00              2          0               0   \n",
              "4       2  125510.82              1          1               1   \n",
              "\n",
              "   EstimatedSalary  Exited  \n",
              "0        101348.88       1  \n",
              "1        112542.58       0  \n",
              "2        113931.57       1  \n",
              "3         93826.63       0  \n",
              "4         79084.10       0  "
            ],
            "text/html": [
              "\n",
              "  <div id=\"df-4b8c277e-798e-4a44-a865-6313d83292e9\">\n",
              "    <div class=\"colab-df-container\">\n",
              "      <div>\n",
              "<style scoped>\n",
              "    .dataframe tbody tr th:only-of-type {\n",
              "        vertical-align: middle;\n",
              "    }\n",
              "\n",
              "    .dataframe tbody tr th {\n",
              "        vertical-align: top;\n",
              "    }\n",
              "\n",
              "    .dataframe thead th {\n",
              "        text-align: right;\n",
              "    }\n",
              "</style>\n",
              "<table border=\"1\" class=\"dataframe\">\n",
              "  <thead>\n",
              "    <tr style=\"text-align: right;\">\n",
              "      <th></th>\n",
              "      <th>RowNumber</th>\n",
              "      <th>CustomerId</th>\n",
              "      <th>Surname</th>\n",
              "      <th>CreditScore</th>\n",
              "      <th>Geography</th>\n",
              "      <th>Gender</th>\n",
              "      <th>Age</th>\n",
              "      <th>Tenure</th>\n",
              "      <th>Balance</th>\n",
              "      <th>NumOfProducts</th>\n",
              "      <th>HasCrCard</th>\n",
              "      <th>IsActiveMember</th>\n",
              "      <th>EstimatedSalary</th>\n",
              "      <th>Exited</th>\n",
              "    </tr>\n",
              "  </thead>\n",
              "  <tbody>\n",
              "    <tr>\n",
              "      <th>0</th>\n",
              "      <td>1</td>\n",
              "      <td>15634602</td>\n",
              "      <td>Hargrave</td>\n",
              "      <td>619</td>\n",
              "      <td>France</td>\n",
              "      <td>Female</td>\n",
              "      <td>42</td>\n",
              "      <td>2</td>\n",
              "      <td>0.00</td>\n",
              "      <td>1</td>\n",
              "      <td>1</td>\n",
              "      <td>1</td>\n",
              "      <td>101348.88</td>\n",
              "      <td>1</td>\n",
              "    </tr>\n",
              "    <tr>\n",
              "      <th>1</th>\n",
              "      <td>2</td>\n",
              "      <td>15647311</td>\n",
              "      <td>Hill</td>\n",
              "      <td>608</td>\n",
              "      <td>Spain</td>\n",
              "      <td>Female</td>\n",
              "      <td>41</td>\n",
              "      <td>1</td>\n",
              "      <td>83807.86</td>\n",
              "      <td>1</td>\n",
              "      <td>0</td>\n",
              "      <td>1</td>\n",
              "      <td>112542.58</td>\n",
              "      <td>0</td>\n",
              "    </tr>\n",
              "    <tr>\n",
              "      <th>2</th>\n",
              "      <td>3</td>\n",
              "      <td>15619304</td>\n",
              "      <td>Onio</td>\n",
              "      <td>502</td>\n",
              "      <td>France</td>\n",
              "      <td>Female</td>\n",
              "      <td>42</td>\n",
              "      <td>8</td>\n",
              "      <td>159660.80</td>\n",
              "      <td>3</td>\n",
              "      <td>1</td>\n",
              "      <td>0</td>\n",
              "      <td>113931.57</td>\n",
              "      <td>1</td>\n",
              "    </tr>\n",
              "    <tr>\n",
              "      <th>3</th>\n",
              "      <td>4</td>\n",
              "      <td>15701354</td>\n",
              "      <td>Boni</td>\n",
              "      <td>699</td>\n",
              "      <td>France</td>\n",
              "      <td>Female</td>\n",
              "      <td>39</td>\n",
              "      <td>1</td>\n",
              "      <td>0.00</td>\n",
              "      <td>2</td>\n",
              "      <td>0</td>\n",
              "      <td>0</td>\n",
              "      <td>93826.63</td>\n",
              "      <td>0</td>\n",
              "    </tr>\n",
              "    <tr>\n",
              "      <th>4</th>\n",
              "      <td>5</td>\n",
              "      <td>15737888</td>\n",
              "      <td>Mitchell</td>\n",
              "      <td>850</td>\n",
              "      <td>Spain</td>\n",
              "      <td>Female</td>\n",
              "      <td>43</td>\n",
              "      <td>2</td>\n",
              "      <td>125510.82</td>\n",
              "      <td>1</td>\n",
              "      <td>1</td>\n",
              "      <td>1</td>\n",
              "      <td>79084.10</td>\n",
              "      <td>0</td>\n",
              "    </tr>\n",
              "  </tbody>\n",
              "</table>\n",
              "</div>\n",
              "      <button class=\"colab-df-convert\" onclick=\"convertToInteractive('df-4b8c277e-798e-4a44-a865-6313d83292e9')\"\n",
              "              title=\"Convert this dataframe to an interactive table.\"\n",
              "              style=\"display:none;\">\n",
              "        \n",
              "  <svg xmlns=\"http://www.w3.org/2000/svg\" height=\"24px\"viewBox=\"0 0 24 24\"\n",
              "       width=\"24px\">\n",
              "    <path d=\"M0 0h24v24H0V0z\" fill=\"none\"/>\n",
              "    <path d=\"M18.56 5.44l.94 2.06.94-2.06 2.06-.94-2.06-.94-.94-2.06-.94 2.06-2.06.94zm-11 1L8.5 8.5l.94-2.06 2.06-.94-2.06-.94L8.5 2.5l-.94 2.06-2.06.94zm10 10l.94 2.06.94-2.06 2.06-.94-2.06-.94-.94-2.06-.94 2.06-2.06.94z\"/><path d=\"M17.41 7.96l-1.37-1.37c-.4-.4-.92-.59-1.43-.59-.52 0-1.04.2-1.43.59L10.3 9.45l-7.72 7.72c-.78.78-.78 2.05 0 2.83L4 21.41c.39.39.9.59 1.41.59.51 0 1.02-.2 1.41-.59l7.78-7.78 2.81-2.81c.8-.78.8-2.07 0-2.86zM5.41 20L4 18.59l7.72-7.72 1.47 1.35L5.41 20z\"/>\n",
              "  </svg>\n",
              "      </button>\n",
              "      \n",
              "  <style>\n",
              "    .colab-df-container {\n",
              "      display:flex;\n",
              "      flex-wrap:wrap;\n",
              "      gap: 12px;\n",
              "    }\n",
              "\n",
              "    .colab-df-convert {\n",
              "      background-color: #E8F0FE;\n",
              "      border: none;\n",
              "      border-radius: 50%;\n",
              "      cursor: pointer;\n",
              "      display: none;\n",
              "      fill: #1967D2;\n",
              "      height: 32px;\n",
              "      padding: 0 0 0 0;\n",
              "      width: 32px;\n",
              "    }\n",
              "\n",
              "    .colab-df-convert:hover {\n",
              "      background-color: #E2EBFA;\n",
              "      box-shadow: 0px 1px 2px rgba(60, 64, 67, 0.3), 0px 1px 3px 1px rgba(60, 64, 67, 0.15);\n",
              "      fill: #174EA6;\n",
              "    }\n",
              "\n",
              "    [theme=dark] .colab-df-convert {\n",
              "      background-color: #3B4455;\n",
              "      fill: #D2E3FC;\n",
              "    }\n",
              "\n",
              "    [theme=dark] .colab-df-convert:hover {\n",
              "      background-color: #434B5C;\n",
              "      box-shadow: 0px 1px 3px 1px rgba(0, 0, 0, 0.15);\n",
              "      filter: drop-shadow(0px 1px 2px rgba(0, 0, 0, 0.3));\n",
              "      fill: #FFFFFF;\n",
              "    }\n",
              "  </style>\n",
              "\n",
              "      <script>\n",
              "        const buttonEl =\n",
              "          document.querySelector('#df-4b8c277e-798e-4a44-a865-6313d83292e9 button.colab-df-convert');\n",
              "        buttonEl.style.display =\n",
              "          google.colab.kernel.accessAllowed ? 'block' : 'none';\n",
              "\n",
              "        async function convertToInteractive(key) {\n",
              "          const element = document.querySelector('#df-4b8c277e-798e-4a44-a865-6313d83292e9');\n",
              "          const dataTable =\n",
              "            await google.colab.kernel.invokeFunction('convertToInteractive',\n",
              "                                                     [key], {});\n",
              "          if (!dataTable) return;\n",
              "\n",
              "          const docLinkHtml = 'Like what you see? Visit the ' +\n",
              "            '<a target=\"_blank\" href=https://colab.research.google.com/notebooks/data_table.ipynb>data table notebook</a>'\n",
              "            + ' to learn more about interactive tables.';\n",
              "          element.innerHTML = '';\n",
              "          dataTable['output_type'] = 'display_data';\n",
              "          await google.colab.output.renderOutput(dataTable, element);\n",
              "          const docLink = document.createElement('div');\n",
              "          docLink.innerHTML = docLinkHtml;\n",
              "          element.appendChild(docLink);\n",
              "        }\n",
              "      </script>\n",
              "    </div>\n",
              "  </div>\n",
              "  "
            ]
          },
          "metadata": {},
          "execution_count": 196
        }
      ]
    },
    {
      "cell_type": "code",
      "source": [
        "df.info()"
      ],
      "metadata": {
        "colab": {
          "base_uri": "https://localhost:8080/"
        },
        "id": "x0PcWYRgZtco",
        "outputId": "58d9585c-7911-436c-f163-bc794be5ec40"
      },
      "execution_count": 197,
      "outputs": [
        {
          "output_type": "stream",
          "name": "stdout",
          "text": [
            "<class 'pandas.core.frame.DataFrame'>\n",
            "RangeIndex: 10000 entries, 0 to 9999\n",
            "Data columns (total 14 columns):\n",
            " #   Column           Non-Null Count  Dtype  \n",
            "---  ------           --------------  -----  \n",
            " 0   RowNumber        10000 non-null  int64  \n",
            " 1   CustomerId       10000 non-null  int64  \n",
            " 2   Surname          10000 non-null  object \n",
            " 3   CreditScore      10000 non-null  int64  \n",
            " 4   Geography        10000 non-null  object \n",
            " 5   Gender           10000 non-null  object \n",
            " 6   Age              10000 non-null  int64  \n",
            " 7   Tenure           10000 non-null  int64  \n",
            " 8   Balance          10000 non-null  float64\n",
            " 9   NumOfProducts    10000 non-null  int64  \n",
            " 10  HasCrCard        10000 non-null  int64  \n",
            " 11  IsActiveMember   10000 non-null  int64  \n",
            " 12  EstimatedSalary  10000 non-null  float64\n",
            " 13  Exited           10000 non-null  int64  \n",
            "dtypes: float64(2), int64(9), object(3)\n",
            "memory usage: 1.1+ MB\n"
          ]
        }
      ]
    },
    {
      "cell_type": "code",
      "source": [
        "df.isnull().sum()"
      ],
      "metadata": {
        "colab": {
          "base_uri": "https://localhost:8080/"
        },
        "id": "tR6UW_FfatmA",
        "outputId": "0ffbd0bd-7aab-416a-b05a-9fb5d1765aa7"
      },
      "execution_count": 198,
      "outputs": [
        {
          "output_type": "execute_result",
          "data": {
            "text/plain": [
              "RowNumber          0\n",
              "CustomerId         0\n",
              "Surname            0\n",
              "CreditScore        0\n",
              "Geography          0\n",
              "Gender             0\n",
              "Age                0\n",
              "Tenure             0\n",
              "Balance            0\n",
              "NumOfProducts      0\n",
              "HasCrCard          0\n",
              "IsActiveMember     0\n",
              "EstimatedSalary    0\n",
              "Exited             0\n",
              "dtype: int64"
            ]
          },
          "metadata": {},
          "execution_count": 198
        }
      ]
    },
    {
      "cell_type": "code",
      "source": [
        "df.CreditScore.unique() # 앞번호대로 구간화 / age도 구간화해야징~!"
      ],
      "metadata": {
        "colab": {
          "base_uri": "https://localhost:8080/"
        },
        "id": "ZWClkm_Natjg",
        "outputId": "c3c4088d-2fd4-471b-d4f1-8e7c5c7f93cf"
      },
      "execution_count": 199,
      "outputs": [
        {
          "output_type": "execute_result",
          "data": {
            "text/plain": [
              "array([619, 608, 502, 699, 850, 645, 822, 376, 501, 684, 528, 497, 476,\n",
              "       549, 635, 616, 653, 587, 726, 732, 636, 510, 669, 846, 577, 756,\n",
              "       571, 574, 411, 591, 533, 553, 520, 722, 475, 490, 804, 582, 472,\n",
              "       465, 556, 834, 660, 776, 829, 637, 550, 698, 585, 788, 655, 601,\n",
              "       656, 725, 511, 614, 742, 687, 555, 603, 751, 581, 735, 661, 675,\n",
              "       738, 813, 657, 604, 519, 664, 678, 757, 416, 665, 777, 543, 506,\n",
              "       493, 652, 750, 729, 646, 647, 808, 524, 769, 730, 515, 773, 814,\n",
              "       710, 413, 623, 670, 622, 785, 605, 479, 685, 538, 562, 721, 628,\n",
              "       668, 828, 674, 625, 432, 770, 758, 795, 686, 789, 589, 461, 584,\n",
              "       579, 663, 682, 793, 691, 485, 650, 754, 535, 716, 539, 706, 586,\n",
              "       631, 717, 800, 683, 704, 615, 667, 484, 480, 578, 512, 606, 597,\n",
              "       778, 514, 525, 715, 580, 807, 521, 759, 516, 711, 618, 643, 671,\n",
              "       689, 620, 676, 572, 695, 592, 567, 694, 547, 594, 673, 610, 767,\n",
              "       763, 712, 703, 662, 659, 523, 772, 545, 634, 739, 771, 681, 544,\n",
              "       696, 766, 727, 693, 557, 531, 498, 651, 791, 733, 811, 707, 714,\n",
              "       782, 775, 799, 602, 744, 588, 747, 583, 627, 731, 629, 438, 642,\n",
              "       806, 474, 559, 429, 680, 749, 734, 644, 626, 649, 805, 718, 840,\n",
              "       630, 654, 762, 568, 613, 522, 737, 648, 443, 640, 540, 460, 593,\n",
              "       801, 611, 802, 745, 483, 690, 492, 709, 705, 560, 752, 701, 537,\n",
              "       487, 596, 702, 486, 724, 548, 464, 790, 534, 748, 494, 590, 468,\n",
              "       509, 818, 816, 536, 753, 774, 621, 569, 658, 798, 641, 542, 692,\n",
              "       639, 765, 570, 638, 599, 632, 779, 527, 564, 833, 504, 842, 508,\n",
              "       417, 598, 741, 607, 761, 848, 546, 439, 755, 760, 526, 713, 700,\n",
              "       666, 566, 495, 688, 612, 477, 427, 839, 819, 720, 459, 503, 624,\n",
              "       529, 563, 482, 796, 445, 746, 786, 554, 672, 787, 499, 844, 450,\n",
              "       815, 838, 803, 736, 633, 600, 679, 517, 792, 743, 488, 421, 841,\n",
              "       708, 507, 505, 456, 435, 561, 518, 565, 728, 784, 552, 609, 764,\n",
              "       697, 723, 551, 444, 719, 496, 541, 830, 812, 677, 420, 595, 617,\n",
              "       809, 500, 826, 434, 513, 478, 797, 363, 399, 463, 780, 452, 575,\n",
              "       837, 794, 824, 428, 823, 781, 849, 489, 431, 457, 768, 831, 359,\n",
              "       820, 573, 576, 558, 817, 449, 440, 415, 821, 530, 350, 446, 425,\n",
              "       740, 481, 783, 358, 845, 451, 458, 469, 423, 404, 836, 473, 835,\n",
              "       466, 491, 351, 827, 843, 365, 532, 414, 453, 471, 401, 810, 832,\n",
              "       470, 447, 422, 825, 430, 436, 426, 408, 847, 418, 437, 410, 454,\n",
              "       407, 455, 462, 386, 405, 383, 395, 467, 433, 442, 424, 448, 441,\n",
              "       367, 412, 382, 373, 419])"
            ]
          },
          "metadata": {},
          "execution_count": 199
        }
      ]
    },
    {
      "cell_type": "code",
      "source": [
        "df.Geography.unique()"
      ],
      "metadata": {
        "colab": {
          "base_uri": "https://localhost:8080/"
        },
        "id": "yBvUYn8matXz",
        "outputId": "ea6e7bc7-79e4-4d33-b427-546b707d4436"
      },
      "execution_count": 200,
      "outputs": [
        {
          "output_type": "execute_result",
          "data": {
            "text/plain": [
              "array(['France', 'Spain', 'Germany'], dtype=object)"
            ]
          },
          "metadata": {},
          "execution_count": 200
        }
      ]
    },
    {
      "cell_type": "code",
      "source": [
        "df.describe(include='object')\n",
        "# 스미스 이름 빈도수가 32개나 됨"
      ],
      "metadata": {
        "colab": {
          "base_uri": "https://localhost:8080/",
          "height": 175
        },
        "id": "dJXAU-TEbe1i",
        "outputId": "d45505aa-5c78-4462-8dd2-59fa3c9af2a4"
      },
      "execution_count": 201,
      "outputs": [
        {
          "output_type": "execute_result",
          "data": {
            "text/plain": [
              "       Surname Geography Gender\n",
              "count    10000     10000  10000\n",
              "unique    2932         3      2\n",
              "top      Smith    France   Male\n",
              "freq        32      5014   5457"
            ],
            "text/html": [
              "\n",
              "  <div id=\"df-c104a874-018c-4dd1-b5cb-3b04b1e3ad93\">\n",
              "    <div class=\"colab-df-container\">\n",
              "      <div>\n",
              "<style scoped>\n",
              "    .dataframe tbody tr th:only-of-type {\n",
              "        vertical-align: middle;\n",
              "    }\n",
              "\n",
              "    .dataframe tbody tr th {\n",
              "        vertical-align: top;\n",
              "    }\n",
              "\n",
              "    .dataframe thead th {\n",
              "        text-align: right;\n",
              "    }\n",
              "</style>\n",
              "<table border=\"1\" class=\"dataframe\">\n",
              "  <thead>\n",
              "    <tr style=\"text-align: right;\">\n",
              "      <th></th>\n",
              "      <th>Surname</th>\n",
              "      <th>Geography</th>\n",
              "      <th>Gender</th>\n",
              "    </tr>\n",
              "  </thead>\n",
              "  <tbody>\n",
              "    <tr>\n",
              "      <th>count</th>\n",
              "      <td>10000</td>\n",
              "      <td>10000</td>\n",
              "      <td>10000</td>\n",
              "    </tr>\n",
              "    <tr>\n",
              "      <th>unique</th>\n",
              "      <td>2932</td>\n",
              "      <td>3</td>\n",
              "      <td>2</td>\n",
              "    </tr>\n",
              "    <tr>\n",
              "      <th>top</th>\n",
              "      <td>Smith</td>\n",
              "      <td>France</td>\n",
              "      <td>Male</td>\n",
              "    </tr>\n",
              "    <tr>\n",
              "      <th>freq</th>\n",
              "      <td>32</td>\n",
              "      <td>5014</td>\n",
              "      <td>5457</td>\n",
              "    </tr>\n",
              "  </tbody>\n",
              "</table>\n",
              "</div>\n",
              "      <button class=\"colab-df-convert\" onclick=\"convertToInteractive('df-c104a874-018c-4dd1-b5cb-3b04b1e3ad93')\"\n",
              "              title=\"Convert this dataframe to an interactive table.\"\n",
              "              style=\"display:none;\">\n",
              "        \n",
              "  <svg xmlns=\"http://www.w3.org/2000/svg\" height=\"24px\"viewBox=\"0 0 24 24\"\n",
              "       width=\"24px\">\n",
              "    <path d=\"M0 0h24v24H0V0z\" fill=\"none\"/>\n",
              "    <path d=\"M18.56 5.44l.94 2.06.94-2.06 2.06-.94-2.06-.94-.94-2.06-.94 2.06-2.06.94zm-11 1L8.5 8.5l.94-2.06 2.06-.94-2.06-.94L8.5 2.5l-.94 2.06-2.06.94zm10 10l.94 2.06.94-2.06 2.06-.94-2.06-.94-.94-2.06-.94 2.06-2.06.94z\"/><path d=\"M17.41 7.96l-1.37-1.37c-.4-.4-.92-.59-1.43-.59-.52 0-1.04.2-1.43.59L10.3 9.45l-7.72 7.72c-.78.78-.78 2.05 0 2.83L4 21.41c.39.39.9.59 1.41.59.51 0 1.02-.2 1.41-.59l7.78-7.78 2.81-2.81c.8-.78.8-2.07 0-2.86zM5.41 20L4 18.59l7.72-7.72 1.47 1.35L5.41 20z\"/>\n",
              "  </svg>\n",
              "      </button>\n",
              "      \n",
              "  <style>\n",
              "    .colab-df-container {\n",
              "      display:flex;\n",
              "      flex-wrap:wrap;\n",
              "      gap: 12px;\n",
              "    }\n",
              "\n",
              "    .colab-df-convert {\n",
              "      background-color: #E8F0FE;\n",
              "      border: none;\n",
              "      border-radius: 50%;\n",
              "      cursor: pointer;\n",
              "      display: none;\n",
              "      fill: #1967D2;\n",
              "      height: 32px;\n",
              "      padding: 0 0 0 0;\n",
              "      width: 32px;\n",
              "    }\n",
              "\n",
              "    .colab-df-convert:hover {\n",
              "      background-color: #E2EBFA;\n",
              "      box-shadow: 0px 1px 2px rgba(60, 64, 67, 0.3), 0px 1px 3px 1px rgba(60, 64, 67, 0.15);\n",
              "      fill: #174EA6;\n",
              "    }\n",
              "\n",
              "    [theme=dark] .colab-df-convert {\n",
              "      background-color: #3B4455;\n",
              "      fill: #D2E3FC;\n",
              "    }\n",
              "\n",
              "    [theme=dark] .colab-df-convert:hover {\n",
              "      background-color: #434B5C;\n",
              "      box-shadow: 0px 1px 3px 1px rgba(0, 0, 0, 0.15);\n",
              "      filter: drop-shadow(0px 1px 2px rgba(0, 0, 0, 0.3));\n",
              "      fill: #FFFFFF;\n",
              "    }\n",
              "  </style>\n",
              "\n",
              "      <script>\n",
              "        const buttonEl =\n",
              "          document.querySelector('#df-c104a874-018c-4dd1-b5cb-3b04b1e3ad93 button.colab-df-convert');\n",
              "        buttonEl.style.display =\n",
              "          google.colab.kernel.accessAllowed ? 'block' : 'none';\n",
              "\n",
              "        async function convertToInteractive(key) {\n",
              "          const element = document.querySelector('#df-c104a874-018c-4dd1-b5cb-3b04b1e3ad93');\n",
              "          const dataTable =\n",
              "            await google.colab.kernel.invokeFunction('convertToInteractive',\n",
              "                                                     [key], {});\n",
              "          if (!dataTable) return;\n",
              "\n",
              "          const docLinkHtml = 'Like what you see? Visit the ' +\n",
              "            '<a target=\"_blank\" href=https://colab.research.google.com/notebooks/data_table.ipynb>data table notebook</a>'\n",
              "            + ' to learn more about interactive tables.';\n",
              "          element.innerHTML = '';\n",
              "          dataTable['output_type'] = 'display_data';\n",
              "          await google.colab.output.renderOutput(dataTable, element);\n",
              "          const docLink = document.createElement('div');\n",
              "          docLink.innerHTML = docLinkHtml;\n",
              "          element.appendChild(docLink);\n",
              "        }\n",
              "      </script>\n",
              "    </div>\n",
              "  </div>\n",
              "  "
            ]
          },
          "metadata": {},
          "execution_count": 201
        }
      ]
    },
    {
      "cell_type": "markdown",
      "source": [
        "# 데이터 탐색"
      ],
      "metadata": {
        "id": "sBjJvdfbcbhD"
      }
    },
    {
      "cell_type": "code",
      "source": [
        "# 이탈율 확인\n",
        "exited_plt = sns.countplot(x=df.Exited)\n",
        "exited_plt.set_title('count of exited')\n",
        "exited_plt.set_xticklabels(['No','Yes'])\n",
        "# 눈금 이름 설정하기 : set_xticklabels(), set_yticklabels()\n",
        "plt.show()"
      ],
      "metadata": {
        "colab": {
          "base_uri": "https://localhost:8080/",
          "height": 295
        },
        "id": "Su9p6nrVlNbz",
        "outputId": "e03099c3-1aa2-4962-a25a-cba764a44e61"
      },
      "execution_count": 202,
      "outputs": [
        {
          "output_type": "display_data",
          "data": {
            "text/plain": [
              "<Figure size 432x288 with 1 Axes>"
            ],
            "image/png": "[encoded data removed]"
          },
          "metadata": {
            "needs_background": "light"
          }
        }
      ]
    },
    {
      "cell_type": "code",
      "source": [
        "sns.boxplot(data=df['Balance'])\n",
        "plt.show() \n",
        "# 이상치 없음 확인"
      ],
      "metadata": {
        "colab": {
          "base_uri": "https://localhost:8080/",
          "height": 265
        },
        "id": "eTJcK8irbkAL",
        "outputId": "c7a26a60-61df-41df-9404-38628a886680"
      },
      "execution_count": 203,
      "outputs": [
        {
          "output_type": "display_data",
          "data": {
            "text/plain": [
              "<Figure size 432x288 with 1 Axes>"
            ],
            "image/png": "[encoded data removed]"
          },
          "metadata": {
            "needs_background": "light"
          }
        }
      ]
    },
    {
      "cell_type": "code",
      "source": [
        "sns.boxplot(data=df['EstimatedSalary'])\n",
        "plt.show() \n",
        "# 이상치 없음 확인"
      ],
      "metadata": {
        "colab": {
          "base_uri": "https://localhost:8080/",
          "height": 265
        },
        "id": "yN-24KTGcPU7",
        "outputId": "3cf1fc71-ee4f-4940-d31a-d80421df6059"
      },
      "execution_count": 204,
      "outputs": [
        {
          "output_type": "display_data",
          "data": {
            "text/plain": [
              "<Figure size 432x288 with 1 Axes>"
            ],
            "image/png": "[encoded data removed]"
          },
          "metadata": {
            "needs_background": "light"
          }
        }
      ]
    },
    {
      "cell_type": "code",
      "source": [
        "# 성별 이탈율 확인\n",
        "df.groupby('Exited')['Gender'].value_counts()"
      ],
      "metadata": {
        "colab": {
          "base_uri": "https://localhost:8080/"
        },
        "id": "snGy4d6jeqoP",
        "outputId": "160267a6-dc79-46ea-95d5-75a9c522ef4f"
      },
      "execution_count": 205,
      "outputs": [
        {
          "output_type": "execute_result",
          "data": {
            "text/plain": [
              "Exited  Gender\n",
              "0       Male      4559\n",
              "        Female    3404\n",
              "1       Female    1139\n",
              "        Male       898\n",
              "Name: Gender, dtype: int64"
            ]
          },
          "metadata": {},
          "execution_count": 205
        }
      ]
    },
    {
      "cell_type": "code",
      "source": [
        "sns.barplot(x=df['Gender'], y=df['Exited'], data=df,ci=None)\n",
        "plt.title('Gender of Exited')\n",
        "plt.show()\n",
        "# 여자가 남자보다 이탈율이 높음"
      ],
      "metadata": {
        "colab": {
          "base_uri": "https://localhost:8080/",
          "height": 295
        },
        "id": "QfNmEVmvcPNz",
        "outputId": "8cf2cb38-0ff1-4888-f37e-665d3f83fd99"
      },
      "execution_count": 206,
      "outputs": [
        {
          "output_type": "display_data",
          "data": {
            "text/plain": [
              "<Figure size 432x288 with 1 Axes>"
            ],
            "image/png": "[encoded data removed]"
          },
          "metadata": {
            "needs_background": "light"
          }
        }
      ]
    },
    {
      "cell_type": "code",
      "source": [
        "sns.barplot(x= 'Geography', y=\"Exited\", data=df, ci=None)\n",
        "plt.show()\n",
        "# 독일 이탈율이 프랑스와 스페인보다 높음 확인"
      ],
      "metadata": {
        "colab": {
          "base_uri": "https://localhost:8080/",
          "height": 279
        },
        "id": "Ib3d_5YLczXm",
        "outputId": "7c543c2d-beda-4665-8b21-8cb825e66ea4"
      },
      "execution_count": 207,
      "outputs": [
        {
          "output_type": "display_data",
          "data": {
            "text/plain": [
              "<Figure size 432x288 with 1 Axes>"
            ],
            "image/png": "[encoded data removed]"
          },
          "metadata": {
            "needs_background": "light"
          }
        }
      ]
    },
    {
      "cell_type": "code",
      "source": [
        "plt.figure(figsize=(12,8))\n",
        "cor = df.corr()\n",
        "sns.heatmap(cor, annot=True, cmap='viridis')\n",
        "plt.show()\n",
        "# 이탈율 상관관계 그래프"
      ],
      "metadata": {
        "colab": {
          "base_uri": "https://localhost:8080/",
          "height": 559
        },
        "id": "SuU8vL7BhhO5",
        "outputId": "b81239fc-7b98-42b1-9b4b-64790cd0658f"
      },
      "execution_count": 208,
      "outputs": [
        {
          "output_type": "display_data",
          "data": {
            "text/plain": [
              "<Figure size 864x576 with 2 Axes>"
            ],
            "image/png": "[encoded data removed]"
          },
          "metadata": {
            "needs_background": "light"
          }
        }
      ]
    },
    {
      "cell_type": "code",
      "source": [
        "# 회사와 오래 있었던 사람들의 이탈율 확인\n",
        "df.groupby('Exited')['Tenure'].value_counts()"
      ],
      "metadata": {
        "colab": {
          "base_uri": "https://localhost:8080/"
        },
        "id": "lA9i_QYunDP0",
        "outputId": "aac66ccd-cdff-4006-a1cd-7f451630a2dd"
      },
      "execution_count": 209,
      "outputs": [
        {
          "output_type": "execute_result",
          "data": {
            "text/plain": [
              "Exited  Tenure\n",
              "0       7         851\n",
              "        2         847\n",
              "        8         828\n",
              "        1         803\n",
              "        5         803\n",
              "        3         796\n",
              "        4         786\n",
              "        6         771\n",
              "        9         771\n",
              "        10        389\n",
              "        0         318\n",
              "1       1         232\n",
              "        3         213\n",
              "        9         213\n",
              "        5         209\n",
              "        4         203\n",
              "        2         201\n",
              "        8         197\n",
              "        6         196\n",
              "        7         177\n",
              "        10        101\n",
              "        0          95\n",
              "Name: Tenure, dtype: int64"
            ]
          },
          "metadata": {},
          "execution_count": 209
        }
      ]
    },
    {
      "cell_type": "code",
      "source": [
        "plt.figure(figsize=(12,8))\n",
        "sns.catplot(x='Tenure', y='Exited',\n",
        "            data=df,kind='bar', ci=None)\n",
        "plt.title('Exited of Tenure')\n",
        "plt.subplots_adjust(top=1.2)\n",
        "plt.grid()\n",
        "plt.show()"
      ],
      "metadata": {
        "colab": {
          "base_uri": "https://localhost:8080/",
          "height": 486
        },
        "id": "baDN67qarLvX",
        "outputId": "e9103004-f346-4dc8-de5a-948ae09afe13"
      },
      "execution_count": 210,
      "outputs": [
        {
          "output_type": "display_data",
          "data": {
            "text/plain": [
              "<Figure size 864x576 with 0 Axes>"
            ]
          },
          "metadata": {}
        },
        {
          "output_type": "display_data",
          "data": {
            "text/plain": [
              "<Figure size 360x360 with 1 Axes>"
            ],
            "image/png": "[encoded data removed]"
          },
          "metadata": {
            "needs_background": "light"
          }
        }
      ]
    },
    {
      "cell_type": "code",
      "source": [
        "from matplotlib.gridspec import GridSpec\n",
        "# 히스토그램과 박스플랏 합쳐서 시각화하기\n",
        "colors = ['lightcoral','deepskyblue',\n",
        "          'orchid',    'tomato',\n",
        "          'teal',      'darkcyan',\n",
        "          'limegreen', 'darkorange']\n",
        "\n",
        "def distribution_plt(column, title):\n",
        "    fig = plt.figure(figsize=(12,8))\n",
        "    grid = GridSpec(2,1, figure=fig)\n",
        "    # 여러 그래프 한번에 그리기\n",
        "    color = np.random.choice(colors,1)[0]\n",
        "\n",
        "    ax0 = fig.add_subplot(grid[0,:])\n",
        "    ax0.set_title(f'Histogram and boxplot of {title}')\n",
        "    sns.histplot(column, ax=ax0, color=color)\n",
        "\n",
        "    ax1 = fig.add_subplot(grid[1,:])\n",
        "    plt.axis('off')\n",
        "    sns.boxplot(x=column, ax=ax1, color=color)"
      ],
      "metadata": {
        "id": "iS5Q9k2lw5xU"
      },
      "execution_count": 211,
      "outputs": []
    },
    {
      "cell_type": "code",
      "source": [
        "distribution_plt(df.CreditScore, 'CreditScore')"
      ],
      "metadata": {
        "colab": {
          "base_uri": "https://localhost:8080/",
          "height": 482
        },
        "id": "ORDs2hhYnhU1",
        "outputId": "6df701b3-a078-4b9b-cdc2-ad4911b79902"
      },
      "execution_count": 212,
      "outputs": [
        {
          "output_type": "display_data",
          "data": {
            "text/plain": [
              "<Figure size 864x576 with 2 Axes>"
            ],
            "image/png": "[encoded data removed]"
          },
          "metadata": {
            "needs_background": "light"
          }
        }
      ]
    },
    {
      "cell_type": "code",
      "source": [
        "credit = df[['CreditScore','Exited']]\n",
        "credit"
      ],
      "metadata": {
        "colab": {
          "base_uri": "https://localhost:8080/",
          "height": 424
        },
        "id": "b7hV_35kYNeC",
        "outputId": "d41f6bf9-4993-4c00-a4fb-ff2413d02dd4"
      },
      "execution_count": 213,
      "outputs": [
        {
          "output_type": "execute_result",
          "data": {
            "text/plain": [
              "      CreditScore  Exited\n",
              "0             619       1\n",
              "1             608       0\n",
              "2             502       1\n",
              "3             699       0\n",
              "4             850       0\n",
              "...           ...     ...\n",
              "9995          771       0\n",
              "9996          516       0\n",
              "9997          709       1\n",
              "9998          772       1\n",
              "9999          792       0\n",
              "\n",
              "[10000 rows x 2 columns]"
            ],
            "text/html": [
              "\n",
              "  <div id=\"df-e76abf65-0084-4c64-a1c0-5c9340f99efe\">\n",
              "    <div class=\"colab-df-container\">\n",
              "      <div>\n",
              "<style scoped>\n",
              "    .dataframe tbody tr th:only-of-type {\n",
              "        vertical-align: middle;\n",
              "    }\n",
              "\n",
              "    .dataframe tbody tr th {\n",
              "        vertical-align: top;\n",
              "    }\n",
              "\n",
              "    .dataframe thead th {\n",
              "        text-align: right;\n",
              "    }\n",
              "</style>\n",
              "<table border=\"1\" class=\"dataframe\">\n",
              "  <thead>\n",
              "    <tr style=\"text-align: right;\">\n",
              "      <th></th>\n",
              "      <th>CreditScore</th>\n",
              "      <th>Exited</th>\n",
              "    </tr>\n",
              "  </thead>\n",
              "  <tbody>\n",
              "    <tr>\n",
              "      <th>0</th>\n",
              "      <td>619</td>\n",
              "      <td>1</td>\n",
              "    </tr>\n",
              "    <tr>\n",
              "      <th>1</th>\n",
              "      <td>608</td>\n",
              "      <td>0</td>\n",
              "    </tr>\n",
              "    <tr>\n",
              "      <th>2</th>\n",
              "      <td>502</td>\n",
              "      <td>1</td>\n",
              "    </tr>\n",
              "    <tr>\n",
              "      <th>3</th>\n",
              "      <td>699</td>\n",
              "      <td>0</td>\n",
              "    </tr>\n",
              "    <tr>\n",
              "      <th>4</th>\n",
              "      <td>850</td>\n",
              "      <td>0</td>\n",
              "    </tr>\n",
              "    <tr>\n",
              "      <th>...</th>\n",
              "      <td>...</td>\n",
              "      <td>...</td>\n",
              "    </tr>\n",
              "    <tr>\n",
              "      <th>9995</th>\n",
              "      <td>771</td>\n",
              "      <td>0</td>\n",
              "    </tr>\n",
              "    <tr>\n",
              "      <th>9996</th>\n",
              "      <td>516</td>\n",
              "      <td>0</td>\n",
              "    </tr>\n",
              "    <tr>\n",
              "      <th>9997</th>\n",
              "      <td>709</td>\n",
              "      <td>1</td>\n",
              "    </tr>\n",
              "    <tr>\n",
              "      <th>9998</th>\n",
              "      <td>772</td>\n",
              "      <td>1</td>\n",
              "    </tr>\n",
              "    <tr>\n",
              "      <th>9999</th>\n",
              "      <td>792</td>\n",
              "      <td>0</td>\n",
              "    </tr>\n",
              "  </tbody>\n",
              "</table>\n",
              "<p>10000 rows × 2 columns</p>\n",
              "</div>\n",
              "      <button class=\"colab-df-convert\" onclick=\"convertToInteractive('df-e76abf65-0084-4c64-a1c0-5c9340f99efe')\"\n",
              "              title=\"Convert this dataframe to an interactive table.\"\n",
              "              style=\"display:none;\">\n",
              "        \n",
              "  <svg xmlns=\"http://www.w3.org/2000/svg\" height=\"24px\"viewBox=\"0 0 24 24\"\n",
              "       width=\"24px\">\n",
              "    <path d=\"M0 0h24v24H0V0z\" fill=\"none\"/>\n",
              "    <path d=\"M18.56 5.44l.94 2.06.94-2.06 2.06-.94-2.06-.94-.94-2.06-.94 2.06-2.06.94zm-11 1L8.5 8.5l.94-2.06 2.06-.94-2.06-.94L8.5 2.5l-.94 2.06-2.06.94zm10 10l.94 2.06.94-2.06 2.06-.94-2.06-.94-.94-2.06-.94 2.06-2.06.94z\"/><path d=\"M17.41 7.96l-1.37-1.37c-.4-.4-.92-.59-1.43-.59-.52 0-1.04.2-1.43.59L10.3 9.45l-7.72 7.72c-.78.78-.78 2.05 0 2.83L4 21.41c.39.39.9.59 1.41.59.51 0 1.02-.2 1.41-.59l7.78-7.78 2.81-2.81c.8-.78.8-2.07 0-2.86zM5.41 20L4 18.59l7.72-7.72 1.47 1.35L5.41 20z\"/>\n",
              "  </svg>\n",
              "      </button>\n",
              "      \n",
              "  <style>\n",
              "    .colab-df-container {\n",
              "      display:flex;\n",
              "      flex-wrap:wrap;\n",
              "      gap: 12px;\n",
              "    }\n",
              "\n",
              "    .colab-df-convert {\n",
              "      background-color: #E8F0FE;\n",
              "      border: none;\n",
              "      border-radius: 50%;\n",
              "      cursor: pointer;\n",
              "      display: none;\n",
              "      fill: #1967D2;\n",
              "      height: 32px;\n",
              "      padding: 0 0 0 0;\n",
              "      width: 32px;\n",
              "    }\n",
              "\n",
              "    .colab-df-convert:hover {\n",
              "      background-color: #E2EBFA;\n",
              "      box-shadow: 0px 1px 2px rgba(60, 64, 67, 0.3), 0px 1px 3px 1px rgba(60, 64, 67, 0.15);\n",
              "      fill: #174EA6;\n",
              "    }\n",
              "\n",
              "    [theme=dark] .colab-df-convert {\n",
              "      background-color: #3B4455;\n",
              "      fill: #D2E3FC;\n",
              "    }\n",
              "\n",
              "    [theme=dark] .colab-df-convert:hover {\n",
              "      background-color: #434B5C;\n",
              "      box-shadow: 0px 1px 3px 1px rgba(0, 0, 0, 0.15);\n",
              "      filter: drop-shadow(0px 1px 2px rgba(0, 0, 0, 0.3));\n",
              "      fill: #FFFFFF;\n",
              "    }\n",
              "  </style>\n",
              "\n",
              "      <script>\n",
              "        const buttonEl =\n",
              "          document.querySelector('#df-e76abf65-0084-4c64-a1c0-5c9340f99efe button.colab-df-convert');\n",
              "        buttonEl.style.display =\n",
              "          google.colab.kernel.accessAllowed ? 'block' : 'none';\n",
              "\n",
              "        async function convertToInteractive(key) {\n",
              "          const element = document.querySelector('#df-e76abf65-0084-4c64-a1c0-5c9340f99efe');\n",
              "          const dataTable =\n",
              "            await google.colab.kernel.invokeFunction('convertToInteractive',\n",
              "                                                     [key], {});\n",
              "          if (!dataTable) return;\n",
              "\n",
              "          const docLinkHtml = 'Like what you see? Visit the ' +\n",
              "            '<a target=\"_blank\" href=https://colab.research.google.com/notebooks/data_table.ipynb>data table notebook</a>'\n",
              "            + ' to learn more about interactive tables.';\n",
              "          element.innerHTML = '';\n",
              "          dataTable['output_type'] = 'display_data';\n",
              "          await google.colab.output.renderOutput(dataTable, element);\n",
              "          const docLink = document.createElement('div');\n",
              "          docLink.innerHTML = docLinkHtml;\n",
              "          element.appendChild(docLink);\n",
              "        }\n",
              "      </script>\n",
              "    </div>\n",
              "  </div>\n",
              "  "
            ]
          },
          "metadata": {},
          "execution_count": 213
        }
      ]
    },
    {
      "cell_type": "code",
      "source": [
        "# 경고 무시\n",
        "import warnings\n",
        "warnings.filterwarnings(action = 'ignore')"
      ],
      "metadata": {
        "id": "njvF2BSzDUdT"
      },
      "execution_count": 214,
      "outputs": []
    },
    {
      "cell_type": "code",
      "source": [
        "credit['CreditScore'] = pd.cut(credit['CreditScore'], bins=[0,400,500,600,700,800,900], \n",
        "                               labels=[400,500,600,700,800,900])\n",
        "sns.pointplot(x='CreditScore', y='Exited', data=credit, color=colors[3])\n",
        "plt.grid()\n",
        "plt.show()"
      ],
      "metadata": {
        "colab": {
          "base_uri": "https://localhost:8080/",
          "height": 279
        },
        "id": "1cqQa-ADKsGp",
        "outputId": "afd9e812-eff5-4bf2-c46c-b511111f5b0c"
      },
      "execution_count": 215,
      "outputs": [
        {
          "output_type": "display_data",
          "data": {
            "text/plain": [
              "<Figure size 432x288 with 1 Axes>"
            ],
            "image/png": "[encoded data removed]"
          },
          "metadata": {
            "needs_background": "light"
          }
        }
      ]
    },
    {
      "cell_type": "code",
      "source": [
        "# 신용카드 유무의 이탈율 확인\n",
        "sns.pointplot(x='HasCrCard', y='Exited', data=df)\n",
        "plt.grid()\n",
        "plt.show()"
      ],
      "metadata": {
        "colab": {
          "base_uri": "https://localhost:8080/",
          "height": 279
        },
        "id": "CcmaRSVRnhFe",
        "outputId": "e996dcfa-4a95-421a-b93b-dfee38744bee"
      },
      "execution_count": 216,
      "outputs": [
        {
          "output_type": "display_data",
          "data": {
            "text/plain": [
              "<Figure size 432x288 with 1 Axes>"
            ],
            "image/png": "[encoded data removed]"
          },
          "metadata": {
            "needs_background": "light"
          }
        }
      ]
    },
    {
      "cell_type": "markdown",
      "source": [
        "## 데이터 전처리"
      ],
      "metadata": {
        "id": "NY8RZx8XmhWT"
      }
    },
    {
      "cell_type": "markdown",
      "source": [
        "### 라벨인코더"
      ],
      "metadata": {
        "id": "9YtGBURVGh5b"
      }
    },
    {
      "cell_type": "code",
      "source": [
        "from sklearn.preprocessing import LabelEncoder\n",
        "cols = ['Gender','Geography']\n",
        "for col in cols:\n",
        "    le = LabelEncoder()\n",
        "    df[col] = le.fit_transform(df[col])"
      ],
      "metadata": {
        "id": "4cxfkMxJGj3J"
      },
      "execution_count": 217,
      "outputs": []
    },
    {
      "cell_type": "code",
      "source": [
        "df.head()"
      ],
      "metadata": {
        "colab": {
          "base_uri": "https://localhost:8080/",
          "height": 270
        },
        "id": "smqmP7t9JJNS",
        "outputId": "87bd84a0-ab91-408f-fc17-a2f30130135b"
      },
      "execution_count": 218,
      "outputs": [
        {
          "output_type": "execute_result",
          "data": {
            "text/plain": [
              "   RowNumber  CustomerId   Surname  CreditScore  Geography  Gender  Age  \\\n",
              "0          1    15634602  Hargrave          619          0       0   42   \n",
              "1          2    15647311      Hill          608          2       0   41   \n",
              "2          3    15619304      Onio          502          0       0   42   \n",
              "3          4    15701354      Boni          699          0       0   39   \n",
              "4          5    15737888  Mitchell          850          2       0   43   \n",
              "\n",
              "   Tenure    Balance  NumOfProducts  HasCrCard  IsActiveMember  \\\n",
              "0       2       0.00              1          1               1   \n",
              "1       1   83807.86              1          0               1   \n",
              "2       8  159660.80              3          1               0   \n",
              "3       1       0.00              2          0               0   \n",
              "4       2  125510.82              1          1               1   \n",
              "\n",
              "   EstimatedSalary  Exited  \n",
              "0        101348.88       1  \n",
              "1        112542.58       0  \n",
              "2        113931.57       1  \n",
              "3         93826.63       0  \n",
              "4         79084.10       0  "
            ],
            "text/html": [
              "\n",
              "  <div id=\"df-7f7f5fec-ce62-42f5-869d-94d918b27d1f\">\n",
              "    <div class=\"colab-df-container\">\n",
              "      <div>\n",
              "<style scoped>\n",
              "    .dataframe tbody tr th:only-of-type {\n",
              "        vertical-align: middle;\n",
              "    }\n",
              "\n",
              "    .dataframe tbody tr th {\n",
              "        vertical-align: top;\n",
              "    }\n",
              "\n",
              "    .dataframe thead th {\n",
              "        text-align: right;\n",
              "    }\n",
              "</style>\n",
              "<table border=\"1\" class=\"dataframe\">\n",
              "  <thead>\n",
              "    <tr style=\"text-align: right;\">\n",
              "      <th></th>\n",
              "      <th>RowNumber</th>\n",
              "      <th>CustomerId</th>\n",
              "      <th>Surname</th>\n",
              "      <th>CreditScore</th>\n",
              "      <th>Geography</th>\n",
              "      <th>Gender</th>\n",
              "      <th>Age</th>\n",
              "      <th>Tenure</th>\n",
              "      <th>Balance</th>\n",
              "      <th>NumOfProducts</th>\n",
              "      <th>HasCrCard</th>\n",
              "      <th>IsActiveMember</th>\n",
              "      <th>EstimatedSalary</th>\n",
              "      <th>Exited</th>\n",
              "    </tr>\n",
              "  </thead>\n",
              "  <tbody>\n",
              "    <tr>\n",
              "      <th>0</th>\n",
              "      <td>1</td>\n",
              "      <td>15634602</td>\n",
              "      <td>Hargrave</td>\n",
              "      <td>619</td>\n",
              "      <td>0</td>\n",
              "      <td>0</td>\n",
              "      <td>42</td>\n",
              "      <td>2</td>\n",
              "      <td>0.00</td>\n",
              "      <td>1</td>\n",
              "      <td>1</td>\n",
              "      <td>1</td>\n",
              "      <td>101348.88</td>\n",
              "      <td>1</td>\n",
              "    </tr>\n",
              "    <tr>\n",
              "      <th>1</th>\n",
              "      <td>2</td>\n",
              "      <td>15647311</td>\n",
              "      <td>Hill</td>\n",
              "      <td>608</td>\n",
              "      <td>2</td>\n",
              "      <td>0</td>\n",
              "      <td>41</td>\n",
              "      <td>1</td>\n",
              "      <td>83807.86</td>\n",
              "      <td>1</td>\n",
              "      <td>0</td>\n",
              "      <td>1</td>\n",
              "      <td>112542.58</td>\n",
              "      <td>0</td>\n",
              "    </tr>\n",
              "    <tr>\n",
              "      <th>2</th>\n",
              "      <td>3</td>\n",
              "      <td>15619304</td>\n",
              "      <td>Onio</td>\n",
              "      <td>502</td>\n",
              "      <td>0</td>\n",
              "      <td>0</td>\n",
              "      <td>42</td>\n",
              "      <td>8</td>\n",
              "      <td>159660.80</td>\n",
              "      <td>3</td>\n",
              "      <td>1</td>\n",
              "      <td>0</td>\n",
              "      <td>113931.57</td>\n",
              "      <td>1</td>\n",
              "    </tr>\n",
              "    <tr>\n",
              "      <th>3</th>\n",
              "      <td>4</td>\n",
              "      <td>15701354</td>\n",
              "      <td>Boni</td>\n",
              "      <td>699</td>\n",
              "      <td>0</td>\n",
              "      <td>0</td>\n",
              "      <td>39</td>\n",
              "      <td>1</td>\n",
              "      <td>0.00</td>\n",
              "      <td>2</td>\n",
              "      <td>0</td>\n",
              "      <td>0</td>\n",
              "      <td>93826.63</td>\n",
              "      <td>0</td>\n",
              "    </tr>\n",
              "    <tr>\n",
              "      <th>4</th>\n",
              "      <td>5</td>\n",
              "      <td>15737888</td>\n",
              "      <td>Mitchell</td>\n",
              "      <td>850</td>\n",
              "      <td>2</td>\n",
              "      <td>0</td>\n",
              "      <td>43</td>\n",
              "      <td>2</td>\n",
              "      <td>125510.82</td>\n",
              "      <td>1</td>\n",
              "      <td>1</td>\n",
              "      <td>1</td>\n",
              "      <td>79084.10</td>\n",
              "      <td>0</td>\n",
              "    </tr>\n",
              "  </tbody>\n",
              "</table>\n",
              "</div>\n",
              "      <button class=\"colab-df-convert\" onclick=\"convertToInteractive('df-7f7f5fec-ce62-42f5-869d-94d918b27d1f')\"\n",
              "              title=\"Convert this dataframe to an interactive table.\"\n",
              "              style=\"display:none;\">\n",
              "        \n",
              "  <svg xmlns=\"http://www.w3.org/2000/svg\" height=\"24px\"viewBox=\"0 0 24 24\"\n",
              "       width=\"24px\">\n",
              "    <path d=\"M0 0h24v24H0V0z\" fill=\"none\"/>\n",
              "    <path d=\"M18.56 5.44l.94 2.06.94-2.06 2.06-.94-2.06-.94-.94-2.06-.94 2.06-2.06.94zm-11 1L8.5 8.5l.94-2.06 2.06-.94-2.06-.94L8.5 2.5l-.94 2.06-2.06.94zm10 10l.94 2.06.94-2.06 2.06-.94-2.06-.94-.94-2.06-.94 2.06-2.06.94z\"/><path d=\"M17.41 7.96l-1.37-1.37c-.4-.4-.92-.59-1.43-.59-.52 0-1.04.2-1.43.59L10.3 9.45l-7.72 7.72c-.78.78-.78 2.05 0 2.83L4 21.41c.39.39.9.59 1.41.59.51 0 1.02-.2 1.41-.59l7.78-7.78 2.81-2.81c.8-.78.8-2.07 0-2.86zM5.41 20L4 18.59l7.72-7.72 1.47 1.35L5.41 20z\"/>\n",
              "  </svg>\n",
              "      </button>\n",
              "      \n",
              "  <style>\n",
              "    .colab-df-container {\n",
              "      display:flex;\n",
              "      flex-wrap:wrap;\n",
              "      gap: 12px;\n",
              "    }\n",
              "\n",
              "    .colab-df-convert {\n",
              "      background-color: #E8F0FE;\n",
              "      border: none;\n",
              "      border-radius: 50%;\n",
              "      cursor: pointer;\n",
              "      display: none;\n",
              "      fill: #1967D2;\n",
              "      height: 32px;\n",
              "      padding: 0 0 0 0;\n",
              "      width: 32px;\n",
              "    }\n",
              "\n",
              "    .colab-df-convert:hover {\n",
              "      background-color: #E2EBFA;\n",
              "      box-shadow: 0px 1px 2px rgba(60, 64, 67, 0.3), 0px 1px 3px 1px rgba(60, 64, 67, 0.15);\n",
              "      fill: #174EA6;\n",
              "    }\n",
              "\n",
              "    [theme=dark] .colab-df-convert {\n",
              "      background-color: #3B4455;\n",
              "      fill: #D2E3FC;\n",
              "    }\n",
              "\n",
              "    [theme=dark] .colab-df-convert:hover {\n",
              "      background-color: #434B5C;\n",
              "      box-shadow: 0px 1px 3px 1px rgba(0, 0, 0, 0.15);\n",
              "      filter: drop-shadow(0px 1px 2px rgba(0, 0, 0, 0.3));\n",
              "      fill: #FFFFFF;\n",
              "    }\n",
              "  </style>\n",
              "\n",
              "      <script>\n",
              "        const buttonEl =\n",
              "          document.querySelector('#df-7f7f5fec-ce62-42f5-869d-94d918b27d1f button.colab-df-convert');\n",
              "        buttonEl.style.display =\n",
              "          google.colab.kernel.accessAllowed ? 'block' : 'none';\n",
              "\n",
              "        async function convertToInteractive(key) {\n",
              "          const element = document.querySelector('#df-7f7f5fec-ce62-42f5-869d-94d918b27d1f');\n",
              "          const dataTable =\n",
              "            await google.colab.kernel.invokeFunction('convertToInteractive',\n",
              "                                                     [key], {});\n",
              "          if (!dataTable) return;\n",
              "\n",
              "          const docLinkHtml = 'Like what you see? Visit the ' +\n",
              "            '<a target=\"_blank\" href=https://colab.research.google.com/notebooks/data_table.ipynb>data table notebook</a>'\n",
              "            + ' to learn more about interactive tables.';\n",
              "          element.innerHTML = '';\n",
              "          dataTable['output_type'] = 'display_data';\n",
              "          await google.colab.output.renderOutput(dataTable, element);\n",
              "          const docLink = document.createElement('div');\n",
              "          docLink.innerHTML = docLinkHtml;\n",
              "          element.appendChild(docLink);\n",
              "        }\n",
              "      </script>\n",
              "    </div>\n",
              "  </div>\n",
              "  "
            ]
          },
          "metadata": {},
          "execution_count": 218
        }
      ]
    },
    {
      "cell_type": "markdown",
      "source": [
        "### 구간화하기(나이)"
      ],
      "metadata": {
        "id": "584UFKg42mdT"
      }
    },
    {
      "cell_type": "code",
      "source": [
        "def age_category(age):\n",
        "    age = int(np.floor(age // 10))\n",
        "    return age\n",
        "# 나이 몫만 구해서 카테고리화 시키기"
      ],
      "metadata": {
        "id": "qehe444NlcyT"
      },
      "execution_count": 219,
      "outputs": []
    },
    {
      "cell_type": "code",
      "source": [
        "df['Age_category'] = df.Age.apply(age_category)"
      ],
      "metadata": {
        "id": "KGhGHwiV1pBX"
      },
      "execution_count": 220,
      "outputs": []
    },
    {
      "cell_type": "code",
      "source": [
        "df.info()"
      ],
      "metadata": {
        "colab": {
          "base_uri": "https://localhost:8080/"
        },
        "id": "xsaSGuWm2WMR",
        "outputId": "7c7f7cc3-aa03-4e95-a99c-b90f1a481f57"
      },
      "execution_count": 221,
      "outputs": [
        {
          "output_type": "stream",
          "name": "stdout",
          "text": [
            "<class 'pandas.core.frame.DataFrame'>\n",
            "RangeIndex: 10000 entries, 0 to 9999\n",
            "Data columns (total 15 columns):\n",
            " #   Column           Non-Null Count  Dtype  \n",
            "---  ------           --------------  -----  \n",
            " 0   RowNumber        10000 non-null  int64  \n",
            " 1   CustomerId       10000 non-null  int64  \n",
            " 2   Surname          10000 non-null  object \n",
            " 3   CreditScore      10000 non-null  int64  \n",
            " 4   Geography        10000 non-null  int64  \n",
            " 5   Gender           10000 non-null  int64  \n",
            " 6   Age              10000 non-null  int64  \n",
            " 7   Tenure           10000 non-null  int64  \n",
            " 8   Balance          10000 non-null  float64\n",
            " 9   NumOfProducts    10000 non-null  int64  \n",
            " 10  HasCrCard        10000 non-null  int64  \n",
            " 11  IsActiveMember   10000 non-null  int64  \n",
            " 12  EstimatedSalary  10000 non-null  float64\n",
            " 13  Exited           10000 non-null  int64  \n",
            " 14  Age_category     10000 non-null  int64  \n",
            "dtypes: float64(2), int64(12), object(1)\n",
            "memory usage: 1.1+ MB\n"
          ]
        }
      ]
    },
    {
      "cell_type": "markdown",
      "source": [
        "### 필요없는 컬럼 제거"
      ],
      "metadata": {
        "id": "tsSvI2MAhfox"
      }
    },
    {
      "cell_type": "code",
      "source": [
        "df['Age'].unique()"
      ],
      "metadata": {
        "colab": {
          "base_uri": "https://localhost:8080/"
        },
        "id": "JncjklIchhKR",
        "outputId": "ce7ca7a3-6aa8-4b7e-a4d5-3b5b4609cc1b"
      },
      "execution_count": 222,
      "outputs": [
        {
          "output_type": "execute_result",
          "data": {
            "text/plain": [
              "array([42, 41, 39, 43, 44, 50, 29, 27, 31, 24, 34, 25, 35, 45, 58, 32, 38,\n",
              "       46, 36, 33, 40, 51, 61, 49, 37, 19, 66, 56, 26, 21, 55, 75, 22, 30,\n",
              "       28, 65, 48, 52, 57, 73, 47, 54, 72, 20, 67, 79, 62, 53, 80, 59, 68,\n",
              "       23, 60, 70, 63, 64, 18, 82, 69, 74, 71, 76, 77, 88, 85, 84, 78, 81,\n",
              "       92, 83])"
            ]
          },
          "metadata": {},
          "execution_count": 222
        }
      ]
    },
    {
      "cell_type": "code",
      "source": [
        "df = df.drop(columns=['RowNumber','Age','Surname','CustomerId'])"
      ],
      "metadata": {
        "id": "DBpKZSGpczVT"
      },
      "execution_count": 223,
      "outputs": []
    },
    {
      "cell_type": "code",
      "source": [
        "df.head()"
      ],
      "metadata": {
        "colab": {
          "base_uri": "https://localhost:8080/",
          "height": 250
        },
        "id": "1Ne0B5rSczTE",
        "outputId": "c75a5c17-8273-4a8a-c6fb-d00934dedb4c"
      },
      "execution_count": 224,
      "outputs": [
        {
          "output_type": "execute_result",
          "data": {
            "text/plain": [
              "   CreditScore  Geography  Gender  Tenure    Balance  NumOfProducts  \\\n",
              "0          619          0       0       2       0.00              1   \n",
              "1          608          2       0       1   83807.86              1   \n",
              "2          502          0       0       8  159660.80              3   \n",
              "3          699          0       0       1       0.00              2   \n",
              "4          850          2       0       2  125510.82              1   \n",
              "\n",
              "   HasCrCard  IsActiveMember  EstimatedSalary  Exited  Age_category  \n",
              "0          1               1        101348.88       1             4  \n",
              "1          0               1        112542.58       0             4  \n",
              "2          1               0        113931.57       1             4  \n",
              "3          0               0         93826.63       0             3  \n",
              "4          1               1         79084.10       0             4  "
            ],
            "text/html": [
              "\n",
              "  <div id=\"df-ff3eed60-36bb-4b88-a765-9a6790f02b47\">\n",
              "    <div class=\"colab-df-container\">\n",
              "      <div>\n",
              "<style scoped>\n",
              "    .dataframe tbody tr th:only-of-type {\n",
              "        vertical-align: middle;\n",
              "    }\n",
              "\n",
              "    .dataframe tbody tr th {\n",
              "        vertical-align: top;\n",
              "    }\n",
              "\n",
              "    .dataframe thead th {\n",
              "        text-align: right;\n",
              "    }\n",
              "</style>\n",
              "<table border=\"1\" class=\"dataframe\">\n",
              "  <thead>\n",
              "    <tr style=\"text-align: right;\">\n",
              "      <th></th>\n",
              "      <th>CreditScore</th>\n",
              "      <th>Geography</th>\n",
              "      <th>Gender</th>\n",
              "      <th>Tenure</th>\n",
              "      <th>Balance</th>\n",
              "      <th>NumOfProducts</th>\n",
              "      <th>HasCrCard</th>\n",
              "      <th>IsActiveMember</th>\n",
              "      <th>EstimatedSalary</th>\n",
              "      <th>Exited</th>\n",
              "      <th>Age_category</th>\n",
              "    </tr>\n",
              "  </thead>\n",
              "  <tbody>\n",
              "    <tr>\n",
              "      <th>0</th>\n",
              "      <td>619</td>\n",
              "      <td>0</td>\n",
              "      <td>0</td>\n",
              "      <td>2</td>\n",
              "      <td>0.00</td>\n",
              "      <td>1</td>\n",
              "      <td>1</td>\n",
              "      <td>1</td>\n",
              "      <td>101348.88</td>\n",
              "      <td>1</td>\n",
              "      <td>4</td>\n",
              "    </tr>\n",
              "    <tr>\n",
              "      <th>1</th>\n",
              "      <td>608</td>\n",
              "      <td>2</td>\n",
              "      <td>0</td>\n",
              "      <td>1</td>\n",
              "      <td>83807.86</td>\n",
              "      <td>1</td>\n",
              "      <td>0</td>\n",
              "      <td>1</td>\n",
              "      <td>112542.58</td>\n",
              "      <td>0</td>\n",
              "      <td>4</td>\n",
              "    </tr>\n",
              "    <tr>\n",
              "      <th>2</th>\n",
              "      <td>502</td>\n",
              "      <td>0</td>\n",
              "      <td>0</td>\n",
              "      <td>8</td>\n",
              "      <td>159660.80</td>\n",
              "      <td>3</td>\n",
              "      <td>1</td>\n",
              "      <td>0</td>\n",
              "      <td>113931.57</td>\n",
              "      <td>1</td>\n",
              "      <td>4</td>\n",
              "    </tr>\n",
              "    <tr>\n",
              "      <th>3</th>\n",
              "      <td>699</td>\n",
              "      <td>0</td>\n",
              "      <td>0</td>\n",
              "      <td>1</td>\n",
              "      <td>0.00</td>\n",
              "      <td>2</td>\n",
              "      <td>0</td>\n",
              "      <td>0</td>\n",
              "      <td>93826.63</td>\n",
              "      <td>0</td>\n",
              "      <td>3</td>\n",
              "    </tr>\n",
              "    <tr>\n",
              "      <th>4</th>\n",
              "      <td>850</td>\n",
              "      <td>2</td>\n",
              "      <td>0</td>\n",
              "      <td>2</td>\n",
              "      <td>125510.82</td>\n",
              "      <td>1</td>\n",
              "      <td>1</td>\n",
              "      <td>1</td>\n",
              "      <td>79084.10</td>\n",
              "      <td>0</td>\n",
              "      <td>4</td>\n",
              "    </tr>\n",
              "  </tbody>\n",
              "</table>\n",
              "</div>\n",
              "      <button class=\"colab-df-convert\" onclick=\"convertToInteractive('df-ff3eed60-36bb-4b88-a765-9a6790f02b47')\"\n",
              "              title=\"Convert this dataframe to an interactive table.\"\n",
              "              style=\"display:none;\">\n",
              "        \n",
              "  <svg xmlns=\"http://www.w3.org/2000/svg\" height=\"24px\"viewBox=\"0 0 24 24\"\n",
              "       width=\"24px\">\n",
              "    <path d=\"M0 0h24v24H0V0z\" fill=\"none\"/>\n",
              "    <path d=\"M18.56 5.44l.94 2.06.94-2.06 2.06-.94-2.06-.94-.94-2.06-.94 2.06-2.06.94zm-11 1L8.5 8.5l.94-2.06 2.06-.94-2.06-.94L8.5 2.5l-.94 2.06-2.06.94zm10 10l.94 2.06.94-2.06 2.06-.94-2.06-.94-.94-2.06-.94 2.06-2.06.94z\"/><path d=\"M17.41 7.96l-1.37-1.37c-.4-.4-.92-.59-1.43-.59-.52 0-1.04.2-1.43.59L10.3 9.45l-7.72 7.72c-.78.78-.78 2.05 0 2.83L4 21.41c.39.39.9.59 1.41.59.51 0 1.02-.2 1.41-.59l7.78-7.78 2.81-2.81c.8-.78.8-2.07 0-2.86zM5.41 20L4 18.59l7.72-7.72 1.47 1.35L5.41 20z\"/>\n",
              "  </svg>\n",
              "      </button>\n",
              "      \n",
              "  <style>\n",
              "    .colab-df-container {\n",
              "      display:flex;\n",
              "      flex-wrap:wrap;\n",
              "      gap: 12px;\n",
              "    }\n",
              "\n",
              "    .colab-df-convert {\n",
              "      background-color: #E8F0FE;\n",
              "      border: none;\n",
              "      border-radius: 50%;\n",
              "      cursor: pointer;\n",
              "      display: none;\n",
              "      fill: #1967D2;\n",
              "      height: 32px;\n",
              "      padding: 0 0 0 0;\n",
              "      width: 32px;\n",
              "    }\n",
              "\n",
              "    .colab-df-convert:hover {\n",
              "      background-color: #E2EBFA;\n",
              "      box-shadow: 0px 1px 2px rgba(60, 64, 67, 0.3), 0px 1px 3px 1px rgba(60, 64, 67, 0.15);\n",
              "      fill: #174EA6;\n",
              "    }\n",
              "\n",
              "    [theme=dark] .colab-df-convert {\n",
              "      background-color: #3B4455;\n",
              "      fill: #D2E3FC;\n",
              "    }\n",
              "\n",
              "    [theme=dark] .colab-df-convert:hover {\n",
              "      background-color: #434B5C;\n",
              "      box-shadow: 0px 1px 3px 1px rgba(0, 0, 0, 0.15);\n",
              "      filter: drop-shadow(0px 1px 2px rgba(0, 0, 0, 0.3));\n",
              "      fill: #FFFFFF;\n",
              "    }\n",
              "  </style>\n",
              "\n",
              "      <script>\n",
              "        const buttonEl =\n",
              "          document.querySelector('#df-ff3eed60-36bb-4b88-a765-9a6790f02b47 button.colab-df-convert');\n",
              "        buttonEl.style.display =\n",
              "          google.colab.kernel.accessAllowed ? 'block' : 'none';\n",
              "\n",
              "        async function convertToInteractive(key) {\n",
              "          const element = document.querySelector('#df-ff3eed60-36bb-4b88-a765-9a6790f02b47');\n",
              "          const dataTable =\n",
              "            await google.colab.kernel.invokeFunction('convertToInteractive',\n",
              "                                                     [key], {});\n",
              "          if (!dataTable) return;\n",
              "\n",
              "          const docLinkHtml = 'Like what you see? Visit the ' +\n",
              "            '<a target=\"_blank\" href=https://colab.research.google.com/notebooks/data_table.ipynb>data table notebook</a>'\n",
              "            + ' to learn more about interactive tables.';\n",
              "          element.innerHTML = '';\n",
              "          dataTable['output_type'] = 'display_data';\n",
              "          await google.colab.output.renderOutput(dataTable, element);\n",
              "          const docLink = document.createElement('div');\n",
              "          docLink.innerHTML = docLinkHtml;\n",
              "          element.appendChild(docLink);\n",
              "        }\n",
              "      </script>\n",
              "    </div>\n",
              "  </div>\n",
              "  "
            ]
          },
          "metadata": {},
          "execution_count": 224
        }
      ]
    },
    {
      "cell_type": "markdown",
      "source": [
        "### 구간화2(신용점수)"
      ],
      "metadata": {
        "id": "8NX4jdiS20ZP"
      }
    },
    {
      "cell_type": "code",
      "source": [
        "df['CreditScore'].unique()[:5]\n",
        "# 신용점수도 9등급처럼 존재하듯이 이것도 9등급으로 비닝시켜 구간화 진행"
      ],
      "metadata": {
        "colab": {
          "base_uri": "https://localhost:8080/"
        },
        "id": "iCrCMuG723hx",
        "outputId": "e338594a-3774-42a5-bd33-e7ea2b26b272"
      },
      "execution_count": 226,
      "outputs": [
        {
          "output_type": "execute_result",
          "data": {
            "text/plain": [
              "array([619, 608, 502, 699, 850])"
            ]
          },
          "metadata": {},
          "execution_count": 226
        }
      ]
    },
    {
      "cell_type": "code",
      "source": [
        "score = list(df['CreditScore'])\n",
        "bins = [100,200,300,400,500,600,700,800,900,1000]\n",
        "labels = [9,8,7,6,5,4,3,2,1]\n",
        "df['CreditScore'] = pd.cut(df['CreditScore'],bins=bins,labels=labels)\n",
        "# 신용점수가 높은것이 높은 등급을 받아야 하므로 라벨링을 바꿔서 해줌"
      ],
      "metadata": {
        "id": "jblxK_41FdBm"
      },
      "execution_count": 227,
      "outputs": []
    },
    {
      "cell_type": "code",
      "source": [
        "df.head()"
      ],
      "metadata": {
        "colab": {
          "base_uri": "https://localhost:8080/",
          "height": 250
        },
        "id": "1sx7nQzMFk9m",
        "outputId": "3a5734b4-fcd6-49ea-854c-31456fe515ff"
      },
      "execution_count": 228,
      "outputs": [
        {
          "output_type": "execute_result",
          "data": {
            "text/plain": [
              "  CreditScore  Geography  Gender  Tenure    Balance  NumOfProducts  HasCrCard  \\\n",
              "0           4          0       0       2       0.00              1          1   \n",
              "1           4          2       0       1   83807.86              1          0   \n",
              "2           5          0       0       8  159660.80              3          1   \n",
              "3           4          0       0       1       0.00              2          0   \n",
              "4           2          2       0       2  125510.82              1          1   \n",
              "\n",
              "   IsActiveMember  EstimatedSalary  Exited  Age_category  \n",
              "0               1        101348.88       1             4  \n",
              "1               1        112542.58       0             4  \n",
              "2               0        113931.57       1             4  \n",
              "3               0         93826.63       0             3  \n",
              "4               1         79084.10       0             4  "
            ],
            "text/html": [
              "\n",
              "  <div id=\"df-903c0904-bcfe-4666-be2b-43e976d9a176\">\n",
              "    <div class=\"colab-df-container\">\n",
              "      <div>\n",
              "<style scoped>\n",
              "    .dataframe tbody tr th:only-of-type {\n",
              "        vertical-align: middle;\n",
              "    }\n",
              "\n",
              "    .dataframe tbody tr th {\n",
              "        vertical-align: top;\n",
              "    }\n",
              "\n",
              "    .dataframe thead th {\n",
              "        text-align: right;\n",
              "    }\n",
              "</style>\n",
              "<table border=\"1\" class=\"dataframe\">\n",
              "  <thead>\n",
              "    <tr style=\"text-align: right;\">\n",
              "      <th></th>\n",
              "      <th>CreditScore</th>\n",
              "      <th>Geography</th>\n",
              "      <th>Gender</th>\n",
              "      <th>Tenure</th>\n",
              "      <th>Balance</th>\n",
              "      <th>NumOfProducts</th>\n",
              "      <th>HasCrCard</th>\n",
              "      <th>IsActiveMember</th>\n",
              "      <th>EstimatedSalary</th>\n",
              "      <th>Exited</th>\n",
              "      <th>Age_category</th>\n",
              "    </tr>\n",
              "  </thead>\n",
              "  <tbody>\n",
              "    <tr>\n",
              "      <th>0</th>\n",
              "      <td>4</td>\n",
              "      <td>0</td>\n",
              "      <td>0</td>\n",
              "      <td>2</td>\n",
              "      <td>0.00</td>\n",
              "      <td>1</td>\n",
              "      <td>1</td>\n",
              "      <td>1</td>\n",
              "      <td>101348.88</td>\n",
              "      <td>1</td>\n",
              "      <td>4</td>\n",
              "    </tr>\n",
              "    <tr>\n",
              "      <th>1</th>\n",
              "      <td>4</td>\n",
              "      <td>2</td>\n",
              "      <td>0</td>\n",
              "      <td>1</td>\n",
              "      <td>83807.86</td>\n",
              "      <td>1</td>\n",
              "      <td>0</td>\n",
              "      <td>1</td>\n",
              "      <td>112542.58</td>\n",
              "      <td>0</td>\n",
              "      <td>4</td>\n",
              "    </tr>\n",
              "    <tr>\n",
              "      <th>2</th>\n",
              "      <td>5</td>\n",
              "      <td>0</td>\n",
              "      <td>0</td>\n",
              "      <td>8</td>\n",
              "      <td>159660.80</td>\n",
              "      <td>3</td>\n",
              "      <td>1</td>\n",
              "      <td>0</td>\n",
              "      <td>113931.57</td>\n",
              "      <td>1</td>\n",
              "      <td>4</td>\n",
              "    </tr>\n",
              "    <tr>\n",
              "      <th>3</th>\n",
              "      <td>4</td>\n",
              "      <td>0</td>\n",
              "      <td>0</td>\n",
              "      <td>1</td>\n",
              "      <td>0.00</td>\n",
              "      <td>2</td>\n",
              "      <td>0</td>\n",
              "      <td>0</td>\n",
              "      <td>93826.63</td>\n",
              "      <td>0</td>\n",
              "      <td>3</td>\n",
              "    </tr>\n",
              "    <tr>\n",
              "      <th>4</th>\n",
              "      <td>2</td>\n",
              "      <td>2</td>\n",
              "      <td>0</td>\n",
              "      <td>2</td>\n",
              "      <td>125510.82</td>\n",
              "      <td>1</td>\n",
              "      <td>1</td>\n",
              "      <td>1</td>\n",
              "      <td>79084.10</td>\n",
              "      <td>0</td>\n",
              "      <td>4</td>\n",
              "    </tr>\n",
              "  </tbody>\n",
              "</table>\n",
              "</div>\n",
              "      <button class=\"colab-df-convert\" onclick=\"convertToInteractive('df-903c0904-bcfe-4666-be2b-43e976d9a176')\"\n",
              "              title=\"Convert this dataframe to an interactive table.\"\n",
              "              style=\"display:none;\">\n",
              "        \n",
              "  <svg xmlns=\"http://www.w3.org/2000/svg\" height=\"24px\"viewBox=\"0 0 24 24\"\n",
              "       width=\"24px\">\n",
              "    <path d=\"M0 0h24v24H0V0z\" fill=\"none\"/>\n",
              "    <path d=\"M18.56 5.44l.94 2.06.94-2.06 2.06-.94-2.06-.94-.94-2.06-.94 2.06-2.06.94zm-11 1L8.5 8.5l.94-2.06 2.06-.94-2.06-.94L8.5 2.5l-.94 2.06-2.06.94zm10 10l.94 2.06.94-2.06 2.06-.94-2.06-.94-.94-2.06-.94 2.06-2.06.94z\"/><path d=\"M17.41 7.96l-1.37-1.37c-.4-.4-.92-.59-1.43-.59-.52 0-1.04.2-1.43.59L10.3 9.45l-7.72 7.72c-.78.78-.78 2.05 0 2.83L4 21.41c.39.39.9.59 1.41.59.51 0 1.02-.2 1.41-.59l7.78-7.78 2.81-2.81c.8-.78.8-2.07 0-2.86zM5.41 20L4 18.59l7.72-7.72 1.47 1.35L5.41 20z\"/>\n",
              "  </svg>\n",
              "      </button>\n",
              "      \n",
              "  <style>\n",
              "    .colab-df-container {\n",
              "      display:flex;\n",
              "      flex-wrap:wrap;\n",
              "      gap: 12px;\n",
              "    }\n",
              "\n",
              "    .colab-df-convert {\n",
              "      background-color: #E8F0FE;\n",
              "      border: none;\n",
              "      border-radius: 50%;\n",
              "      cursor: pointer;\n",
              "      display: none;\n",
              "      fill: #1967D2;\n",
              "      height: 32px;\n",
              "      padding: 0 0 0 0;\n",
              "      width: 32px;\n",
              "    }\n",
              "\n",
              "    .colab-df-convert:hover {\n",
              "      background-color: #E2EBFA;\n",
              "      box-shadow: 0px 1px 2px rgba(60, 64, 67, 0.3), 0px 1px 3px 1px rgba(60, 64, 67, 0.15);\n",
              "      fill: #174EA6;\n",
              "    }\n",
              "\n",
              "    [theme=dark] .colab-df-convert {\n",
              "      background-color: #3B4455;\n",
              "      fill: #D2E3FC;\n",
              "    }\n",
              "\n",
              "    [theme=dark] .colab-df-convert:hover {\n",
              "      background-color: #434B5C;\n",
              "      box-shadow: 0px 1px 3px 1px rgba(0, 0, 0, 0.15);\n",
              "      filter: drop-shadow(0px 1px 2px rgba(0, 0, 0, 0.3));\n",
              "      fill: #FFFFFF;\n",
              "    }\n",
              "  </style>\n",
              "\n",
              "      <script>\n",
              "        const buttonEl =\n",
              "          document.querySelector('#df-903c0904-bcfe-4666-be2b-43e976d9a176 button.colab-df-convert');\n",
              "        buttonEl.style.display =\n",
              "          google.colab.kernel.accessAllowed ? 'block' : 'none';\n",
              "\n",
              "        async function convertToInteractive(key) {\n",
              "          const element = document.querySelector('#df-903c0904-bcfe-4666-be2b-43e976d9a176');\n",
              "          const dataTable =\n",
              "            await google.colab.kernel.invokeFunction('convertToInteractive',\n",
              "                                                     [key], {});\n",
              "          if (!dataTable) return;\n",
              "\n",
              "          const docLinkHtml = 'Like what you see? Visit the ' +\n",
              "            '<a target=\"_blank\" href=https://colab.research.google.com/notebooks/data_table.ipynb>data table notebook</a>'\n",
              "            + ' to learn more about interactive tables.';\n",
              "          element.innerHTML = '';\n",
              "          dataTable['output_type'] = 'display_data';\n",
              "          await google.colab.output.renderOutput(dataTable, element);\n",
              "          const docLink = document.createElement('div');\n",
              "          docLink.innerHTML = docLinkHtml;\n",
              "          element.appendChild(docLink);\n",
              "        }\n",
              "      </script>\n",
              "    </div>\n",
              "  </div>\n",
              "  "
            ]
          },
          "metadata": {},
          "execution_count": 228
        }
      ]
    },
    {
      "cell_type": "code",
      "source": [
        "df.CreditScore.value_counts()"
      ],
      "metadata": {
        "colab": {
          "base_uri": "https://localhost:8080/"
        },
        "id": "VIeH8bK9Clmr",
        "outputId": "ff44a2a3-45b1-4b57-86dc-d636ba768784"
      },
      "execution_count": 229,
      "outputs": [
        {
          "output_type": "execute_result",
          "data": {
            "text/plain": [
              "4    3818\n",
              "3    2471\n",
              "5    2423\n",
              "2     645\n",
              "6     624\n",
              "7      19\n",
              "9       0\n",
              "8       0\n",
              "1       0\n",
              "Name: CreditScore, dtype: int64"
            ]
          },
          "metadata": {},
          "execution_count": 229
        }
      ]
    },
    {
      "cell_type": "code",
      "source": [
        "df['CreditScore'] = df['CreditScore'].astype(int)"
      ],
      "metadata": {
        "id": "ZwsDdXzGRaaS"
      },
      "execution_count": 230,
      "outputs": []
    },
    {
      "cell_type": "code",
      "source": [
        "df.info()"
      ],
      "metadata": {
        "colab": {
          "base_uri": "https://localhost:8080/"
        },
        "id": "Mi-NEnHHGgv3",
        "outputId": "6552f81c-86e9-43dc-ab49-8e2e7f1ba7e3"
      },
      "execution_count": 231,
      "outputs": [
        {
          "output_type": "stream",
          "name": "stdout",
          "text": [
            "<class 'pandas.core.frame.DataFrame'>\n",
            "RangeIndex: 10000 entries, 0 to 9999\n",
            "Data columns (total 11 columns):\n",
            " #   Column           Non-Null Count  Dtype  \n",
            "---  ------           --------------  -----  \n",
            " 0   CreditScore      10000 non-null  int64  \n",
            " 1   Geography        10000 non-null  int64  \n",
            " 2   Gender           10000 non-null  int64  \n",
            " 3   Tenure           10000 non-null  int64  \n",
            " 4   Balance          10000 non-null  float64\n",
            " 5   NumOfProducts    10000 non-null  int64  \n",
            " 6   HasCrCard        10000 non-null  int64  \n",
            " 7   IsActiveMember   10000 non-null  int64  \n",
            " 8   EstimatedSalary  10000 non-null  float64\n",
            " 9   Exited           10000 non-null  int64  \n",
            " 10  Age_category     10000 non-null  int64  \n",
            "dtypes: float64(2), int64(9)\n",
            "memory usage: 859.5 KB\n"
          ]
        }
      ]
    },
    {
      "cell_type": "code",
      "source": [
        "df.head()"
      ],
      "metadata": {
        "colab": {
          "base_uri": "https://localhost:8080/",
          "height": 250
        },
        "id": "-fbprwggKc4O",
        "outputId": "e660d7c5-b0b2-413e-8f0f-257d87a0e181"
      },
      "execution_count": 232,
      "outputs": [
        {
          "output_type": "execute_result",
          "data": {
            "text/plain": [
              "   CreditScore  Geography  Gender  Tenure    Balance  NumOfProducts  \\\n",
              "0            4          0       0       2       0.00              1   \n",
              "1            4          2       0       1   83807.86              1   \n",
              "2            5          0       0       8  159660.80              3   \n",
              "3            4          0       0       1       0.00              2   \n",
              "4            2          2       0       2  125510.82              1   \n",
              "\n",
              "   HasCrCard  IsActiveMember  EstimatedSalary  Exited  Age_category  \n",
              "0          1               1        101348.88       1             4  \n",
              "1          0               1        112542.58       0             4  \n",
              "2          1               0        113931.57       1             4  \n",
              "3          0               0         93826.63       0             3  \n",
              "4          1               1         79084.10       0             4  "
            ],
            "text/html": [
              "\n",
              "  <div id=\"df-e654a59c-fb18-4ac9-9cc7-f49cf354d548\">\n",
              "    <div class=\"colab-df-container\">\n",
              "      <div>\n",
              "<style scoped>\n",
              "    .dataframe tbody tr th:only-of-type {\n",
              "        vertical-align: middle;\n",
              "    }\n",
              "\n",
              "    .dataframe tbody tr th {\n",
              "        vertical-align: top;\n",
              "    }\n",
              "\n",
              "    .dataframe thead th {\n",
              "        text-align: right;\n",
              "    }\n",
              "</style>\n",
              "<table border=\"1\" class=\"dataframe\">\n",
              "  <thead>\n",
              "    <tr style=\"text-align: right;\">\n",
              "      <th></th>\n",
              "      <th>CreditScore</th>\n",
              "      <th>Geography</th>\n",
              "      <th>Gender</th>\n",
              "      <th>Tenure</th>\n",
              "      <th>Balance</th>\n",
              "      <th>NumOfProducts</th>\n",
              "      <th>HasCrCard</th>\n",
              "      <th>IsActiveMember</th>\n",
              "      <th>EstimatedSalary</th>\n",
              "      <th>Exited</th>\n",
              "      <th>Age_category</th>\n",
              "    </tr>\n",
              "  </thead>\n",
              "  <tbody>\n",
              "    <tr>\n",
              "      <th>0</th>\n",
              "      <td>4</td>\n",
              "      <td>0</td>\n",
              "      <td>0</td>\n",
              "      <td>2</td>\n",
              "      <td>0.00</td>\n",
              "      <td>1</td>\n",
              "      <td>1</td>\n",
              "      <td>1</td>\n",
              "      <td>101348.88</td>\n",
              "      <td>1</td>\n",
              "      <td>4</td>\n",
              "    </tr>\n",
              "    <tr>\n",
              "      <th>1</th>\n",
              "      <td>4</td>\n",
              "      <td>2</td>\n",
              "      <td>0</td>\n",
              "      <td>1</td>\n",
              "      <td>83807.86</td>\n",
              "      <td>1</td>\n",
              "      <td>0</td>\n",
              "      <td>1</td>\n",
              "      <td>112542.58</td>\n",
              "      <td>0</td>\n",
              "      <td>4</td>\n",
              "    </tr>\n",
              "    <tr>\n",
              "      <th>2</th>\n",
              "      <td>5</td>\n",
              "      <td>0</td>\n",
              "      <td>0</td>\n",
              "      <td>8</td>\n",
              "      <td>159660.80</td>\n",
              "      <td>3</td>\n",
              "      <td>1</td>\n",
              "      <td>0</td>\n",
              "      <td>113931.57</td>\n",
              "      <td>1</td>\n",
              "      <td>4</td>\n",
              "    </tr>\n",
              "    <tr>\n",
              "      <th>3</th>\n",
              "      <td>4</td>\n",
              "      <td>0</td>\n",
              "      <td>0</td>\n",
              "      <td>1</td>\n",
              "      <td>0.00</td>\n",
              "      <td>2</td>\n",
              "      <td>0</td>\n",
              "      <td>0</td>\n",
              "      <td>93826.63</td>\n",
              "      <td>0</td>\n",
              "      <td>3</td>\n",
              "    </tr>\n",
              "    <tr>\n",
              "      <th>4</th>\n",
              "      <td>2</td>\n",
              "      <td>2</td>\n",
              "      <td>0</td>\n",
              "      <td>2</td>\n",
              "      <td>125510.82</td>\n",
              "      <td>1</td>\n",
              "      <td>1</td>\n",
              "      <td>1</td>\n",
              "      <td>79084.10</td>\n",
              "      <td>0</td>\n",
              "      <td>4</td>\n",
              "    </tr>\n",
              "  </tbody>\n",
              "</table>\n",
              "</div>\n",
              "      <button class=\"colab-df-convert\" onclick=\"convertToInteractive('df-e654a59c-fb18-4ac9-9cc7-f49cf354d548')\"\n",
              "              title=\"Convert this dataframe to an interactive table.\"\n",
              "              style=\"display:none;\">\n",
              "        \n",
              "  <svg xmlns=\"http://www.w3.org/2000/svg\" height=\"24px\"viewBox=\"0 0 24 24\"\n",
              "       width=\"24px\">\n",
              "    <path d=\"M0 0h24v24H0V0z\" fill=\"none\"/>\n",
              "    <path d=\"M18.56 5.44l.94 2.06.94-2.06 2.06-.94-2.06-.94-.94-2.06-.94 2.06-2.06.94zm-11 1L8.5 8.5l.94-2.06 2.06-.94-2.06-.94L8.5 2.5l-.94 2.06-2.06.94zm10 10l.94 2.06.94-2.06 2.06-.94-2.06-.94-.94-2.06-.94 2.06-2.06.94z\"/><path d=\"M17.41 7.96l-1.37-1.37c-.4-.4-.92-.59-1.43-.59-.52 0-1.04.2-1.43.59L10.3 9.45l-7.72 7.72c-.78.78-.78 2.05 0 2.83L4 21.41c.39.39.9.59 1.41.59.51 0 1.02-.2 1.41-.59l7.78-7.78 2.81-2.81c.8-.78.8-2.07 0-2.86zM5.41 20L4 18.59l7.72-7.72 1.47 1.35L5.41 20z\"/>\n",
              "  </svg>\n",
              "      </button>\n",
              "      \n",
              "  <style>\n",
              "    .colab-df-container {\n",
              "      display:flex;\n",
              "      flex-wrap:wrap;\n",
              "      gap: 12px;\n",
              "    }\n",
              "\n",
              "    .colab-df-convert {\n",
              "      background-color: #E8F0FE;\n",
              "      border: none;\n",
              "      border-radius: 50%;\n",
              "      cursor: pointer;\n",
              "      display: none;\n",
              "      fill: #1967D2;\n",
              "      height: 32px;\n",
              "      padding: 0 0 0 0;\n",
              "      width: 32px;\n",
              "    }\n",
              "\n",
              "    .colab-df-convert:hover {\n",
              "      background-color: #E2EBFA;\n",
              "      box-shadow: 0px 1px 2px rgba(60, 64, 67, 0.3), 0px 1px 3px 1px rgba(60, 64, 67, 0.15);\n",
              "      fill: #174EA6;\n",
              "    }\n",
              "\n",
              "    [theme=dark] .colab-df-convert {\n",
              "      background-color: #3B4455;\n",
              "      fill: #D2E3FC;\n",
              "    }\n",
              "\n",
              "    [theme=dark] .colab-df-convert:hover {\n",
              "      background-color: #434B5C;\n",
              "      box-shadow: 0px 1px 3px 1px rgba(0, 0, 0, 0.15);\n",
              "      filter: drop-shadow(0px 1px 2px rgba(0, 0, 0, 0.3));\n",
              "      fill: #FFFFFF;\n",
              "    }\n",
              "  </style>\n",
              "\n",
              "      <script>\n",
              "        const buttonEl =\n",
              "          document.querySelector('#df-e654a59c-fb18-4ac9-9cc7-f49cf354d548 button.colab-df-convert');\n",
              "        buttonEl.style.display =\n",
              "          google.colab.kernel.accessAllowed ? 'block' : 'none';\n",
              "\n",
              "        async function convertToInteractive(key) {\n",
              "          const element = document.querySelector('#df-e654a59c-fb18-4ac9-9cc7-f49cf354d548');\n",
              "          const dataTable =\n",
              "            await google.colab.kernel.invokeFunction('convertToInteractive',\n",
              "                                                     [key], {});\n",
              "          if (!dataTable) return;\n",
              "\n",
              "          const docLinkHtml = 'Like what you see? Visit the ' +\n",
              "            '<a target=\"_blank\" href=https://colab.research.google.com/notebooks/data_table.ipynb>data table notebook</a>'\n",
              "            + ' to learn more about interactive tables.';\n",
              "          element.innerHTML = '';\n",
              "          dataTable['output_type'] = 'display_data';\n",
              "          await google.colab.output.renderOutput(dataTable, element);\n",
              "          const docLink = document.createElement('div');\n",
              "          docLink.innerHTML = docLinkHtml;\n",
              "          element.appendChild(docLink);\n",
              "        }\n",
              "      </script>\n",
              "    </div>\n",
              "  </div>\n",
              "  "
            ]
          },
          "metadata": {},
          "execution_count": 232
        }
      ]
    },
    {
      "cell_type": "markdown",
      "source": [
        "## 종속변수 생성"
      ],
      "metadata": {
        "id": "TYnsqKRBhdp-"
      }
    },
    {
      "cell_type": "code",
      "source": [
        "y = df.pop('Exited').values.copy()\n",
        "X = df.copy()\n",
        "X.shape, y.shape"
      ],
      "metadata": {
        "id": "psN0GgMRhhMn",
        "colab": {
          "base_uri": "https://localhost:8080/"
        },
        "outputId": "30aeffb5-d4c0-4748-cc1b-5fd1d0743ba2"
      },
      "execution_count": 233,
      "outputs": [
        {
          "output_type": "execute_result",
          "data": {
            "text/plain": [
              "((10000, 10), (10000,))"
            ]
          },
          "metadata": {},
          "execution_count": 233
        }
      ]
    },
    {
      "cell_type": "markdown",
      "source": [
        "### \b데이터 셋 분리"
      ],
      "metadata": {
        "id": "MGtUw5hVK85a"
      }
    },
    {
      "cell_type": "code",
      "source": [
        "from sklearn.model_selection import train_test_split\n",
        "X_tr,X_te,y_tr,y_te=train_test_split(X,y,\n",
        "                                     test_size=0.3)"
      ],
      "metadata": {
        "id": "tD7rrz8QczQu"
      },
      "execution_count": 234,
      "outputs": []
    },
    {
      "cell_type": "code",
      "source": [
        "print(X_tr.shape, y_tr.shape)"
      ],
      "metadata": {
        "colab": {
          "base_uri": "https://localhost:8080/"
        },
        "id": "6kvbjDxkkSTn",
        "outputId": "f59c6dc1-b1d4-4f46-f89d-84dcd0ec6050"
      },
      "execution_count": 235,
      "outputs": [
        {
          "output_type": "stream",
          "name": "stdout",
          "text": [
            "(7000, 10) (7000,)\n"
          ]
        }
      ]
    },
    {
      "cell_type": "markdown",
      "source": [
        "* standard scaler면 표준편차랑 평균 이용하는데 오로지 훈련셋만의 기준으로 스케일링 한 후에 테스트 셋도 훈련셋의 기준으로 해야해서 먼저 \b데이터셋을 분리한 후 표준화를 진행해야 함"
      ],
      "metadata": {
        "id": "RVRYKRpWFkmf"
      }
    },
    {
      "cell_type": "markdown",
      "source": [
        "### 데이터 표준화"
      ],
      "metadata": {
        "id": "NOwtmaWXYHM-"
      }
    },
    {
      "cell_type": "code",
      "source": [
        "from sklearn.preprocessing import StandardScaler\n",
        "std = StandardScaler()\n",
        "X_tr[['Balance','EstimatedSalary']] = std.fit_transform(X_tr[['Balance','EstimatedSalary']])\n",
        "X_te[['Balance','EstimatedSalary']] = std.transform(X_te[['Balance','EstimatedSalary']])"
      ],
      "metadata": {
        "id": "c7l8m_AzYILi"
      },
      "execution_count": 236,
      "outputs": []
    },
    {
      "cell_type": "markdown",
      "source": [
        "* X = X.values를 한다면 표준화 진행이 되지않는다."
      ],
      "metadata": {
        "id": "Isb3FRY4GuHw"
      }
    },
    {
      "cell_type": "code",
      "source": [
        "# df -> 배열로 변환\n",
        "X_tr = X_tr.values\n",
        "X_te = X_te.values"
      ],
      "metadata": {
        "id": "X1pUDFFAHK0k"
      },
      "execution_count": 237,
      "outputs": []
    },
    {
      "cell_type": "markdown",
      "source": [
        "# 딥러닝"
      ],
      "metadata": {
        "id": "ZxOwn-TwdecP"
      }
    },
    {
      "cell_type": "code",
      "source": [
        "# first layer\n",
        "import tensorflow as tf\n",
        "from tensorflow import keras\n",
        "model = keras.Sequential()\n",
        "model.add(keras.layers.Dense(units=1, activation='sigmoid',\n",
        "                             input_shape=(10,)))\n",
        "model.summary()"
      ],
      "metadata": {
        "colab": {
          "base_uri": "https://localhost:8080/"
        },
        "id": "ioY-nNy3QY2o",
        "outputId": "6a642558-171e-4a68-9983-e6459013d835"
      },
      "execution_count": 244,
      "outputs": [
        {
          "output_type": "stream",
          "name": "stdout",
          "text": [
            "Model: \"sequential_5\"\n",
            "_________________________________________________________________\n",
            " Layer (type)                Output Shape              Param #   \n",
            "=================================================================\n",
            " dense_7 (Dense)             (None, 1)                 11        \n",
            "                                                                 \n",
            "=================================================================\n",
            "Total params: 11\n",
            "Trainable params: 11\n",
            "Non-trainable params: 0\n",
            "_________________________________________________________________\n"
          ]
        }
      ]
    },
    {
      "cell_type": "code",
      "source": [
        "from sklearn.linear_model import SGDClassifier"
      ],
      "metadata": {
        "id": "KmUZLsteQpEH"
      },
      "execution_count": 245,
      "outputs": []
    },
    {
      "cell_type": "code",
      "source": [
        "model.compile(optimizer=keras.optimizers.SGD(),\n",
        "              loss=keras.losses.binary_crossentropy,\n",
        "              metrics=keras.metrics.binary_accuracy)\n",
        "\n",
        "model_history = model.fit(X_tr, y_tr, validation_split = 0.2, \n",
        "                          validation_data = (X_te, y_te), epochs = 100,)"
      ],
      "metadata": {
        "colab": {
          "base_uri": "https://localhost:8080/"
        },
        "id": "OYXePmBQQqZP",
        "outputId": "2bc60c88-6968-445c-d548-ece349ab6065"
      },
      "execution_count": 246,
      "outputs": [
        {
          "output_type": "stream",
          "name": "stdout",
          "text": [
            "Epoch 1/100\n",
            "175/175 [==============================] - 1s 3ms/step - loss: 0.6250 - binary_accuracy: 0.7366 - val_loss: 0.5750 - val_binary_accuracy: 0.7586\n",
            "Epoch 2/100\n",
            "175/175 [==============================] - 0s 2ms/step - loss: 0.5433 - binary_accuracy: 0.7657 - val_loss: 0.5398 - val_binary_accuracy: 0.7750\n",
            "Epoch 3/100\n",
            "175/175 [==============================] - 0s 2ms/step - loss: 0.5200 - binary_accuracy: 0.7796 - val_loss: 0.5233 - val_binary_accuracy: 0.7814\n",
            "Epoch 4/100\n",
            "175/175 [==============================] - 0s 2ms/step - loss: 0.5065 - binary_accuracy: 0.7850 - val_loss: 0.5084 - val_binary_accuracy: 0.7771\n",
            "Epoch 5/100\n",
            "175/175 [==============================] - 0s 2ms/step - loss: 0.4972 - binary_accuracy: 0.7868 - val_loss: 0.4985 - val_binary_accuracy: 0.7821\n",
            "Epoch 6/100\n",
            "175/175 [==============================] - 0s 2ms/step - loss: 0.4892 - binary_accuracy: 0.7893 - val_loss: 0.4923 - val_binary_accuracy: 0.7850\n",
            "Epoch 7/100\n",
            "175/175 [==============================] - 0s 2ms/step - loss: 0.4835 - binary_accuracy: 0.7904 - val_loss: 0.4861 - val_binary_accuracy: 0.7871\n",
            "Epoch 8/100\n",
            "175/175 [==============================] - 0s 2ms/step - loss: 0.4791 - binary_accuracy: 0.7916 - val_loss: 0.4812 - val_binary_accuracy: 0.7886\n",
            "Epoch 9/100\n",
            "175/175 [==============================] - 0s 2ms/step - loss: 0.4756 - binary_accuracy: 0.7929 - val_loss: 0.4772 - val_binary_accuracy: 0.7900\n",
            "Epoch 10/100\n",
            "175/175 [==============================] - 0s 2ms/step - loss: 0.4715 - binary_accuracy: 0.7936 - val_loss: 0.4743 - val_binary_accuracy: 0.7921\n",
            "Epoch 11/100\n",
            "175/175 [==============================] - 0s 2ms/step - loss: 0.4696 - binary_accuracy: 0.7950 - val_loss: 0.4718 - val_binary_accuracy: 0.7936\n",
            "Epoch 12/100\n",
            "175/175 [==============================] - 0s 2ms/step - loss: 0.4673 - binary_accuracy: 0.7948 - val_loss: 0.4692 - val_binary_accuracy: 0.7943\n",
            "Epoch 13/100\n",
            "175/175 [==============================] - 0s 2ms/step - loss: 0.4649 - binary_accuracy: 0.7962 - val_loss: 0.4679 - val_binary_accuracy: 0.7950\n",
            "Epoch 14/100\n",
            "175/175 [==============================] - 0s 2ms/step - loss: 0.4629 - binary_accuracy: 0.7980 - val_loss: 0.4669 - val_binary_accuracy: 0.7950\n",
            "Epoch 15/100\n",
            "175/175 [==============================] - 0s 2ms/step - loss: 0.4618 - binary_accuracy: 0.7964 - val_loss: 0.4643 - val_binary_accuracy: 0.7950\n",
            "Epoch 16/100\n",
            "175/175 [==============================] - 0s 2ms/step - loss: 0.4603 - binary_accuracy: 0.7968 - val_loss: 0.4632 - val_binary_accuracy: 0.7929\n",
            "Epoch 17/100\n",
            "175/175 [==============================] - 0s 2ms/step - loss: 0.4588 - binary_accuracy: 0.7993 - val_loss: 0.4632 - val_binary_accuracy: 0.7964\n",
            "Epoch 18/100\n",
            "175/175 [==============================] - 0s 2ms/step - loss: 0.4584 - binary_accuracy: 0.7984 - val_loss: 0.4614 - val_binary_accuracy: 0.7936\n",
            "Epoch 19/100\n",
            "175/175 [==============================] - 1s 4ms/step - loss: 0.4575 - binary_accuracy: 0.7989 - val_loss: 0.4601 - val_binary_accuracy: 0.7936\n",
            "Epoch 20/100\n",
            "175/175 [==============================] - 1s 4ms/step - loss: 0.4563 - binary_accuracy: 0.7996 - val_loss: 0.4593 - val_binary_accuracy: 0.7950\n",
            "Epoch 21/100\n",
            "175/175 [==============================] - 0s 2ms/step - loss: 0.4553 - binary_accuracy: 0.8002 - val_loss: 0.4607 - val_binary_accuracy: 0.7964\n",
            "Epoch 22/100\n",
            "175/175 [==============================] - 0s 2ms/step - loss: 0.4545 - binary_accuracy: 0.7991 - val_loss: 0.4624 - val_binary_accuracy: 0.7986\n",
            "Epoch 23/100\n",
            "175/175 [==============================] - 0s 2ms/step - loss: 0.4543 - binary_accuracy: 0.8018 - val_loss: 0.4592 - val_binary_accuracy: 0.7986\n",
            "Epoch 24/100\n",
            "175/175 [==============================] - 0s 2ms/step - loss: 0.4538 - binary_accuracy: 0.8023 - val_loss: 0.4576 - val_binary_accuracy: 0.7979\n",
            "Epoch 25/100\n",
            "175/175 [==============================] - 0s 2ms/step - loss: 0.4529 - binary_accuracy: 0.8020 - val_loss: 0.4592 - val_binary_accuracy: 0.7964\n",
            "Epoch 26/100\n",
            "175/175 [==============================] - 0s 2ms/step - loss: 0.4527 - binary_accuracy: 0.8023 - val_loss: 0.4564 - val_binary_accuracy: 0.7957\n",
            "Epoch 27/100\n",
            "175/175 [==============================] - 0s 2ms/step - loss: 0.4521 - binary_accuracy: 0.8041 - val_loss: 0.4562 - val_binary_accuracy: 0.7964\n",
            "Epoch 28/100\n",
            "175/175 [==============================] - 1s 4ms/step - loss: 0.4517 - binary_accuracy: 0.8014 - val_loss: 0.4567 - val_binary_accuracy: 0.7971\n",
            "Epoch 29/100\n",
            "175/175 [==============================] - 1s 3ms/step - loss: 0.4511 - binary_accuracy: 0.8020 - val_loss: 0.4612 - val_binary_accuracy: 0.7979\n",
            "Epoch 30/100\n",
            "175/175 [==============================] - 1s 4ms/step - loss: 0.4513 - binary_accuracy: 0.8018 - val_loss: 0.4550 - val_binary_accuracy: 0.7979\n",
            "Epoch 31/100\n",
            "175/175 [==============================] - 1s 5ms/step - loss: 0.4508 - binary_accuracy: 0.8050 - val_loss: 0.4546 - val_binary_accuracy: 0.7986\n",
            "Epoch 32/100\n",
            "175/175 [==============================] - 1s 4ms/step - loss: 0.4505 - binary_accuracy: 0.8032 - val_loss: 0.4549 - val_binary_accuracy: 0.7971\n",
            "Epoch 33/100\n",
            "175/175 [==============================] - 1s 6ms/step - loss: 0.4505 - binary_accuracy: 0.8041 - val_loss: 0.4552 - val_binary_accuracy: 0.7979\n",
            "Epoch 34/100\n",
            "175/175 [==============================] - 0s 2ms/step - loss: 0.4502 - binary_accuracy: 0.8048 - val_loss: 0.4542 - val_binary_accuracy: 0.7986\n",
            "Epoch 35/100\n",
            "175/175 [==============================] - 0s 2ms/step - loss: 0.4495 - binary_accuracy: 0.8048 - val_loss: 0.4554 - val_binary_accuracy: 0.7986\n",
            "Epoch 36/100\n",
            "175/175 [==============================] - 0s 2ms/step - loss: 0.4499 - binary_accuracy: 0.8029 - val_loss: 0.4561 - val_binary_accuracy: 0.7986\n",
            "Epoch 37/100\n",
            "175/175 [==============================] - 0s 2ms/step - loss: 0.4492 - binary_accuracy: 0.8046 - val_loss: 0.4545 - val_binary_accuracy: 0.7993\n",
            "Epoch 38/100\n",
            "175/175 [==============================] - 0s 2ms/step - loss: 0.4492 - binary_accuracy: 0.8048 - val_loss: 0.4543 - val_binary_accuracy: 0.7993\n",
            "Epoch 39/100\n",
            "175/175 [==============================] - 0s 2ms/step - loss: 0.4486 - binary_accuracy: 0.8030 - val_loss: 0.4536 - val_binary_accuracy: 0.8000\n",
            "Epoch 40/100\n",
            "175/175 [==============================] - 0s 2ms/step - loss: 0.4486 - binary_accuracy: 0.8052 - val_loss: 0.4567 - val_binary_accuracy: 0.7979\n",
            "Epoch 41/100\n",
            "175/175 [==============================] - 0s 2ms/step - loss: 0.4493 - binary_accuracy: 0.8045 - val_loss: 0.4531 - val_binary_accuracy: 0.8007\n",
            "Epoch 42/100\n",
            "175/175 [==============================] - 0s 2ms/step - loss: 0.4484 - binary_accuracy: 0.8048 - val_loss: 0.4527 - val_binary_accuracy: 0.7979\n",
            "Epoch 43/100\n",
            "175/175 [==============================] - 0s 2ms/step - loss: 0.4482 - binary_accuracy: 0.8064 - val_loss: 0.4526 - val_binary_accuracy: 0.7986\n",
            "Epoch 44/100\n",
            "175/175 [==============================] - 0s 2ms/step - loss: 0.4484 - binary_accuracy: 0.8057 - val_loss: 0.4524 - val_binary_accuracy: 0.7986\n",
            "Epoch 45/100\n",
            "175/175 [==============================] - 0s 2ms/step - loss: 0.4479 - binary_accuracy: 0.8057 - val_loss: 0.4523 - val_binary_accuracy: 0.7986\n",
            "Epoch 46/100\n",
            "175/175 [==============================] - 0s 2ms/step - loss: 0.4475 - binary_accuracy: 0.8064 - val_loss: 0.4527 - val_binary_accuracy: 0.7993\n",
            "Epoch 47/100\n",
            "175/175 [==============================] - 0s 2ms/step - loss: 0.4471 - binary_accuracy: 0.8037 - val_loss: 0.4525 - val_binary_accuracy: 0.7957\n",
            "Epoch 48/100\n",
            "175/175 [==============================] - 0s 2ms/step - loss: 0.4476 - binary_accuracy: 0.8057 - val_loss: 0.4519 - val_binary_accuracy: 0.7971\n",
            "Epoch 49/100\n",
            "175/175 [==============================] - 0s 2ms/step - loss: 0.4473 - binary_accuracy: 0.8070 - val_loss: 0.4521 - val_binary_accuracy: 0.8007\n",
            "Epoch 50/100\n",
            "175/175 [==============================] - 0s 2ms/step - loss: 0.4475 - binary_accuracy: 0.8066 - val_loss: 0.4522 - val_binary_accuracy: 0.7964\n",
            "Epoch 51/100\n",
            "175/175 [==============================] - 0s 3ms/step - loss: 0.4472 - binary_accuracy: 0.8057 - val_loss: 0.4533 - val_binary_accuracy: 0.7971\n",
            "Epoch 52/100\n",
            "175/175 [==============================] - 0s 2ms/step - loss: 0.4467 - binary_accuracy: 0.8082 - val_loss: 0.4516 - val_binary_accuracy: 0.7964\n",
            "Epoch 53/100\n",
            "175/175 [==============================] - 0s 2ms/step - loss: 0.4469 - binary_accuracy: 0.8068 - val_loss: 0.4537 - val_binary_accuracy: 0.8029\n",
            "Epoch 54/100\n",
            "175/175 [==============================] - 0s 2ms/step - loss: 0.4467 - binary_accuracy: 0.8054 - val_loss: 0.4513 - val_binary_accuracy: 0.7986\n",
            "Epoch 55/100\n",
            "175/175 [==============================] - 0s 2ms/step - loss: 0.4467 - binary_accuracy: 0.8059 - val_loss: 0.4513 - val_binary_accuracy: 0.7971\n",
            "Epoch 56/100\n",
            "175/175 [==============================] - 0s 2ms/step - loss: 0.4465 - binary_accuracy: 0.8046 - val_loss: 0.4517 - val_binary_accuracy: 0.8007\n",
            "Epoch 57/100\n",
            "175/175 [==============================] - 0s 2ms/step - loss: 0.4467 - binary_accuracy: 0.8048 - val_loss: 0.4511 - val_binary_accuracy: 0.7971\n",
            "Epoch 58/100\n",
            "175/175 [==============================] - 0s 2ms/step - loss: 0.4462 - binary_accuracy: 0.8068 - val_loss: 0.4518 - val_binary_accuracy: 0.8000\n",
            "Epoch 59/100\n",
            "175/175 [==============================] - 0s 2ms/step - loss: 0.4458 - binary_accuracy: 0.8039 - val_loss: 0.4511 - val_binary_accuracy: 0.7986\n",
            "Epoch 60/100\n",
            "175/175 [==============================] - 0s 2ms/step - loss: 0.4459 - binary_accuracy: 0.8062 - val_loss: 0.4522 - val_binary_accuracy: 0.8021\n",
            "Epoch 61/100\n",
            "175/175 [==============================] - 0s 2ms/step - loss: 0.4457 - binary_accuracy: 0.8075 - val_loss: 0.4514 - val_binary_accuracy: 0.8007\n",
            "Epoch 62/100\n",
            "175/175 [==============================] - 0s 2ms/step - loss: 0.4456 - binary_accuracy: 0.8054 - val_loss: 0.4511 - val_binary_accuracy: 0.7993\n",
            "Epoch 63/100\n",
            "175/175 [==============================] - 0s 2ms/step - loss: 0.4449 - binary_accuracy: 0.8066 - val_loss: 0.4505 - val_binary_accuracy: 0.7964\n",
            "Epoch 64/100\n",
            "175/175 [==============================] - 0s 2ms/step - loss: 0.4450 - binary_accuracy: 0.8062 - val_loss: 0.4508 - val_binary_accuracy: 0.8000\n",
            "Epoch 65/100\n",
            "175/175 [==============================] - 0s 2ms/step - loss: 0.4452 - binary_accuracy: 0.8057 - val_loss: 0.4528 - val_binary_accuracy: 0.8029\n",
            "Epoch 66/100\n",
            "175/175 [==============================] - 0s 2ms/step - loss: 0.4451 - binary_accuracy: 0.8071 - val_loss: 0.4507 - val_binary_accuracy: 0.8000\n",
            "Epoch 67/100\n",
            "175/175 [==============================] - 0s 2ms/step - loss: 0.4453 - binary_accuracy: 0.8064 - val_loss: 0.4517 - val_binary_accuracy: 0.8014\n",
            "Epoch 68/100\n",
            "175/175 [==============================] - 0s 2ms/step - loss: 0.4448 - binary_accuracy: 0.8048 - val_loss: 0.4501 - val_binary_accuracy: 0.7964\n",
            "Epoch 69/100\n",
            "175/175 [==============================] - 0s 2ms/step - loss: 0.4448 - binary_accuracy: 0.8046 - val_loss: 0.4500 - val_binary_accuracy: 0.7979\n",
            "Epoch 70/100\n",
            "175/175 [==============================] - 0s 2ms/step - loss: 0.4452 - binary_accuracy: 0.8050 - val_loss: 0.4507 - val_binary_accuracy: 0.7986\n",
            "Epoch 71/100\n",
            "175/175 [==============================] - 0s 2ms/step - loss: 0.4444 - binary_accuracy: 0.8066 - val_loss: 0.4506 - val_binary_accuracy: 0.8000\n",
            "Epoch 72/100\n",
            "175/175 [==============================] - 0s 2ms/step - loss: 0.4449 - binary_accuracy: 0.8070 - val_loss: 0.4497 - val_binary_accuracy: 0.7979\n",
            "Epoch 73/100\n",
            "175/175 [==============================] - 0s 2ms/step - loss: 0.4446 - binary_accuracy: 0.8070 - val_loss: 0.4501 - val_binary_accuracy: 0.7993\n",
            "Epoch 74/100\n",
            "175/175 [==============================] - 0s 2ms/step - loss: 0.4449 - binary_accuracy: 0.8046 - val_loss: 0.4499 - val_binary_accuracy: 0.8000\n",
            "Epoch 75/100\n",
            "175/175 [==============================] - 0s 2ms/step - loss: 0.4447 - binary_accuracy: 0.8045 - val_loss: 0.4500 - val_binary_accuracy: 0.7986\n",
            "Epoch 76/100\n",
            "175/175 [==============================] - 0s 2ms/step - loss: 0.4446 - binary_accuracy: 0.8062 - val_loss: 0.4503 - val_binary_accuracy: 0.7993\n",
            "Epoch 77/100\n",
            "175/175 [==============================] - 0s 2ms/step - loss: 0.4444 - binary_accuracy: 0.8048 - val_loss: 0.4497 - val_binary_accuracy: 0.7993\n",
            "Epoch 78/100\n",
            "175/175 [==============================] - 0s 2ms/step - loss: 0.4440 - binary_accuracy: 0.8064 - val_loss: 0.4498 - val_binary_accuracy: 0.7993\n",
            "Epoch 79/100\n",
            "175/175 [==============================] - 0s 2ms/step - loss: 0.4437 - binary_accuracy: 0.8061 - val_loss: 0.4495 - val_binary_accuracy: 0.7979\n",
            "Epoch 80/100\n",
            "175/175 [==============================] - 0s 3ms/step - loss: 0.4443 - binary_accuracy: 0.8048 - val_loss: 0.4498 - val_binary_accuracy: 0.7993\n",
            "Epoch 81/100\n",
            "175/175 [==============================] - 1s 3ms/step - loss: 0.4440 - binary_accuracy: 0.8054 - val_loss: 0.4493 - val_binary_accuracy: 0.7979\n",
            "Epoch 82/100\n",
            "175/175 [==============================] - 1s 3ms/step - loss: 0.4437 - binary_accuracy: 0.8059 - val_loss: 0.4493 - val_binary_accuracy: 0.7971\n",
            "Epoch 83/100\n",
            "175/175 [==============================] - 1s 3ms/step - loss: 0.4436 - binary_accuracy: 0.8041 - val_loss: 0.4511 - val_binary_accuracy: 0.7993\n",
            "Epoch 84/100\n",
            "175/175 [==============================] - 1s 3ms/step - loss: 0.4436 - binary_accuracy: 0.8061 - val_loss: 0.4495 - val_binary_accuracy: 0.7993\n",
            "Epoch 85/100\n",
            "175/175 [==============================] - 1s 3ms/step - loss: 0.4435 - binary_accuracy: 0.8059 - val_loss: 0.4497 - val_binary_accuracy: 0.7979\n",
            "Epoch 86/100\n",
            "175/175 [==============================] - 1s 4ms/step - loss: 0.4436 - binary_accuracy: 0.8050 - val_loss: 0.4496 - val_binary_accuracy: 0.7979\n",
            "Epoch 87/100\n",
            "175/175 [==============================] - 0s 2ms/step - loss: 0.4436 - binary_accuracy: 0.8091 - val_loss: 0.4491 - val_binary_accuracy: 0.7993\n",
            "Epoch 88/100\n",
            "175/175 [==============================] - 0s 2ms/step - loss: 0.4435 - binary_accuracy: 0.8050 - val_loss: 0.4488 - val_binary_accuracy: 0.8000\n",
            "Epoch 89/100\n",
            "175/175 [==============================] - 0s 2ms/step - loss: 0.4433 - binary_accuracy: 0.8055 - val_loss: 0.4500 - val_binary_accuracy: 0.7993\n",
            "Epoch 90/100\n",
            "175/175 [==============================] - 0s 2ms/step - loss: 0.4431 - binary_accuracy: 0.8057 - val_loss: 0.4507 - val_binary_accuracy: 0.8007\n",
            "Epoch 91/100\n",
            "175/175 [==============================] - 0s 2ms/step - loss: 0.4429 - binary_accuracy: 0.8043 - val_loss: 0.4487 - val_binary_accuracy: 0.7986\n",
            "Epoch 92/100\n",
            "175/175 [==============================] - 0s 2ms/step - loss: 0.4432 - binary_accuracy: 0.8059 - val_loss: 0.4487 - val_binary_accuracy: 0.8000\n",
            "Epoch 93/100\n",
            "175/175 [==============================] - 0s 2ms/step - loss: 0.4429 - binary_accuracy: 0.8062 - val_loss: 0.4525 - val_binary_accuracy: 0.8043\n",
            "Epoch 94/100\n",
            "175/175 [==============================] - 0s 2ms/step - loss: 0.4430 - binary_accuracy: 0.8037 - val_loss: 0.4488 - val_binary_accuracy: 0.8014\n",
            "Epoch 95/100\n",
            "175/175 [==============================] - 0s 2ms/step - loss: 0.4429 - binary_accuracy: 0.8059 - val_loss: 0.4484 - val_binary_accuracy: 0.7964\n",
            "Epoch 96/100\n",
            "175/175 [==============================] - 0s 2ms/step - loss: 0.4432 - binary_accuracy: 0.8066 - val_loss: 0.4485 - val_binary_accuracy: 0.7979\n",
            "Epoch 97/100\n",
            "175/175 [==============================] - 0s 2ms/step - loss: 0.4427 - binary_accuracy: 0.8064 - val_loss: 0.4486 - val_binary_accuracy: 0.8000\n",
            "Epoch 98/100\n",
            "175/175 [==============================] - 0s 2ms/step - loss: 0.4427 - binary_accuracy: 0.8041 - val_loss: 0.4497 - val_binary_accuracy: 0.7979\n",
            "Epoch 99/100\n",
            "175/175 [==============================] - 0s 2ms/step - loss: 0.4426 - binary_accuracy: 0.8046 - val_loss: 0.4501 - val_binary_accuracy: 0.8007\n",
            "Epoch 100/100\n",
            "175/175 [==============================] - 0s 2ms/step - loss: 0.4426 - binary_accuracy: 0.8066 - val_loss: 0.4483 - val_binary_accuracy: 0.7993\n"
          ]
        }
      ]
    },
    {
      "cell_type": "code",
      "source": [
        "pred = model.predict(X_te)"
      ],
      "metadata": {
        "id": "B-Ostu7mQqR9"
      },
      "execution_count": 247,
      "outputs": []
    },
    {
      "cell_type": "code",
      "source": [
        "pred_label = (pred > 0.5).astype('int').reshape((-1,))\n",
        "# true면 1, false면 0 반환 -> 1차원 배열로 reshape\n",
        "pred_label[:10]"
      ],
      "metadata": {
        "colab": {
          "base_uri": "https://localhost:8080/"
        },
        "id": "MzX8RdaeQqPA",
        "outputId": "dc0e222a-570a-4532-a82a-30730af67b03"
      },
      "execution_count": 248,
      "outputs": [
        {
          "output_type": "execute_result",
          "data": {
            "text/plain": [
              "array([0, 0, 1, 0, 0, 0, 0, 1, 0, 0])"
            ]
          },
          "metadata": {},
          "execution_count": 248
        }
      ]
    },
    {
      "cell_type": "code",
      "source": [
        "np.mean(y_te == pred_label)"
      ],
      "metadata": {
        "colab": {
          "base_uri": "https://localhost:8080/"
        },
        "id": "6ijYRsFPQqLt",
        "outputId": "23685da5-e571-48d8-f1db-b6e95c38f9b2"
      },
      "execution_count": 249,
      "outputs": [
        {
          "output_type": "execute_result",
          "data": {
            "text/plain": [
              "0.8066666666666666"
            ]
          },
          "metadata": {},
          "execution_count": 249
        }
      ]
    },
    {
      "cell_type": "markdown",
      "source": [
        "# 은닉층 추가"
      ],
      "metadata": {
        "id": "8pCqxVEaIX2H"
      }
    },
    {
      "cell_type": "code",
      "source": [
        "# tensorflow, keras\n",
        "import tensorflow as tf\n",
        "from tensorflow import keras\n",
        "ann = tf.keras.models.Sequential()\n",
        "ann.add(tf.keras.layers.Dense(units=5,\n",
        "                              activation='relu',\n",
        "                              input_shape=(10,)))\n",
        "ann.add(tf.keras.layers.Dense(units=1, activation='sigmoid'))\n",
        "ann.compile(optimizer='adam', loss='binary_crossentropy', metrics='accuracy')\n",
        "ann.summary()"
      ],
      "metadata": {
        "colab": {
          "base_uri": "https://localhost:8080/"
        },
        "id": "k70re-mmnbVk",
        "outputId": "297270e0-4737-48a9-a2d2-72d397b39fb8"
      },
      "execution_count": 250,
      "outputs": [
        {
          "output_type": "stream",
          "name": "stdout",
          "text": [
            "Model: \"sequential_6\"\n",
            "_________________________________________________________________\n",
            " Layer (type)                Output Shape              Param #   \n",
            "=================================================================\n",
            " dense_8 (Dense)             (None, 5)                 55        \n",
            "                                                                 \n",
            " dense_9 (Dense)             (None, 1)                 6         \n",
            "                                                                 \n",
            "=================================================================\n",
            "Total params: 61\n",
            "Trainable params: 61\n",
            "Non-trainable params: 0\n",
            "_________________________________________________________________\n"
          ]
        }
      ]
    },
    {
      "cell_type": "code",
      "source": [
        "pred = ann.predict(X_te)"
      ],
      "metadata": {
        "id": "wmT6JgQpJMUE"
      },
      "execution_count": 251,
      "outputs": []
    },
    {
      "cell_type": "code",
      "source": [
        "pred_label = (pred > 0.5).astype('int').reshape(-1,)\n",
        "np.mean(y_te == pred_label)"
      ],
      "metadata": {
        "colab": {
          "base_uri": "https://localhost:8080/"
        },
        "id": "I6j20m3EtnWc",
        "outputId": "946fe6b2-ab77-42f3-c6c8-c427f1376e00"
      },
      "execution_count": 252,
      "outputs": [
        {
          "output_type": "execute_result",
          "data": {
            "text/plain": [
              "0.7993333333333333"
            ]
          },
          "metadata": {},
          "execution_count": 252
        }
      ]
    },
    {
      "cell_type": "code",
      "source": [
        "checkpoint_cb = keras.callbacks.ModelCheckpoint('best_cnn_model.h5',\n",
        "                                                save_best_only=True)\n",
        "early_stop_cb = keras.callbacks.EarlyStopping(patience=3,\n",
        "                                              restore_best_weights=True)"
      ],
      "metadata": {
        "id": "pbUSWibbO1lB"
      },
      "execution_count": 253,
      "outputs": []
    },
    {
      "cell_type": "code",
      "source": [
        "history = ann.fit(x=X_tr, y= y_tr ,epochs=100,\n",
        "                  callbacks=[checkpoint_cb, early_stop_cb],\n",
        "                    validation_data=(X_te, y_te))"
      ],
      "metadata": {
        "colab": {
          "base_uri": "https://localhost:8080/"
        },
        "id": "aMHgRxwdOR-L",
        "outputId": "059208c9-ef10-45ef-9609-1eed61557c7d"
      },
      "execution_count": 254,
      "outputs": [
        {
          "output_type": "stream",
          "name": "stdout",
          "text": [
            "Epoch 1/100\n",
            "219/219 [==============================] - 1s 4ms/step - loss: 0.5468 - accuracy: 0.7900 - val_loss: 0.4981 - val_accuracy: 0.8013\n",
            "Epoch 2/100\n",
            "219/219 [==============================] - 1s 3ms/step - loss: 0.4930 - accuracy: 0.7940 - val_loss: 0.4776 - val_accuracy: 0.7993\n",
            "Epoch 3/100\n",
            "219/219 [==============================] - 1s 3ms/step - loss: 0.4786 - accuracy: 0.7950 - val_loss: 0.4718 - val_accuracy: 0.7993\n",
            "Epoch 4/100\n",
            "219/219 [==============================] - 1s 2ms/step - loss: 0.4716 - accuracy: 0.7953 - val_loss: 0.4666 - val_accuracy: 0.7983\n",
            "Epoch 5/100\n",
            "219/219 [==============================] - 1s 3ms/step - loss: 0.4666 - accuracy: 0.7976 - val_loss: 0.4646 - val_accuracy: 0.7997\n",
            "Epoch 6/100\n",
            "219/219 [==============================] - 1s 3ms/step - loss: 0.4624 - accuracy: 0.7984 - val_loss: 0.4607 - val_accuracy: 0.8017\n",
            "Epoch 7/100\n",
            "219/219 [==============================] - 1s 3ms/step - loss: 0.4589 - accuracy: 0.8010 - val_loss: 0.4586 - val_accuracy: 0.8023\n",
            "Epoch 8/100\n",
            "219/219 [==============================] - 1s 3ms/step - loss: 0.4568 - accuracy: 0.7981 - val_loss: 0.4570 - val_accuracy: 0.8047\n",
            "Epoch 9/100\n",
            "219/219 [==============================] - 1s 3ms/step - loss: 0.4545 - accuracy: 0.7990 - val_loss: 0.4553 - val_accuracy: 0.8043\n",
            "Epoch 10/100\n",
            "219/219 [==============================] - 1s 3ms/step - loss: 0.4526 - accuracy: 0.8007 - val_loss: 0.4543 - val_accuracy: 0.8047\n",
            "Epoch 11/100\n",
            "219/219 [==============================] - 1s 3ms/step - loss: 0.4510 - accuracy: 0.8014 - val_loss: 0.4526 - val_accuracy: 0.8050\n",
            "Epoch 12/100\n",
            "219/219 [==============================] - 1s 2ms/step - loss: 0.4495 - accuracy: 0.8007 - val_loss: 0.4526 - val_accuracy: 0.8000\n",
            "Epoch 13/100\n",
            "219/219 [==============================] - 1s 3ms/step - loss: 0.4482 - accuracy: 0.8006 - val_loss: 0.4506 - val_accuracy: 0.8033\n",
            "Epoch 14/100\n",
            "219/219 [==============================] - 1s 2ms/step - loss: 0.4472 - accuracy: 0.8029 - val_loss: 0.4494 - val_accuracy: 0.8027\n",
            "Epoch 15/100\n",
            "219/219 [==============================] - 1s 3ms/step - loss: 0.4463 - accuracy: 0.8026 - val_loss: 0.4482 - val_accuracy: 0.8043\n",
            "Epoch 16/100\n",
            "219/219 [==============================] - 1s 3ms/step - loss: 0.4450 - accuracy: 0.8046 - val_loss: 0.4470 - val_accuracy: 0.8047\n",
            "Epoch 17/100\n",
            "219/219 [==============================] - 1s 2ms/step - loss: 0.4438 - accuracy: 0.8051 - val_loss: 0.4474 - val_accuracy: 0.8027\n",
            "Epoch 18/100\n",
            "219/219 [==============================] - 1s 3ms/step - loss: 0.4432 - accuracy: 0.8039 - val_loss: 0.4459 - val_accuracy: 0.8047\n",
            "Epoch 19/100\n",
            "219/219 [==============================] - 1s 3ms/step - loss: 0.4422 - accuracy: 0.8051 - val_loss: 0.4451 - val_accuracy: 0.8037\n",
            "Epoch 20/100\n",
            "219/219 [==============================] - 1s 3ms/step - loss: 0.4415 - accuracy: 0.8059 - val_loss: 0.4443 - val_accuracy: 0.8033\n",
            "Epoch 21/100\n",
            "219/219 [==============================] - 1s 2ms/step - loss: 0.4406 - accuracy: 0.8061 - val_loss: 0.4443 - val_accuracy: 0.8027\n",
            "Epoch 22/100\n",
            "219/219 [==============================] - 1s 3ms/step - loss: 0.4398 - accuracy: 0.8091 - val_loss: 0.4442 - val_accuracy: 0.8027\n",
            "Epoch 23/100\n",
            "219/219 [==============================] - 1s 6ms/step - loss: 0.4392 - accuracy: 0.8053 - val_loss: 0.4451 - val_accuracy: 0.8020\n",
            "Epoch 24/100\n",
            "219/219 [==============================] - 1s 3ms/step - loss: 0.4387 - accuracy: 0.8073 - val_loss: 0.4419 - val_accuracy: 0.8047\n",
            "Epoch 25/100\n",
            "219/219 [==============================] - 1s 3ms/step - loss: 0.4377 - accuracy: 0.8096 - val_loss: 0.4437 - val_accuracy: 0.8030\n",
            "Epoch 26/100\n",
            "219/219 [==============================] - 1s 2ms/step - loss: 0.4372 - accuracy: 0.8096 - val_loss: 0.4415 - val_accuracy: 0.8043\n",
            "Epoch 27/100\n",
            "219/219 [==============================] - 1s 3ms/step - loss: 0.4370 - accuracy: 0.8096 - val_loss: 0.4400 - val_accuracy: 0.8040\n",
            "Epoch 28/100\n",
            "219/219 [==============================] - 1s 3ms/step - loss: 0.4360 - accuracy: 0.8100 - val_loss: 0.4395 - val_accuracy: 0.8057\n",
            "Epoch 29/100\n",
            "219/219 [==============================] - 1s 3ms/step - loss: 0.4356 - accuracy: 0.8110 - val_loss: 0.4390 - val_accuracy: 0.8067\n",
            "Epoch 30/100\n",
            "219/219 [==============================] - 1s 3ms/step - loss: 0.4350 - accuracy: 0.8101 - val_loss: 0.4385 - val_accuracy: 0.8067\n",
            "Epoch 31/100\n",
            "219/219 [==============================] - 1s 2ms/step - loss: 0.4346 - accuracy: 0.8111 - val_loss: 0.4379 - val_accuracy: 0.8067\n",
            "Epoch 32/100\n",
            "219/219 [==============================] - 1s 3ms/step - loss: 0.4339 - accuracy: 0.8109 - val_loss: 0.4386 - val_accuracy: 0.8067\n",
            "Epoch 33/100\n",
            "219/219 [==============================] - 1s 3ms/step - loss: 0.4334 - accuracy: 0.8113 - val_loss: 0.4372 - val_accuracy: 0.8083\n",
            "Epoch 34/100\n",
            "219/219 [==============================] - 1s 3ms/step - loss: 0.4330 - accuracy: 0.8114 - val_loss: 0.4365 - val_accuracy: 0.8080\n",
            "Epoch 35/100\n",
            "219/219 [==============================] - 1s 3ms/step - loss: 0.4324 - accuracy: 0.8109 - val_loss: 0.4362 - val_accuracy: 0.8087\n",
            "Epoch 36/100\n",
            "219/219 [==============================] - 1s 3ms/step - loss: 0.4318 - accuracy: 0.8121 - val_loss: 0.4357 - val_accuracy: 0.8087\n",
            "Epoch 37/100\n",
            "219/219 [==============================] - 1s 3ms/step - loss: 0.4315 - accuracy: 0.8114 - val_loss: 0.4375 - val_accuracy: 0.8077\n",
            "Epoch 38/100\n",
            "219/219 [==============================] - 1s 2ms/step - loss: 0.4313 - accuracy: 0.8126 - val_loss: 0.4358 - val_accuracy: 0.8093\n",
            "Epoch 39/100\n",
            "219/219 [==============================] - 1s 3ms/step - loss: 0.4306 - accuracy: 0.8127 - val_loss: 0.4343 - val_accuracy: 0.8107\n",
            "Epoch 40/100\n",
            "219/219 [==============================] - 1s 3ms/step - loss: 0.4303 - accuracy: 0.8143 - val_loss: 0.4341 - val_accuracy: 0.8107\n",
            "Epoch 41/100\n",
            "219/219 [==============================] - 1s 2ms/step - loss: 0.4296 - accuracy: 0.8131 - val_loss: 0.4346 - val_accuracy: 0.8103\n",
            "Epoch 42/100\n",
            "219/219 [==============================] - 1s 3ms/step - loss: 0.4296 - accuracy: 0.8126 - val_loss: 0.4335 - val_accuracy: 0.8110\n",
            "Epoch 43/100\n",
            "219/219 [==============================] - 1s 2ms/step - loss: 0.4295 - accuracy: 0.8133 - val_loss: 0.4328 - val_accuracy: 0.8117\n",
            "Epoch 44/100\n",
            "219/219 [==============================] - 1s 3ms/step - loss: 0.4290 - accuracy: 0.8137 - val_loss: 0.4329 - val_accuracy: 0.8107\n",
            "Epoch 45/100\n",
            "219/219 [==============================] - 1s 2ms/step - loss: 0.4286 - accuracy: 0.8123 - val_loss: 0.4342 - val_accuracy: 0.8093\n",
            "Epoch 46/100\n",
            "219/219 [==============================] - 1s 2ms/step - loss: 0.4278 - accuracy: 0.8127 - val_loss: 0.4320 - val_accuracy: 0.8140\n",
            "Epoch 47/100\n",
            "219/219 [==============================] - 1s 2ms/step - loss: 0.4279 - accuracy: 0.8134 - val_loss: 0.4324 - val_accuracy: 0.8133\n",
            "Epoch 48/100\n",
            "219/219 [==============================] - 1s 3ms/step - loss: 0.4278 - accuracy: 0.8151 - val_loss: 0.4313 - val_accuracy: 0.8133\n",
            "Epoch 49/100\n",
            "219/219 [==============================] - 1s 2ms/step - loss: 0.4271 - accuracy: 0.8139 - val_loss: 0.4312 - val_accuracy: 0.8137\n",
            "Epoch 50/100\n",
            "219/219 [==============================] - 1s 3ms/step - loss: 0.4265 - accuracy: 0.8139 - val_loss: 0.4310 - val_accuracy: 0.8143\n",
            "Epoch 51/100\n",
            "219/219 [==============================] - 1s 3ms/step - loss: 0.4263 - accuracy: 0.8166 - val_loss: 0.4313 - val_accuracy: 0.8130\n",
            "Epoch 52/100\n",
            "219/219 [==============================] - 1s 3ms/step - loss: 0.4259 - accuracy: 0.8141 - val_loss: 0.4306 - val_accuracy: 0.8143\n",
            "Epoch 53/100\n",
            "219/219 [==============================] - 1s 3ms/step - loss: 0.4255 - accuracy: 0.8153 - val_loss: 0.4304 - val_accuracy: 0.8137\n",
            "Epoch 54/100\n",
            "219/219 [==============================] - 1s 3ms/step - loss: 0.4253 - accuracy: 0.8157 - val_loss: 0.4302 - val_accuracy: 0.8143\n",
            "Epoch 55/100\n",
            "219/219 [==============================] - 1s 3ms/step - loss: 0.4249 - accuracy: 0.8164 - val_loss: 0.4316 - val_accuracy: 0.8133\n",
            "Epoch 56/100\n",
            "219/219 [==============================] - 1s 2ms/step - loss: 0.4248 - accuracy: 0.8163 - val_loss: 0.4300 - val_accuracy: 0.8143\n",
            "Epoch 57/100\n",
            "219/219 [==============================] - 1s 3ms/step - loss: 0.4243 - accuracy: 0.8179 - val_loss: 0.4301 - val_accuracy: 0.8150\n",
            "Epoch 58/100\n",
            "219/219 [==============================] - 1s 3ms/step - loss: 0.4239 - accuracy: 0.8184 - val_loss: 0.4292 - val_accuracy: 0.8177\n",
            "Epoch 59/100\n",
            "219/219 [==============================] - 0s 2ms/step - loss: 0.4236 - accuracy: 0.8163 - val_loss: 0.4296 - val_accuracy: 0.8153\n",
            "Epoch 60/100\n",
            "219/219 [==============================] - 1s 3ms/step - loss: 0.4232 - accuracy: 0.8179 - val_loss: 0.4290 - val_accuracy: 0.8160\n",
            "Epoch 61/100\n",
            "219/219 [==============================] - 1s 3ms/step - loss: 0.4229 - accuracy: 0.8181 - val_loss: 0.4282 - val_accuracy: 0.8187\n",
            "Epoch 62/100\n",
            "219/219 [==============================] - 1s 3ms/step - loss: 0.4225 - accuracy: 0.8191 - val_loss: 0.4280 - val_accuracy: 0.8173\n",
            "Epoch 63/100\n",
            "219/219 [==============================] - 1s 2ms/step - loss: 0.4222 - accuracy: 0.8177 - val_loss: 0.4274 - val_accuracy: 0.8183\n",
            "Epoch 64/100\n",
            "219/219 [==============================] - 1s 2ms/step - loss: 0.4223 - accuracy: 0.8190 - val_loss: 0.4273 - val_accuracy: 0.8187\n",
            "Epoch 65/100\n",
            "219/219 [==============================] - 1s 2ms/step - loss: 0.4217 - accuracy: 0.8193 - val_loss: 0.4271 - val_accuracy: 0.8203\n",
            "Epoch 66/100\n",
            "219/219 [==============================] - 1s 2ms/step - loss: 0.4219 - accuracy: 0.8189 - val_loss: 0.4270 - val_accuracy: 0.8200\n",
            "Epoch 67/100\n",
            "219/219 [==============================] - 1s 2ms/step - loss: 0.4213 - accuracy: 0.8189 - val_loss: 0.4286 - val_accuracy: 0.8160\n",
            "Epoch 68/100\n",
            "219/219 [==============================] - 1s 3ms/step - loss: 0.4213 - accuracy: 0.8200 - val_loss: 0.4269 - val_accuracy: 0.8197\n",
            "Epoch 69/100\n",
            "219/219 [==============================] - 1s 2ms/step - loss: 0.4206 - accuracy: 0.8204 - val_loss: 0.4267 - val_accuracy: 0.8193\n",
            "Epoch 70/100\n",
            "219/219 [==============================] - 1s 3ms/step - loss: 0.4212 - accuracy: 0.8207 - val_loss: 0.4265 - val_accuracy: 0.8227\n",
            "Epoch 71/100\n",
            "219/219 [==============================] - 1s 2ms/step - loss: 0.4207 - accuracy: 0.8196 - val_loss: 0.4262 - val_accuracy: 0.8207\n",
            "Epoch 72/100\n",
            "219/219 [==============================] - 1s 3ms/step - loss: 0.4207 - accuracy: 0.8213 - val_loss: 0.4267 - val_accuracy: 0.8213\n",
            "Epoch 73/100\n",
            "219/219 [==============================] - 1s 3ms/step - loss: 0.4204 - accuracy: 0.8207 - val_loss: 0.4265 - val_accuracy: 0.8190\n",
            "Epoch 74/100\n",
            "219/219 [==============================] - 1s 3ms/step - loss: 0.4201 - accuracy: 0.8201 - val_loss: 0.4269 - val_accuracy: 0.8167\n"
          ]
        }
      ]
    },
    {
      "cell_type": "code",
      "source": [
        "df = pd.DataFrame(history.history)\n",
        "df"
      ],
      "metadata": {
        "colab": {
          "base_uri": "https://localhost:8080/",
          "height": 424
        },
        "id": "09SR5uOwQmI6",
        "outputId": "1bd4e19c-c51c-4f5b-b521-50a8131bc0da"
      },
      "execution_count": 255,
      "outputs": [
        {
          "output_type": "execute_result",
          "data": {
            "text/plain": [
              "        loss  accuracy  val_loss  val_accuracy\n",
              "0   0.546800  0.790000  0.498085      0.801333\n",
              "1   0.492952  0.794000  0.477568      0.799333\n",
              "2   0.478650  0.795000  0.471759      0.799333\n",
              "3   0.471631  0.795286  0.466553      0.798333\n",
              "4   0.466580  0.797571  0.464609      0.799667\n",
              "..       ...       ...       ...           ...\n",
              "69  0.421198  0.820714  0.426454      0.822667\n",
              "70  0.420687  0.819571  0.426204      0.820667\n",
              "71  0.420681  0.821286  0.426709      0.821333\n",
              "72  0.420390  0.820714  0.426504      0.819000\n",
              "73  0.420089  0.820143  0.426925      0.816667\n",
              "\n",
              "[74 rows x 4 columns]"
            ],
            "text/html": [
              "\n",
              "  <div id=\"df-f55faddb-c9fc-457a-aa91-52f99c3e288a\">\n",
              "    <div class=\"colab-df-container\">\n",
              "      <div>\n",
              "<style scoped>\n",
              "    .dataframe tbody tr th:only-of-type {\n",
              "        vertical-align: middle;\n",
              "    }\n",
              "\n",
              "    .dataframe tbody tr th {\n",
              "        vertical-align: top;\n",
              "    }\n",
              "\n",
              "    .dataframe thead th {\n",
              "        text-align: right;\n",
              "    }\n",
              "</style>\n",
              "<table border=\"1\" class=\"dataframe\">\n",
              "  <thead>\n",
              "    <tr style=\"text-align: right;\">\n",
              "      <th></th>\n",
              "      <th>loss</th>\n",
              "      <th>accuracy</th>\n",
              "      <th>val_loss</th>\n",
              "      <th>val_accuracy</th>\n",
              "    </tr>\n",
              "  </thead>\n",
              "  <tbody>\n",
              "    <tr>\n",
              "      <th>0</th>\n",
              "      <td>0.546800</td>\n",
              "      <td>0.790000</td>\n",
              "      <td>0.498085</td>\n",
              "      <td>0.801333</td>\n",
              "    </tr>\n",
              "    <tr>\n",
              "      <th>1</th>\n",
              "      <td>0.492952</td>\n",
              "      <td>0.794000</td>\n",
              "      <td>0.477568</td>\n",
              "      <td>0.799333</td>\n",
              "    </tr>\n",
              "    <tr>\n",
              "      <th>2</th>\n",
              "      <td>0.478650</td>\n",
              "      <td>0.795000</td>\n",
              "      <td>0.471759</td>\n",
              "      <td>0.799333</td>\n",
              "    </tr>\n",
              "    <tr>\n",
              "      <th>3</th>\n",
              "      <td>0.471631</td>\n",
              "      <td>0.795286</td>\n",
              "      <td>0.466553</td>\n",
              "      <td>0.798333</td>\n",
              "    </tr>\n",
              "    <tr>\n",
              "      <th>4</th>\n",
              "      <td>0.466580</td>\n",
              "      <td>0.797571</td>\n",
              "      <td>0.464609</td>\n",
              "      <td>0.799667</td>\n",
              "    </tr>\n",
              "    <tr>\n",
              "      <th>...</th>\n",
              "      <td>...</td>\n",
              "      <td>...</td>\n",
              "      <td>...</td>\n",
              "      <td>...</td>\n",
              "    </tr>\n",
              "    <tr>\n",
              "      <th>69</th>\n",
              "      <td>0.421198</td>\n",
              "      <td>0.820714</td>\n",
              "      <td>0.426454</td>\n",
              "      <td>0.822667</td>\n",
              "    </tr>\n",
              "    <tr>\n",
              "      <th>70</th>\n",
              "      <td>0.420687</td>\n",
              "      <td>0.819571</td>\n",
              "      <td>0.426204</td>\n",
              "      <td>0.820667</td>\n",
              "    </tr>\n",
              "    <tr>\n",
              "      <th>71</th>\n",
              "      <td>0.420681</td>\n",
              "      <td>0.821286</td>\n",
              "      <td>0.426709</td>\n",
              "      <td>0.821333</td>\n",
              "    </tr>\n",
              "    <tr>\n",
              "      <th>72</th>\n",
              "      <td>0.420390</td>\n",
              "      <td>0.820714</td>\n",
              "      <td>0.426504</td>\n",
              "      <td>0.819000</td>\n",
              "    </tr>\n",
              "    <tr>\n",
              "      <th>73</th>\n",
              "      <td>0.420089</td>\n",
              "      <td>0.820143</td>\n",
              "      <td>0.426925</td>\n",
              "      <td>0.816667</td>\n",
              "    </tr>\n",
              "  </tbody>\n",
              "</table>\n",
              "<p>74 rows × 4 columns</p>\n",
              "</div>\n",
              "      <button class=\"colab-df-convert\" onclick=\"convertToInteractive('df-f55faddb-c9fc-457a-aa91-52f99c3e288a')\"\n",
              "              title=\"Convert this dataframe to an interactive table.\"\n",
              "              style=\"display:none;\">\n",
              "        \n",
              "  <svg xmlns=\"http://www.w3.org/2000/svg\" height=\"24px\"viewBox=\"0 0 24 24\"\n",
              "       width=\"24px\">\n",
              "    <path d=\"M0 0h24v24H0V0z\" fill=\"none\"/>\n",
              "    <path d=\"M18.56 5.44l.94 2.06.94-2.06 2.06-.94-2.06-.94-.94-2.06-.94 2.06-2.06.94zm-11 1L8.5 8.5l.94-2.06 2.06-.94-2.06-.94L8.5 2.5l-.94 2.06-2.06.94zm10 10l.94 2.06.94-2.06 2.06-.94-2.06-.94-.94-2.06-.94 2.06-2.06.94z\"/><path d=\"M17.41 7.96l-1.37-1.37c-.4-.4-.92-.59-1.43-.59-.52 0-1.04.2-1.43.59L10.3 9.45l-7.72 7.72c-.78.78-.78 2.05 0 2.83L4 21.41c.39.39.9.59 1.41.59.51 0 1.02-.2 1.41-.59l7.78-7.78 2.81-2.81c.8-.78.8-2.07 0-2.86zM5.41 20L4 18.59l7.72-7.72 1.47 1.35L5.41 20z\"/>\n",
              "  </svg>\n",
              "      </button>\n",
              "      \n",
              "  <style>\n",
              "    .colab-df-container {\n",
              "      display:flex;\n",
              "      flex-wrap:wrap;\n",
              "      gap: 12px;\n",
              "    }\n",
              "\n",
              "    .colab-df-convert {\n",
              "      background-color: #E8F0FE;\n",
              "      border: none;\n",
              "      border-radius: 50%;\n",
              "      cursor: pointer;\n",
              "      display: none;\n",
              "      fill: #1967D2;\n",
              "      height: 32px;\n",
              "      padding: 0 0 0 0;\n",
              "      width: 32px;\n",
              "    }\n",
              "\n",
              "    .colab-df-convert:hover {\n",
              "      background-color: #E2EBFA;\n",
              "      box-shadow: 0px 1px 2px rgba(60, 64, 67, 0.3), 0px 1px 3px 1px rgba(60, 64, 67, 0.15);\n",
              "      fill: #174EA6;\n",
              "    }\n",
              "\n",
              "    [theme=dark] .colab-df-convert {\n",
              "      background-color: #3B4455;\n",
              "      fill: #D2E3FC;\n",
              "    }\n",
              "\n",
              "    [theme=dark] .colab-df-convert:hover {\n",
              "      background-color: #434B5C;\n",
              "      box-shadow: 0px 1px 3px 1px rgba(0, 0, 0, 0.15);\n",
              "      filter: drop-shadow(0px 1px 2px rgba(0, 0, 0, 0.3));\n",
              "      fill: #FFFFFF;\n",
              "    }\n",
              "  </style>\n",
              "\n",
              "      <script>\n",
              "        const buttonEl =\n",
              "          document.querySelector('#df-f55faddb-c9fc-457a-aa91-52f99c3e288a button.colab-df-convert');\n",
              "        buttonEl.style.display =\n",
              "          google.colab.kernel.accessAllowed ? 'block' : 'none';\n",
              "\n",
              "        async function convertToInteractive(key) {\n",
              "          const element = document.querySelector('#df-f55faddb-c9fc-457a-aa91-52f99c3e288a');\n",
              "          const dataTable =\n",
              "            await google.colab.kernel.invokeFunction('convertToInteractive',\n",
              "                                                     [key], {});\n",
              "          if (!dataTable) return;\n",
              "\n",
              "          const docLinkHtml = 'Like what you see? Visit the ' +\n",
              "            '<a target=\"_blank\" href=https://colab.research.google.com/notebooks/data_table.ipynb>data table notebook</a>'\n",
              "            + ' to learn more about interactive tables.';\n",
              "          element.innerHTML = '';\n",
              "          dataTable['output_type'] = 'display_data';\n",
              "          await google.colab.output.renderOutput(dataTable, element);\n",
              "          const docLink = document.createElement('div');\n",
              "          docLink.innerHTML = docLinkHtml;\n",
              "          element.appendChild(docLink);\n",
              "        }\n",
              "      </script>\n",
              "    </div>\n",
              "  </div>\n",
              "  "
            ]
          },
          "metadata": {},
          "execution_count": 255
        }
      ]
    },
    {
      "cell_type": "code",
      "source": [
        "from tensorflow.keras.utils import plot_model\n",
        "plot_model(ann, show_shapes = True)"
      ],
      "metadata": {
        "colab": {
          "base_uri": "https://localhost:8080/",
          "height": 312
        },
        "id": "JDp7fEg6ZNe1",
        "outputId": "b1349b1b-7c13-4601-fef2-289c1d3913e5"
      },
      "execution_count": 261,
      "outputs": [
        {
          "output_type": "execute_result",
          "data": {
            "text/plain": [
              "<IPython.core.display.Image object>"
            ],
            "image/png": "[encoded data removed]"
          },
          "metadata": {},
          "execution_count": 261
        }
      ]
    },
    {
      "cell_type": "code",
      "source": [
        "df.plot()\n",
        "plt.grid()\n",
        "plt.yticks(np.arange(0, 1, 0.1))\n",
        "plt.show()"
      ],
      "metadata": {
        "colab": {
          "base_uri": "https://localhost:8080/",
          "height": 269
        },
        "id": "HvYIkWriQrYi",
        "outputId": "6ff1ba99-0863-44eb-b86e-9023c342a31c"
      },
      "execution_count": 258,
      "outputs": [
        {
          "output_type": "display_data",
          "data": {
            "text/plain": [
              "<Figure size 432x288 with 1 Axes>"
            ],
            "image/png": "[encoded data removed]"
          },
          "metadata": {
            "needs_background": "light"
          }
        }
      ]
    }
  ]
}